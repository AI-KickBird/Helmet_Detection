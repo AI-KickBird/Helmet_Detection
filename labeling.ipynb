{
 "cells": [
  {
   "cell_type": "markdown",
   "metadata": {},
   "source": [
    "## 라벨링"
   ]
  },
  {
   "cell_type": "code",
   "execution_count": 10,
   "metadata": {},
   "outputs": [
    {
     "name": "stdout",
     "output_type": "stream",
     "text": [
      "완료\n"
     ]
    }
   ],
   "source": [
    "import os\n",
    "\n",
    "# 라벨링 파일이 저장된 디렉토리 경로\n",
    "labels_dir =  r\"C:\\Users\\user\\Desktop\\Bike Helmet Detection.v1i.yolov8-obb\\valid\\labels\"\n",
    "\n",
    "# 수정 대상 클래스 ID와 새 클래스 ID\n",
    "old_class_id = \"2\"  # 기존 클래스 ID (수정 전 값)\n",
    "new_class_id = \"1\"  # 새 클래스 ID (수정 후 값)\n",
    "\n",
    "# 모든 라벨링 파일 수정\n",
    "for label_file in os.listdir(labels_dir):\n",
    "    if label_file.endswith(\".txt\"):  # .txt 파일만 처리\n",
    "        file_path = os.path.join(labels_dir, label_file)\n",
    "\n",
    "        # 라벨 파일 읽기\n",
    "        with open(file_path, \"r\") as f:\n",
    "            lines = f.readlines()\n",
    "\n",
    "        # 수정된 내용 저장\n",
    "        updated_lines = []\n",
    "        for line in lines:\n",
    "            parts = line.strip().split()\n",
    "            if parts and parts[0] == old_class_id:  # 첫 번째 값이 old_class_id와 일치하는 경우\n",
    "                parts[0] = new_class_id  # 클래스 ID를 수정\n",
    "            updated_lines.append(\" \".join(parts))\n",
    "\n",
    "        # 라벨 파일 다시 쓰기\n",
    "        with open(file_path, \"w\") as f:\n",
    "            f.write(\"\\n\".join(updated_lines))\n",
    "\n",
    "print(\"완료\")"
   ]
  }
 ],
 "metadata": {
  "kernelspec": {
   "display_name": "ultralytics-env",
   "language": "python",
   "name": "python3"
  },
  "language_info": {
   "codemirror_mode": {
    "name": "ipython",
    "version": 3
   },
   "file_extension": ".py",
   "mimetype": "text/x-python",
   "name": "python",
   "nbconvert_exporter": "python",
   "pygments_lexer": "ipython3",
   "version": "3.11.11"
  }
 },
 "nbformat": 4,
 "nbformat_minor": 2
}
