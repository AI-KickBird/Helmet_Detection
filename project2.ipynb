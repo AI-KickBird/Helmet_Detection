{
 "cells": [
  {
   "cell_type": "code",
   "execution_count": 2,
   "metadata": {},
   "outputs": [
    {
     "name": "stdout",
     "output_type": "stream",
     "text": [
      "Requirement already satisfied: ultralytics in c:\\users\\user\\anaconda3\\envs\\ultralytics-env\\lib\\site-packages (8.3.62)\n",
      "Requirement already satisfied: numpy>=1.23.0 in c:\\users\\user\\anaconda3\\envs\\ultralytics-env\\lib\\site-packages (from ultralytics) (1.26.4)\n",
      "Requirement already satisfied: matplotlib>=3.3.0 in c:\\users\\user\\anaconda3\\envs\\ultralytics-env\\lib\\site-packages (from ultralytics) (3.10.0)\n",
      "Requirement already satisfied: opencv-python>=4.6.0 in c:\\users\\user\\anaconda3\\envs\\ultralytics-env\\lib\\site-packages (from ultralytics) (4.10.0)\n",
      "Requirement already satisfied: pillow>=7.1.2 in c:\\users\\user\\anaconda3\\envs\\ultralytics-env\\lib\\site-packages (from ultralytics) (11.0.0)\n",
      "Requirement already satisfied: pyyaml>=5.3.1 in c:\\users\\user\\anaconda3\\envs\\ultralytics-env\\lib\\site-packages (from ultralytics) (6.0.2)\n",
      "Requirement already satisfied: requests>=2.23.0 in c:\\users\\user\\anaconda3\\envs\\ultralytics-env\\lib\\site-packages (from ultralytics) (2.32.3)\n",
      "Requirement already satisfied: scipy>=1.4.1 in c:\\users\\user\\anaconda3\\envs\\ultralytics-env\\lib\\site-packages (from ultralytics) (1.15.1)\n",
      "Requirement already satisfied: torch>=1.8.0 in c:\\users\\user\\anaconda3\\envs\\ultralytics-env\\lib\\site-packages (from ultralytics) (2.5.1)\n",
      "Requirement already satisfied: torchvision>=0.9.0 in c:\\users\\user\\anaconda3\\envs\\ultralytics-env\\lib\\site-packages (from ultralytics) (0.20.1)\n",
      "Requirement already satisfied: tqdm>=4.64.0 in c:\\users\\user\\anaconda3\\envs\\ultralytics-env\\lib\\site-packages (from ultralytics) (4.67.1)\n",
      "Requirement already satisfied: psutil in c:\\users\\user\\anaconda3\\envs\\ultralytics-env\\lib\\site-packages (from ultralytics) (6.1.1)\n",
      "Requirement already satisfied: py-cpuinfo in c:\\users\\user\\anaconda3\\envs\\ultralytics-env\\lib\\site-packages (from ultralytics) (9.0.0)\n",
      "Requirement already satisfied: pandas>=1.1.4 in c:\\users\\user\\anaconda3\\envs\\ultralytics-env\\lib\\site-packages (from ultralytics) (2.2.3)\n",
      "Requirement already satisfied: seaborn>=0.11.0 in c:\\users\\user\\anaconda3\\envs\\ultralytics-env\\lib\\site-packages (from ultralytics) (0.13.2)\n",
      "Requirement already satisfied: ultralytics-thop>=2.0.0 in c:\\users\\user\\anaconda3\\envs\\ultralytics-env\\lib\\site-packages (from ultralytics) (2.0.14)\n",
      "Requirement already satisfied: contourpy>=1.0.1 in c:\\users\\user\\anaconda3\\envs\\ultralytics-env\\lib\\site-packages (from matplotlib>=3.3.0->ultralytics) (1.3.1)\n",
      "Requirement already satisfied: cycler>=0.10 in c:\\users\\user\\anaconda3\\envs\\ultralytics-env\\lib\\site-packages (from matplotlib>=3.3.0->ultralytics) (0.12.1)\n",
      "Requirement already satisfied: fonttools>=4.22.0 in c:\\users\\user\\anaconda3\\envs\\ultralytics-env\\lib\\site-packages (from matplotlib>=3.3.0->ultralytics) (4.55.3)\n",
      "Requirement already satisfied: kiwisolver>=1.3.1 in c:\\users\\user\\anaconda3\\envs\\ultralytics-env\\lib\\site-packages (from matplotlib>=3.3.0->ultralytics) (1.4.7)\n",
      "Requirement already satisfied: packaging>=20.0 in c:\\users\\user\\anaconda3\\envs\\ultralytics-env\\lib\\site-packages (from matplotlib>=3.3.0->ultralytics) (24.2)\n",
      "Requirement already satisfied: pyparsing>=2.3.1 in c:\\users\\user\\anaconda3\\envs\\ultralytics-env\\lib\\site-packages (from matplotlib>=3.3.0->ultralytics) (3.2.1)\n",
      "Requirement already satisfied: python-dateutil>=2.7 in c:\\users\\user\\anaconda3\\envs\\ultralytics-env\\lib\\site-packages (from matplotlib>=3.3.0->ultralytics) (2.9.0.post0)\n",
      "Requirement already satisfied: pytz>=2020.1 in c:\\users\\user\\anaconda3\\envs\\ultralytics-env\\lib\\site-packages (from pandas>=1.1.4->ultralytics) (2024.1)\n",
      "Requirement already satisfied: tzdata>=2022.7 in c:\\users\\user\\anaconda3\\envs\\ultralytics-env\\lib\\site-packages (from pandas>=1.1.4->ultralytics) (2024.2)\n",
      "Requirement already satisfied: charset_normalizer<4,>=2 in c:\\users\\user\\anaconda3\\envs\\ultralytics-env\\lib\\site-packages (from requests>=2.23.0->ultralytics) (3.4.1)\n",
      "Requirement already satisfied: idna<4,>=2.5 in c:\\users\\user\\anaconda3\\envs\\ultralytics-env\\lib\\site-packages (from requests>=2.23.0->ultralytics) (3.10)\n",
      "Requirement already satisfied: urllib3<3,>=1.21.1 in c:\\users\\user\\anaconda3\\envs\\ultralytics-env\\lib\\site-packages (from requests>=2.23.0->ultralytics) (2.3.0)\n",
      "Requirement already satisfied: certifi>=2017.4.17 in c:\\users\\user\\anaconda3\\envs\\ultralytics-env\\lib\\site-packages (from requests>=2.23.0->ultralytics) (2024.12.14)\n",
      "Requirement already satisfied: filelock in c:\\users\\user\\anaconda3\\envs\\ultralytics-env\\lib\\site-packages (from torch>=1.8.0->ultralytics) (3.16.1)\n",
      "Requirement already satisfied: typing-extensions>=4.8.0 in c:\\users\\user\\anaconda3\\envs\\ultralytics-env\\lib\\site-packages (from torch>=1.8.0->ultralytics) (4.12.2)\n",
      "Requirement already satisfied: sympy==1.13.1 in c:\\users\\user\\anaconda3\\envs\\ultralytics-env\\lib\\site-packages (from torch>=1.8.0->ultralytics) (1.13.1)\n",
      "Requirement already satisfied: networkx in c:\\users\\user\\anaconda3\\envs\\ultralytics-env\\lib\\site-packages (from torch>=1.8.0->ultralytics) (3.4.2)\n",
      "Requirement already satisfied: jinja2 in c:\\users\\user\\anaconda3\\envs\\ultralytics-env\\lib\\site-packages (from torch>=1.8.0->ultralytics) (3.1.5)\n",
      "Requirement already satisfied: fsspec in c:\\users\\user\\anaconda3\\envs\\ultralytics-env\\lib\\site-packages (from torch>=1.8.0->ultralytics) (2024.12.0)\n",
      "Requirement already satisfied: mpmath<1.4,>=1.1.0 in c:\\users\\user\\anaconda3\\envs\\ultralytics-env\\lib\\site-packages (from sympy==1.13.1->torch>=1.8.0->ultralytics) (1.3.0)\n",
      "Requirement already satisfied: colorama in c:\\users\\user\\anaconda3\\envs\\ultralytics-env\\lib\\site-packages (from tqdm>=4.64.0->ultralytics) (0.4.6)\n",
      "Requirement already satisfied: six>=1.5 in c:\\users\\user\\anaconda3\\envs\\ultralytics-env\\lib\\site-packages (from python-dateutil>=2.7->matplotlib>=3.3.0->ultralytics) (1.17.0)\n",
      "Requirement already satisfied: MarkupSafe>=2.0 in c:\\users\\user\\anaconda3\\envs\\ultralytics-env\\lib\\site-packages (from jinja2->torch>=1.8.0->ultralytics) (3.0.2)\n",
      "Note: you may need to restart the kernel to use updated packages.\n"
     ]
    }
   ],
   "source": [
    "%pip install ultralytics\n",
    "\n"
   ]
  },
  {
   "cell_type": "code",
   "execution_count": 3,
   "metadata": {},
   "outputs": [],
   "source": [
    "import os\n",
    "import yaml\n",
    "import matplotlib.pyplot as plt\n",
    "import seaborn as sns\n",
    "from PIL import Image\n",
    "from ultralytics import YOLO\n",
    "import glob"
   ]
  },
  {
   "cell_type": "markdown",
   "metadata": {},
   "source": []
  },
  {
   "cell_type": "code",
   "execution_count": 4,
   "metadata": {},
   "outputs": [],
   "source": [
    "INPUT_DIR = r\"C:/Users/user/Documents/AI_project_clone/data_set_helmet/css-data\"\n",
    "WORK_DIR = r\"C:/Users/user/Documents/AI_project_clone//working\""
   ]
  },
  {
   "cell_type": "code",
   "execution_count": 4,
   "metadata": {},
   "outputs": [
    {
     "name": "stdout",
     "output_type": "stream",
     "text": [
      "라벨 파일 수정이 완료되었습니다.\n"
     ]
    }
   ],
   "source": [
    "import os\n",
    "\n",
    "# 데이터 경로 설정\n",
    "LABELS_DIR = os.path.join(INPUT_DIR, 'train/labels')  # train 라벨 디렉토리\n",
    "ALLOWED_CLASSES = {'0': 'helmet', '2': 'No-helmet', '5': 'person'}  # 유지할 클래스 ID\n",
    "CLASS_MAPPING = {'0': '0', '2': '1', '5': '2'}  # 새로운 클래스 ID 매핑\n",
    "\n",
    "def update_labels(labels_dir):\n",
    "    for file in os.listdir(labels_dir):\n",
    "        file_path = os.path.join(labels_dir, file)\n",
    "        \n",
    "        updated_lines = []\n",
    "        with open(file_path, 'r') as f:\n",
    "            lines = f.readlines()\n",
    "            for line in lines:\n",
    "                cls_id, *coords = line.split()\n",
    "                if cls_id in ALLOWED_CLASSES:  # 허용된 클래스만 유지\n",
    "                    new_cls_id = CLASS_MAPPING[cls_id]  # 클래스 ID 재매핑\n",
    "                    updated_lines.append(f\"{new_cls_id} \" + \" \".join(coords) + \"\\n\")\n",
    "        \n",
    "        # 라벨 파일 업데이트\n",
    "        with open(file_path, 'w') as f:\n",
    "            f.writelines(updated_lines)\n",
    "\n",
    "# train, valid, test 디렉토리의 라벨 파일 수정\n",
    "for mode in ['train', 'valid', 'test']:\n",
    "    labels_dir = os.path.join(INPUT_DIR, f\"{mode}/labels\")\n",
    "    update_labels(labels_dir)\n",
    "\n",
    "print(\"라벨 파일 수정이 완료되었습니다.\")\n"
   ]
  },
  {
   "cell_type": "code",
   "execution_count": null,
   "metadata": {},
   "outputs": [],
   "source": [
    "\n",
    "\n",
    "# WORK_DIR 디렉토리 생성\n",
    "os.makedirs(WORK_DIR, exist_ok=True)\n",
    "\n",
    "# 수정된 클래스 설정\n",
    "num_classes = 3\n",
    "classes = ['helmet', 'No-helmet', 'Person']  # Hardhat -> helmet, NO-Hardhat -> No-helmet\n",
    "\n",
    "# data.yaml 파일 생성\n",
    "dict_file = {\n",
    "    'train': os.path.join(INPUT_DIR, 'train/images'),\n",
    "    'val': os.path.join(INPUT_DIR, 'valid/images'),\n",
    "    'test': os.path.join(INPUT_DIR, 'test/images'),\n",
    "    'nc': num_classes,\n",
    "    'names': classes\n",
    "}\n",
    "\n",
    "# data.yaml 저장\n",
    "data_yaml_path = os.path.join(WORK_DIR, 'data.yaml')\n",
    "with open(data_yaml_path, 'w+') as file:\n",
    "    yaml.dump(dict_file, file)\n",
    "\n",
    "print(f\"'data.yaml' 파일이 '{data_yaml_path}'에 저장되었습니다.\")\n",
    "\n",
    "# 라벨 데이터 수정 (Hardhat -> helmet, NO-Hardhat -> No-helmet, Person 그대로, 나머지 제거)\n",
    "ALLOWED_CLASSES = {'0': 'helmet', '2': 'No-helmet', '5': 'Person'}  # 기존 클래스 ID 매핑\n",
    "CLASS_MAPPING = {'0': '0', '2': '1', '5': '2'}  # 새로운 클래스 ID 매핑\n",
    "\n",
    "\n",
    "def update_labels(labels_dir):\n",
    "    for file in os.listdir(labels_dir):\n",
    "        file_path = os.path.join(labels_dir, file)\n",
    "        \n",
    "        updated_lines = []\n",
    "        with open(file_path, 'r') as f:\n",
    "            lines = f.readlines()\n",
    "            for line in lines:\n",
    "                cls_id, *coords = line.split()\n",
    "                if cls_id in ALLOWED_CLASSES:  # 허용된 클래스만 유지\n",
    "                    new_cls_id = CLASS_MAPPING[cls_id]  # 클래스 ID 재매핑\n",
    "                    updated_lines.append(f\"{new_cls_id} \" + \" \".join(coords) + \"\\n\")\n",
    "        \n",
    "        # 라벨 파일 업데이트\n",
    "        with open(file_path, 'w') as f:\n",
    "            f.writelines(updated_lines)\n",
    "\n",
    "\n",
    "# train, valid, test 디렉토리의 라벨 파일 수정\n",
    "for mode in ['train', 'valid', 'test']:\n",
    "    labels_dir = os.path.join(INPUT_DIR, f\"{mode}/labels\")\n",
    "    update_labels(labels_dir)\n",
    "\n",
    "print(\"라벨 파일 수정이 완료되었습니다.\")\n",
    "\n",
    "# 데이터셋 크기 출력\n",
    "for mode in ['train', 'valid', 'test']:\n",
    "    files = glob.glob(os.path.join(INPUT_DIR, mode, 'images', '*'))\n",
    "    print(f'{mode} set size: {len(files)}\\n')\n",
    "\n",
    "# YOLOv8 모델 학습\n",
    "model = YOLO('yolov8n.pt')\n",
    "\n",
    "model.train(\n",
    "    data=data_yaml_path,\n",
    "    task='detect',\n",
    "    imgsz=640,\n",
    "    epochs=30,\n",
    "    batch=16,\n",
    "    mode='train',\n",
    "    name='yolov8n_v1_train'\n",
    ")\n",
    "\n",
    "print(\"Training completed!\")\n"
   ]
  },
  {
   "cell_type": "code",
   "execution_count": null,
   "metadata": {},
   "outputs": [],
   "source": [
    "from ultralytics import YOLO\n",
    "import cv2\n",
    "\n",
    "# 학습된 모델 로드\n",
    "model = YOLO('runs/detect/yolov8n_v1_train/weights/best.pt')  # 학습 완료된 모델 경로\n",
    "\n",
    "# OpenCV를 사용하여 웹캠 열기\n",
    "cap = cv2.VideoCapture(0)  # 0은 기본 카메라. 다른 카메라를 사용하려면 1 또는 다른 번호로 변경\n",
    "\n",
    "if not cap.isOpened():\n",
    "    print(\"Error: Could not open webcam.\")\n",
    "    exit()\n",
    "\n",
    "# 카메라에서 실시간 객체 탐지\n",
    "while True:\n",
    "    ret, frame = cap.read()\n",
    "    if not ret:\n",
    "        print(\"Error: Failed to capture image.\")\n",
    "        break\n",
    "\n",
    "    # YOLO 모델로 프레임 추론\n",
    "    results = model.predict(source=frame, save=False, show=False)\n",
    "\n",
    "    # 탐지 결과를 그리기\n",
    "    annotated_frame = results[0].plot()  # 결과를 그린 프레임\n",
    "\n",
    "    # 화면에 표시\n",
    "    cv2.imshow('YOLOv8 Real-time Detection', annotated_frame)\n",
    "\n",
    "    # 'q' 키를 누르면 종료\n",
    "    if cv2.waitKey(1) & 0xFF == ord('q'):\n",
    "        break\n",
    "\n",
    "# 자원 해제\n",
    "cap.release()\n",
    "cv2.destroyAllWindows()\n"
   ]
  },
  {
   "cell_type": "code",
   "execution_count": null,
   "metadata": {},
   "outputs": [],
   "source": [
    "%pip install ultralytics"
   ]
  },
  {
   "cell_type": "markdown",
   "metadata": {},
   "source": [
    "## with helmet,no helmet"
   ]
  },
  {
   "cell_type": "code",
   "execution_count": 6,
   "metadata": {},
   "outputs": [
    {
     "name": "stdout",
     "output_type": "stream",
     "text": [
      "New https://pypi.org/project/ultralytics/8.3.64 available  Update with 'pip install -U ultralytics'\n",
      "Ultralytics 8.3.62  Python-3.11.11 torch-2.5.1 CUDA:0 (NVIDIA GeForce GTX 1060, 6144MiB)\n",
      "\u001b[34m\u001b[1mengine\\trainer: \u001b[0mtask=detect, mode=train, model=yolov8n.pt, data=C:\\Users\\user\\Documents\\AI_project_clone\\dataset\\data.yaml, epochs=50, time=None, patience=100, batch=16, imgsz=640, save=True, save_period=-1, cache=False, device=None, workers=8, project=helmet_detection, name=helmet_detection_model, exist_ok=False, pretrained=True, optimizer=auto, verbose=True, seed=0, deterministic=True, single_cls=False, rect=False, cos_lr=False, close_mosaic=10, resume=False, amp=True, fraction=1.0, profile=False, freeze=None, multi_scale=False, overlap_mask=True, mask_ratio=4, dropout=0.0, val=True, split=val, save_json=False, save_hybrid=False, conf=None, iou=0.7, max_det=300, half=False, dnn=False, plots=True, source=None, vid_stride=1, stream_buffer=False, visualize=False, augment=False, agnostic_nms=False, classes=None, retina_masks=False, embed=None, show=False, save_frames=False, save_txt=False, save_conf=False, save_crop=False, show_labels=True, show_conf=True, show_boxes=True, line_width=None, format=torchscript, keras=False, optimize=False, int8=False, dynamic=False, simplify=True, opset=None, workspace=None, nms=False, lr0=0.01, lrf=0.01, momentum=0.937, weight_decay=0.0005, warmup_epochs=3.0, warmup_momentum=0.8, warmup_bias_lr=0.1, box=7.5, cls=0.5, dfl=1.5, pose=12.0, kobj=1.0, nbs=64, hsv_h=0.015, hsv_s=0.7, hsv_v=0.4, degrees=0.0, translate=0.1, scale=0.5, shear=0.0, perspective=0.0, flipud=0.0, fliplr=0.5, bgr=0.0, mosaic=1.0, mixup=0.0, copy_paste=0.0, copy_paste_mode=flip, auto_augment=randaugment, erasing=0.4, crop_fraction=1.0, cfg=None, tracker=botsort.yaml, save_dir=helmet_detection\\helmet_detection_model\n",
      "Overriding model.yaml nc=80 with nc=3\n",
      "\n",
      "                   from  n    params  module                                       arguments                     \n",
      "  0                  -1  1       464  ultralytics.nn.modules.conv.Conv             [3, 16, 3, 2]                 \n",
      "  1                  -1  1      4672  ultralytics.nn.modules.conv.Conv             [16, 32, 3, 2]                \n",
      "  2                  -1  1      7360  ultralytics.nn.modules.block.C2f             [32, 32, 1, True]             \n",
      "  3                  -1  1     18560  ultralytics.nn.modules.conv.Conv             [32, 64, 3, 2]                \n",
      "  4                  -1  2     49664  ultralytics.nn.modules.block.C2f             [64, 64, 2, True]             \n",
      "  5                  -1  1     73984  ultralytics.nn.modules.conv.Conv             [64, 128, 3, 2]               \n",
      "  6                  -1  2    197632  ultralytics.nn.modules.block.C2f             [128, 128, 2, True]           \n",
      "  7                  -1  1    295424  ultralytics.nn.modules.conv.Conv             [128, 256, 3, 2]              \n",
      "  8                  -1  1    460288  ultralytics.nn.modules.block.C2f             [256, 256, 1, True]           \n",
      "  9                  -1  1    164608  ultralytics.nn.modules.block.SPPF            [256, 256, 5]                 \n",
      " 10                  -1  1         0  torch.nn.modules.upsampling.Upsample         [None, 2, 'nearest']          \n",
      " 11             [-1, 6]  1         0  ultralytics.nn.modules.conv.Concat           [1]                           \n",
      " 12                  -1  1    148224  ultralytics.nn.modules.block.C2f             [384, 128, 1]                 \n",
      " 13                  -1  1         0  torch.nn.modules.upsampling.Upsample         [None, 2, 'nearest']          \n",
      " 14             [-1, 4]  1         0  ultralytics.nn.modules.conv.Concat           [1]                           \n",
      " 15                  -1  1     37248  ultralytics.nn.modules.block.C2f             [192, 64, 1]                  \n",
      " 16                  -1  1     36992  ultralytics.nn.modules.conv.Conv             [64, 64, 3, 2]                \n",
      " 17            [-1, 12]  1         0  ultralytics.nn.modules.conv.Concat           [1]                           \n",
      " 18                  -1  1    123648  ultralytics.nn.modules.block.C2f             [192, 128, 1]                 \n",
      " 19                  -1  1    147712  ultralytics.nn.modules.conv.Conv             [128, 128, 3, 2]              \n",
      " 20             [-1, 9]  1         0  ultralytics.nn.modules.conv.Concat           [1]                           \n",
      " 21                  -1  1    493056  ultralytics.nn.modules.block.C2f             [384, 256, 1]                 \n",
      " 22        [15, 18, 21]  1    751897  ultralytics.nn.modules.head.Detect           [3, [64, 128, 256]]           \n",
      "Model summary: 225 layers, 3,011,433 parameters, 3,011,417 gradients, 8.2 GFLOPs\n",
      "\n",
      "Transferred 319/355 items from pretrained weights\n",
      "Freezing layer 'model.22.dfl.conv.weight'\n",
      "\u001b[34m\u001b[1mAMP: \u001b[0mrunning Automatic Mixed Precision (AMP) checks...\n",
      "\u001b[34m\u001b[1mAMP: \u001b[0mchecks passed \n"
     ]
    },
    {
     "name": "stderr",
     "output_type": "stream",
     "text": [
      "\u001b[34m\u001b[1mtrain: \u001b[0mScanning C:\\Users\\user\\Documents\\AI_project_clone\\dataset\\train\\labels... 1364 images, 0 backgrounds, 0 corrupt: 100%|██████████| 1364/1364 [00:02<00:00, 520.74it/s]\n"
     ]
    },
    {
     "name": "stdout",
     "output_type": "stream",
     "text": [
      "\u001b[34m\u001b[1mtrain: \u001b[0mNew cache created: C:\\Users\\user\\Documents\\AI_project_clone\\dataset\\train\\labels.cache\n",
      "WARNING  Box and segment counts should be equal, but got len(segments) = 368, len(boxes) = 1467. To resolve this only boxes will be used and all segments will be removed. To avoid this please supply either a detect or segment dataset, not a detect-segment mixed dataset.\n"
     ]
    },
    {
     "name": "stderr",
     "output_type": "stream",
     "text": [
      "\u001b[34m\u001b[1mval: \u001b[0mScanning C:\\Users\\user\\Documents\\AI_project_clone\\dataset\\valid\\labels... 387 images, 0 backgrounds, 0 corrupt: 100%|██████████| 387/387 [00:02<00:00, 189.60it/s]\n"
     ]
    },
    {
     "name": "stdout",
     "output_type": "stream",
     "text": [
      "\u001b[34m\u001b[1mval: \u001b[0mNew cache created: C:\\Users\\user\\Documents\\AI_project_clone\\dataset\\valid\\labels.cache\n",
      "WARNING  Box and segment counts should be equal, but got len(segments) = 112, len(boxes) = 424. To resolve this only boxes will be used and all segments will be removed. To avoid this please supply either a detect or segment dataset, not a detect-segment mixed dataset.\n",
      "Plotting labels to helmet_detection\\helmet_detection_model\\labels.jpg... \n",
      "\u001b[34m\u001b[1moptimizer:\u001b[0m 'optimizer=auto' found, ignoring 'lr0=0.01' and 'momentum=0.937' and determining best 'optimizer', 'lr0' and 'momentum' automatically... \n",
      "\u001b[34m\u001b[1moptimizer:\u001b[0m AdamW(lr=0.001429, momentum=0.9) with parameter groups 57 weight(decay=0.0), 64 weight(decay=0.0005), 63 bias(decay=0.0)\n",
      "Image sizes 640 train, 640 val\n",
      "Using 6 dataloader workers\n",
      "Logging results to \u001b[1mhelmet_detection\\helmet_detection_model\u001b[0m\n",
      "Starting training for 50 epochs...\n",
      "\n",
      "      Epoch    GPU_mem   box_loss   cls_loss   dfl_loss  Instances       Size\n"
     ]
    },
    {
     "name": "stderr",
     "output_type": "stream",
     "text": [
      "       1/50      2.35G     0.9522      2.111      1.256         11        640: 100%|██████████| 86/86 [00:32<00:00,  2.66it/s]\n",
      "                 Class     Images  Instances      Box(P          R      mAP50  mAP50-95): 100%|██████████| 13/13 [00:03<00:00,  3.43it/s]\n"
     ]
    },
    {
     "name": "stdout",
     "output_type": "stream",
     "text": [
      "                   all        387        424      0.563      0.599       0.59        0.4\n",
      "\n",
      "      Epoch    GPU_mem   box_loss   cls_loss   dfl_loss  Instances       Size\n"
     ]
    },
    {
     "name": "stderr",
     "output_type": "stream",
     "text": [
      "       2/50      2.36G     0.9344      1.358      1.188          8        640: 100%|██████████| 86/86 [00:30<00:00,  2.80it/s]\n",
      "                 Class     Images  Instances      Box(P          R      mAP50  mAP50-95): 100%|██████████| 13/13 [00:03<00:00,  3.91it/s]"
     ]
    },
    {
     "name": "stdout",
     "output_type": "stream",
     "text": [
      "                   all        387        424      0.829      0.734      0.816      0.561\n"
     ]
    },
    {
     "name": "stderr",
     "output_type": "stream",
     "text": [
      "\n"
     ]
    },
    {
     "name": "stdout",
     "output_type": "stream",
     "text": [
      "\n",
      "      Epoch    GPU_mem   box_loss   cls_loss   dfl_loss  Instances       Size\n"
     ]
    },
    {
     "name": "stderr",
     "output_type": "stream",
     "text": [
      "       3/50      2.36G     0.9634      1.212      1.206         11        640: 100%|██████████| 86/86 [00:30<00:00,  2.82it/s]\n",
      "                 Class     Images  Instances      Box(P          R      mAP50  mAP50-95): 100%|██████████| 13/13 [00:03<00:00,  3.88it/s]"
     ]
    },
    {
     "name": "stdout",
     "output_type": "stream",
     "text": [
      "                   all        387        424      0.715      0.569      0.672      0.447\n"
     ]
    },
    {
     "name": "stderr",
     "output_type": "stream",
     "text": [
      "\n"
     ]
    },
    {
     "name": "stdout",
     "output_type": "stream",
     "text": [
      "\n",
      "      Epoch    GPU_mem   box_loss   cls_loss   dfl_loss  Instances       Size\n"
     ]
    },
    {
     "name": "stderr",
     "output_type": "stream",
     "text": [
      "       4/50      2.36G     0.9597      1.064      1.204         10        640: 100%|██████████| 86/86 [00:30<00:00,  2.81it/s]\n",
      "                 Class     Images  Instances      Box(P          R      mAP50  mAP50-95): 100%|██████████| 13/13 [00:03<00:00,  3.97it/s]"
     ]
    },
    {
     "name": "stdout",
     "output_type": "stream",
     "text": [
      "                   all        387        424      0.804      0.733      0.846       0.61\n"
     ]
    },
    {
     "name": "stderr",
     "output_type": "stream",
     "text": [
      "\n"
     ]
    },
    {
     "name": "stdout",
     "output_type": "stream",
     "text": [
      "\n",
      "      Epoch    GPU_mem   box_loss   cls_loss   dfl_loss  Instances       Size\n"
     ]
    },
    {
     "name": "stderr",
     "output_type": "stream",
     "text": [
      "       5/50      2.35G     0.9558     0.9789      1.189          9        640: 100%|██████████| 86/86 [00:30<00:00,  2.82it/s]\n",
      "                 Class     Images  Instances      Box(P          R      mAP50  mAP50-95): 100%|██████████| 13/13 [00:03<00:00,  3.67it/s]"
     ]
    },
    {
     "name": "stdout",
     "output_type": "stream",
     "text": [
      "                   all        387        424      0.882      0.783      0.893      0.678\n"
     ]
    },
    {
     "name": "stderr",
     "output_type": "stream",
     "text": [
      "\n"
     ]
    },
    {
     "name": "stdout",
     "output_type": "stream",
     "text": [
      "\n",
      "      Epoch    GPU_mem   box_loss   cls_loss   dfl_loss  Instances       Size\n"
     ]
    },
    {
     "name": "stderr",
     "output_type": "stream",
     "text": [
      "       6/50      2.36G     0.8896     0.8716      1.159         11        640: 100%|██████████| 86/86 [00:31<00:00,  2.76it/s]\n",
      "                 Class     Images  Instances      Box(P          R      mAP50  mAP50-95): 100%|██████████| 13/13 [00:03<00:00,  3.84it/s]"
     ]
    },
    {
     "name": "stdout",
     "output_type": "stream",
     "text": [
      "                   all        387        424      0.885      0.841      0.893      0.655\n"
     ]
    },
    {
     "name": "stderr",
     "output_type": "stream",
     "text": [
      "\n"
     ]
    },
    {
     "name": "stdout",
     "output_type": "stream",
     "text": [
      "\n",
      "      Epoch    GPU_mem   box_loss   cls_loss   dfl_loss  Instances       Size\n"
     ]
    },
    {
     "name": "stderr",
     "output_type": "stream",
     "text": [
      "       7/50      2.34G      0.874     0.7893       1.15         10        640: 100%|██████████| 86/86 [00:30<00:00,  2.80it/s]\n",
      "                 Class     Images  Instances      Box(P          R      mAP50  mAP50-95): 100%|██████████| 13/13 [00:03<00:00,  4.02it/s]"
     ]
    },
    {
     "name": "stdout",
     "output_type": "stream",
     "text": [
      "                   all        387        424      0.823      0.786      0.901      0.672\n"
     ]
    },
    {
     "name": "stderr",
     "output_type": "stream",
     "text": [
      "\n"
     ]
    },
    {
     "name": "stdout",
     "output_type": "stream",
     "text": [
      "\n",
      "      Epoch    GPU_mem   box_loss   cls_loss   dfl_loss  Instances       Size\n"
     ]
    },
    {
     "name": "stderr",
     "output_type": "stream",
     "text": [
      "       8/50      2.36G     0.8483     0.7352      1.127         12        640: 100%|██████████| 86/86 [00:30<00:00,  2.81it/s]\n",
      "                 Class     Images  Instances      Box(P          R      mAP50  mAP50-95): 100%|██████████| 13/13 [00:03<00:00,  3.98it/s]"
     ]
    },
    {
     "name": "stdout",
     "output_type": "stream",
     "text": [
      "                   all        387        424       0.91      0.827      0.889      0.667\n"
     ]
    },
    {
     "name": "stderr",
     "output_type": "stream",
     "text": [
      "\n"
     ]
    },
    {
     "name": "stdout",
     "output_type": "stream",
     "text": [
      "\n",
      "      Epoch    GPU_mem   box_loss   cls_loss   dfl_loss  Instances       Size\n"
     ]
    },
    {
     "name": "stderr",
     "output_type": "stream",
     "text": [
      "       9/50      2.34G     0.8346     0.7279      1.127         10        640: 100%|██████████| 86/86 [00:30<00:00,  2.79it/s]\n",
      "                 Class     Images  Instances      Box(P          R      mAP50  mAP50-95): 100%|██████████| 13/13 [00:03<00:00,  3.49it/s]"
     ]
    },
    {
     "name": "stdout",
     "output_type": "stream",
     "text": [
      "                   all        387        424      0.896      0.878       0.92       0.71\n"
     ]
    },
    {
     "name": "stderr",
     "output_type": "stream",
     "text": [
      "\n"
     ]
    },
    {
     "name": "stdout",
     "output_type": "stream",
     "text": [
      "\n",
      "      Epoch    GPU_mem   box_loss   cls_loss   dfl_loss  Instances       Size\n"
     ]
    },
    {
     "name": "stderr",
     "output_type": "stream",
     "text": [
      "      10/50      2.36G     0.8164     0.6668      1.111         13        640: 100%|██████████| 86/86 [00:30<00:00,  2.78it/s]\n",
      "                 Class     Images  Instances      Box(P          R      mAP50  mAP50-95): 100%|██████████| 13/13 [00:03<00:00,  3.74it/s]"
     ]
    },
    {
     "name": "stdout",
     "output_type": "stream",
     "text": [
      "                   all        387        424      0.925      0.872      0.928      0.747\n"
     ]
    },
    {
     "name": "stderr",
     "output_type": "stream",
     "text": [
      "\n"
     ]
    },
    {
     "name": "stdout",
     "output_type": "stream",
     "text": [
      "\n",
      "      Epoch    GPU_mem   box_loss   cls_loss   dfl_loss  Instances       Size\n"
     ]
    },
    {
     "name": "stderr",
     "output_type": "stream",
     "text": [
      "      11/50      2.34G     0.7851     0.6555      1.097         10        640: 100%|██████████| 86/86 [00:31<00:00,  2.72it/s]\n",
      "                 Class     Images  Instances      Box(P          R      mAP50  mAP50-95): 100%|██████████| 13/13 [00:03<00:00,  3.98it/s]"
     ]
    },
    {
     "name": "stdout",
     "output_type": "stream",
     "text": [
      "                   all        387        424      0.894      0.834      0.888      0.679\n"
     ]
    },
    {
     "name": "stderr",
     "output_type": "stream",
     "text": [
      "\n"
     ]
    },
    {
     "name": "stdout",
     "output_type": "stream",
     "text": [
      "\n",
      "      Epoch    GPU_mem   box_loss   cls_loss   dfl_loss  Instances       Size\n"
     ]
    },
    {
     "name": "stderr",
     "output_type": "stream",
     "text": [
      "      12/50      2.36G      0.758     0.6132      1.091          8        640: 100%|██████████| 86/86 [00:30<00:00,  2.78it/s]\n",
      "                 Class     Images  Instances      Box(P          R      mAP50  mAP50-95): 100%|██████████| 13/13 [00:03<00:00,  3.50it/s]"
     ]
    },
    {
     "name": "stdout",
     "output_type": "stream",
     "text": [
      "                   all        387        424      0.921      0.908      0.948      0.732\n"
     ]
    },
    {
     "name": "stderr",
     "output_type": "stream",
     "text": [
      "\n"
     ]
    },
    {
     "name": "stdout",
     "output_type": "stream",
     "text": [
      "\n",
      "      Epoch    GPU_mem   box_loss   cls_loss   dfl_loss  Instances       Size\n"
     ]
    },
    {
     "name": "stderr",
     "output_type": "stream",
     "text": [
      "      13/50      2.34G     0.7485     0.5968       1.08          5        640: 100%|██████████| 86/86 [00:31<00:00,  2.73it/s]\n",
      "                 Class     Images  Instances      Box(P          R      mAP50  mAP50-95): 100%|██████████| 13/13 [00:03<00:00,  3.70it/s]"
     ]
    },
    {
     "name": "stdout",
     "output_type": "stream",
     "text": [
      "                   all        387        424      0.928      0.945      0.949      0.752\n"
     ]
    },
    {
     "name": "stderr",
     "output_type": "stream",
     "text": [
      "\n"
     ]
    },
    {
     "name": "stdout",
     "output_type": "stream",
     "text": [
      "\n",
      "      Epoch    GPU_mem   box_loss   cls_loss   dfl_loss  Instances       Size\n"
     ]
    },
    {
     "name": "stderr",
     "output_type": "stream",
     "text": [
      "      14/50      2.36G      0.746     0.5906      1.076         10        640: 100%|██████████| 86/86 [00:31<00:00,  2.76it/s]\n",
      "                 Class     Images  Instances      Box(P          R      mAP50  mAP50-95): 100%|██████████| 13/13 [00:03<00:00,  4.05it/s]"
     ]
    },
    {
     "name": "stdout",
     "output_type": "stream",
     "text": [
      "                   all        387        424      0.944      0.909      0.948      0.759\n"
     ]
    },
    {
     "name": "stderr",
     "output_type": "stream",
     "text": [
      "\n"
     ]
    },
    {
     "name": "stdout",
     "output_type": "stream",
     "text": [
      "\n",
      "      Epoch    GPU_mem   box_loss   cls_loss   dfl_loss  Instances       Size\n"
     ]
    },
    {
     "name": "stderr",
     "output_type": "stream",
     "text": [
      "      15/50      2.34G     0.7476     0.5949      1.084          6        640: 100%|██████████| 86/86 [00:30<00:00,  2.80it/s]\n",
      "                 Class     Images  Instances      Box(P          R      mAP50  mAP50-95): 100%|██████████| 13/13 [00:03<00:00,  4.04it/s]"
     ]
    },
    {
     "name": "stdout",
     "output_type": "stream",
     "text": [
      "                   all        387        424      0.946      0.908      0.953      0.759\n"
     ]
    },
    {
     "name": "stderr",
     "output_type": "stream",
     "text": [
      "\n"
     ]
    },
    {
     "name": "stdout",
     "output_type": "stream",
     "text": [
      "\n",
      "      Epoch    GPU_mem   box_loss   cls_loss   dfl_loss  Instances       Size\n"
     ]
    },
    {
     "name": "stderr",
     "output_type": "stream",
     "text": [
      "      16/50      2.36G     0.7276     0.5649      1.079          6        640: 100%|██████████| 86/86 [00:30<00:00,  2.81it/s]\n",
      "                 Class     Images  Instances      Box(P          R      mAP50  mAP50-95): 100%|██████████| 13/13 [00:03<00:00,  4.03it/s]"
     ]
    },
    {
     "name": "stdout",
     "output_type": "stream",
     "text": [
      "                   all        387        424      0.944      0.938      0.961      0.766\n"
     ]
    },
    {
     "name": "stderr",
     "output_type": "stream",
     "text": [
      "\n"
     ]
    },
    {
     "name": "stdout",
     "output_type": "stream",
     "text": [
      "\n",
      "      Epoch    GPU_mem   box_loss   cls_loss   dfl_loss  Instances       Size\n"
     ]
    },
    {
     "name": "stderr",
     "output_type": "stream",
     "text": [
      "      17/50      2.34G     0.7344     0.5431       1.07          8        640: 100%|██████████| 86/86 [00:30<00:00,  2.80it/s]\n",
      "                 Class     Images  Instances      Box(P          R      mAP50  mAP50-95): 100%|██████████| 13/13 [00:03<00:00,  3.79it/s]"
     ]
    },
    {
     "name": "stdout",
     "output_type": "stream",
     "text": [
      "                   all        387        424      0.944      0.927       0.96      0.773\n"
     ]
    },
    {
     "name": "stderr",
     "output_type": "stream",
     "text": [
      "\n"
     ]
    },
    {
     "name": "stdout",
     "output_type": "stream",
     "text": [
      "\n",
      "      Epoch    GPU_mem   box_loss   cls_loss   dfl_loss  Instances       Size\n"
     ]
    },
    {
     "name": "stderr",
     "output_type": "stream",
     "text": [
      "      18/50      2.36G      0.694     0.5184      1.053         11        640: 100%|██████████| 86/86 [00:31<00:00,  2.70it/s]\n",
      "                 Class     Images  Instances      Box(P          R      mAP50  mAP50-95): 100%|██████████| 13/13 [00:03<00:00,  3.95it/s]"
     ]
    },
    {
     "name": "stdout",
     "output_type": "stream",
     "text": [
      "                   all        387        424      0.972      0.901      0.944      0.765\n"
     ]
    },
    {
     "name": "stderr",
     "output_type": "stream",
     "text": [
      "\n"
     ]
    },
    {
     "name": "stdout",
     "output_type": "stream",
     "text": [
      "\n",
      "      Epoch    GPU_mem   box_loss   cls_loss   dfl_loss  Instances       Size\n"
     ]
    },
    {
     "name": "stderr",
     "output_type": "stream",
     "text": [
      "      19/50      2.34G     0.7072     0.5212      1.061          9        640: 100%|██████████| 86/86 [00:31<00:00,  2.77it/s]\n",
      "                 Class     Images  Instances      Box(P          R      mAP50  mAP50-95): 100%|██████████| 13/13 [00:03<00:00,  3.46it/s]"
     ]
    },
    {
     "name": "stdout",
     "output_type": "stream",
     "text": [
      "                   all        387        424      0.955      0.913      0.956      0.769\n"
     ]
    },
    {
     "name": "stderr",
     "output_type": "stream",
     "text": [
      "\n"
     ]
    },
    {
     "name": "stdout",
     "output_type": "stream",
     "text": [
      "\n",
      "      Epoch    GPU_mem   box_loss   cls_loss   dfl_loss  Instances       Size\n"
     ]
    },
    {
     "name": "stderr",
     "output_type": "stream",
     "text": [
      "      20/50      2.36G     0.6853     0.5092       1.05         12        640: 100%|██████████| 86/86 [00:32<00:00,  2.67it/s]\n",
      "                 Class     Images  Instances      Box(P          R      mAP50  mAP50-95): 100%|██████████| 13/13 [00:03<00:00,  3.76it/s]"
     ]
    },
    {
     "name": "stdout",
     "output_type": "stream",
     "text": [
      "                   all        387        424      0.961      0.929      0.963      0.787\n"
     ]
    },
    {
     "name": "stderr",
     "output_type": "stream",
     "text": [
      "\n"
     ]
    },
    {
     "name": "stdout",
     "output_type": "stream",
     "text": [
      "\n",
      "      Epoch    GPU_mem   box_loss   cls_loss   dfl_loss  Instances       Size\n"
     ]
    },
    {
     "name": "stderr",
     "output_type": "stream",
     "text": [
      "      21/50      2.34G     0.6925     0.5035      1.055         13        640: 100%|██████████| 86/86 [00:31<00:00,  2.77it/s]\n",
      "                 Class     Images  Instances      Box(P          R      mAP50  mAP50-95): 100%|██████████| 13/13 [00:03<00:00,  3.90it/s]"
     ]
    },
    {
     "name": "stdout",
     "output_type": "stream",
     "text": [
      "                   all        387        424      0.956      0.934      0.962      0.788\n"
     ]
    },
    {
     "name": "stderr",
     "output_type": "stream",
     "text": [
      "\n"
     ]
    },
    {
     "name": "stdout",
     "output_type": "stream",
     "text": [
      "\n",
      "      Epoch    GPU_mem   box_loss   cls_loss   dfl_loss  Instances       Size\n"
     ]
    },
    {
     "name": "stderr",
     "output_type": "stream",
     "text": [
      "      22/50      2.36G     0.6827     0.4913      1.051          8        640: 100%|██████████| 86/86 [00:30<00:00,  2.80it/s]\n",
      "                 Class     Images  Instances      Box(P          R      mAP50  mAP50-95): 100%|██████████| 13/13 [00:03<00:00,  4.01it/s]"
     ]
    },
    {
     "name": "stdout",
     "output_type": "stream",
     "text": [
      "                   all        387        424      0.947      0.947      0.969      0.787\n"
     ]
    },
    {
     "name": "stderr",
     "output_type": "stream",
     "text": [
      "\n"
     ]
    },
    {
     "name": "stdout",
     "output_type": "stream",
     "text": [
      "\n",
      "      Epoch    GPU_mem   box_loss   cls_loss   dfl_loss  Instances       Size\n"
     ]
    },
    {
     "name": "stderr",
     "output_type": "stream",
     "text": [
      "      23/50      2.34G      0.693     0.4854      1.053          7        640: 100%|██████████| 86/86 [00:31<00:00,  2.69it/s]\n",
      "                 Class     Images  Instances      Box(P          R      mAP50  mAP50-95): 100%|██████████| 13/13 [00:05<00:00,  2.59it/s]"
     ]
    },
    {
     "name": "stdout",
     "output_type": "stream",
     "text": [
      "                   all        387        424       0.97      0.908      0.964      0.801\n"
     ]
    },
    {
     "name": "stderr",
     "output_type": "stream",
     "text": [
      "\n"
     ]
    },
    {
     "name": "stdout",
     "output_type": "stream",
     "text": [
      "\n",
      "      Epoch    GPU_mem   box_loss   cls_loss   dfl_loss  Instances       Size\n"
     ]
    },
    {
     "name": "stderr",
     "output_type": "stream",
     "text": [
      "      24/50      2.36G      0.654     0.4655      1.036         10        640: 100%|██████████| 86/86 [00:31<00:00,  2.77it/s]\n",
      "                 Class     Images  Instances      Box(P          R      mAP50  mAP50-95): 100%|██████████| 13/13 [00:03<00:00,  3.48it/s]"
     ]
    },
    {
     "name": "stdout",
     "output_type": "stream",
     "text": [
      "                   all        387        424      0.967       0.95      0.977      0.814\n"
     ]
    },
    {
     "name": "stderr",
     "output_type": "stream",
     "text": [
      "\n"
     ]
    },
    {
     "name": "stdout",
     "output_type": "stream",
     "text": [
      "\n",
      "      Epoch    GPU_mem   box_loss   cls_loss   dfl_loss  Instances       Size\n"
     ]
    },
    {
     "name": "stderr",
     "output_type": "stream",
     "text": [
      "      25/50      2.34G     0.6587     0.4666      1.036         11        640: 100%|██████████| 86/86 [00:31<00:00,  2.70it/s]\n",
      "                 Class     Images  Instances      Box(P          R      mAP50  mAP50-95): 100%|██████████| 13/13 [00:03<00:00,  3.39it/s]"
     ]
    },
    {
     "name": "stdout",
     "output_type": "stream",
     "text": [
      "                   all        387        424      0.968      0.917      0.974      0.801\n"
     ]
    },
    {
     "name": "stderr",
     "output_type": "stream",
     "text": [
      "\n"
     ]
    },
    {
     "name": "stdout",
     "output_type": "stream",
     "text": [
      "\n",
      "      Epoch    GPU_mem   box_loss   cls_loss   dfl_loss  Instances       Size\n"
     ]
    },
    {
     "name": "stderr",
     "output_type": "stream",
     "text": [
      "      26/50      2.36G     0.6288     0.4577      1.022         11        640: 100%|██████████| 86/86 [00:32<00:00,  2.68it/s]\n",
      "                 Class     Images  Instances      Box(P          R      mAP50  mAP50-95): 100%|██████████| 13/13 [00:03<00:00,  3.82it/s]"
     ]
    },
    {
     "name": "stdout",
     "output_type": "stream",
     "text": [
      "                   all        387        424      0.966      0.927      0.959      0.792\n"
     ]
    },
    {
     "name": "stderr",
     "output_type": "stream",
     "text": [
      "\n"
     ]
    },
    {
     "name": "stdout",
     "output_type": "stream",
     "text": [
      "\n",
      "      Epoch    GPU_mem   box_loss   cls_loss   dfl_loss  Instances       Size\n"
     ]
    },
    {
     "name": "stderr",
     "output_type": "stream",
     "text": [
      "      27/50      2.34G     0.6333     0.4281      1.029          4        640: 100%|██████████| 86/86 [00:30<00:00,  2.78it/s]\n",
      "                 Class     Images  Instances      Box(P          R      mAP50  mAP50-95): 100%|██████████| 13/13 [00:03<00:00,  3.83it/s]"
     ]
    },
    {
     "name": "stdout",
     "output_type": "stream",
     "text": [
      "                   all        387        424      0.968       0.95      0.975       0.81\n"
     ]
    },
    {
     "name": "stderr",
     "output_type": "stream",
     "text": [
      "\n"
     ]
    },
    {
     "name": "stdout",
     "output_type": "stream",
     "text": [
      "\n",
      "      Epoch    GPU_mem   box_loss   cls_loss   dfl_loss  Instances       Size\n"
     ]
    },
    {
     "name": "stderr",
     "output_type": "stream",
     "text": [
      "      28/50      2.36G     0.6485     0.4498      1.031         10        640: 100%|██████████| 86/86 [00:31<00:00,  2.74it/s]\n",
      "                 Class     Images  Instances      Box(P          R      mAP50  mAP50-95): 100%|██████████| 13/13 [00:03<00:00,  3.53it/s]"
     ]
    },
    {
     "name": "stdout",
     "output_type": "stream",
     "text": [
      "                   all        387        424      0.965      0.946      0.977      0.819\n"
     ]
    },
    {
     "name": "stderr",
     "output_type": "stream",
     "text": [
      "\n"
     ]
    },
    {
     "name": "stdout",
     "output_type": "stream",
     "text": [
      "\n",
      "      Epoch    GPU_mem   box_loss   cls_loss   dfl_loss  Instances       Size\n"
     ]
    },
    {
     "name": "stderr",
     "output_type": "stream",
     "text": [
      "      29/50      2.34G     0.6439      0.438      1.035          6        640: 100%|██████████| 86/86 [00:31<00:00,  2.73it/s]\n",
      "                 Class     Images  Instances      Box(P          R      mAP50  mAP50-95): 100%|██████████| 13/13 [00:03<00:00,  4.10it/s]"
     ]
    },
    {
     "name": "stdout",
     "output_type": "stream",
     "text": [
      "                   all        387        424      0.956      0.955      0.975       0.81\n"
     ]
    },
    {
     "name": "stderr",
     "output_type": "stream",
     "text": [
      "\n"
     ]
    },
    {
     "name": "stdout",
     "output_type": "stream",
     "text": [
      "\n",
      "      Epoch    GPU_mem   box_loss   cls_loss   dfl_loss  Instances       Size\n"
     ]
    },
    {
     "name": "stderr",
     "output_type": "stream",
     "text": [
      "      30/50      2.36G     0.6113     0.4137       1.01         11        640: 100%|██████████| 86/86 [00:30<00:00,  2.80it/s]\n",
      "                 Class     Images  Instances      Box(P          R      mAP50  mAP50-95): 100%|██████████| 13/13 [00:03<00:00,  3.85it/s]"
     ]
    },
    {
     "name": "stdout",
     "output_type": "stream",
     "text": [
      "                   all        387        424      0.958      0.959       0.98       0.81\n"
     ]
    },
    {
     "name": "stderr",
     "output_type": "stream",
     "text": [
      "\n"
     ]
    },
    {
     "name": "stdout",
     "output_type": "stream",
     "text": [
      "\n",
      "      Epoch    GPU_mem   box_loss   cls_loss   dfl_loss  Instances       Size\n"
     ]
    },
    {
     "name": "stderr",
     "output_type": "stream",
     "text": [
      "      31/50      2.34G     0.6207     0.4325       1.02          7        640: 100%|██████████| 86/86 [00:30<00:00,  2.77it/s]\n",
      "                 Class     Images  Instances      Box(P          R      mAP50  mAP50-95): 100%|██████████| 13/13 [00:03<00:00,  3.77it/s]"
     ]
    },
    {
     "name": "stdout",
     "output_type": "stream",
     "text": [
      "                   all        387        424      0.966       0.94      0.966      0.796\n"
     ]
    },
    {
     "name": "stderr",
     "output_type": "stream",
     "text": [
      "\n"
     ]
    },
    {
     "name": "stdout",
     "output_type": "stream",
     "text": [
      "\n",
      "      Epoch    GPU_mem   box_loss   cls_loss   dfl_loss  Instances       Size\n"
     ]
    },
    {
     "name": "stderr",
     "output_type": "stream",
     "text": [
      "      32/50      2.36G     0.6144     0.4146      1.016         10        640: 100%|██████████| 86/86 [00:30<00:00,  2.79it/s]\n",
      "                 Class     Images  Instances      Box(P          R      mAP50  mAP50-95): 100%|██████████| 13/13 [00:03<00:00,  4.06it/s]"
     ]
    },
    {
     "name": "stdout",
     "output_type": "stream",
     "text": [
      "                   all        387        424      0.959      0.963      0.973      0.811\n"
     ]
    },
    {
     "name": "stderr",
     "output_type": "stream",
     "text": [
      "\n"
     ]
    },
    {
     "name": "stdout",
     "output_type": "stream",
     "text": [
      "\n",
      "      Epoch    GPU_mem   box_loss   cls_loss   dfl_loss  Instances       Size\n"
     ]
    },
    {
     "name": "stderr",
     "output_type": "stream",
     "text": [
      "      33/50      2.34G     0.5971     0.4154      1.011          5        640: 100%|██████████| 86/86 [00:31<00:00,  2.73it/s]\n",
      "                 Class     Images  Instances      Box(P          R      mAP50  mAP50-95): 100%|██████████| 13/13 [00:03<00:00,  3.67it/s]"
     ]
    },
    {
     "name": "stdout",
     "output_type": "stream",
     "text": [
      "                   all        387        424      0.947      0.955      0.978      0.818\n"
     ]
    },
    {
     "name": "stderr",
     "output_type": "stream",
     "text": [
      "\n"
     ]
    },
    {
     "name": "stdout",
     "output_type": "stream",
     "text": [
      "\n",
      "      Epoch    GPU_mem   box_loss   cls_loss   dfl_loss  Instances       Size\n"
     ]
    },
    {
     "name": "stderr",
     "output_type": "stream",
     "text": [
      "      34/50      2.36G     0.6108     0.4033      1.018         16        640: 100%|██████████| 86/86 [00:30<00:00,  2.78it/s]\n",
      "                 Class     Images  Instances      Box(P          R      mAP50  mAP50-95): 100%|██████████| 13/13 [00:03<00:00,  4.03it/s]"
     ]
    },
    {
     "name": "stdout",
     "output_type": "stream",
     "text": [
      "                   all        387        424       0.98      0.942      0.983      0.834\n"
     ]
    },
    {
     "name": "stderr",
     "output_type": "stream",
     "text": [
      "\n"
     ]
    },
    {
     "name": "stdout",
     "output_type": "stream",
     "text": [
      "\n",
      "      Epoch    GPU_mem   box_loss   cls_loss   dfl_loss  Instances       Size\n"
     ]
    },
    {
     "name": "stderr",
     "output_type": "stream",
     "text": [
      "      35/50      2.34G     0.5855     0.3799          1         11        640: 100%|██████████| 86/86 [00:30<00:00,  2.79it/s]\n",
      "                 Class     Images  Instances      Box(P          R      mAP50  mAP50-95): 100%|██████████| 13/13 [00:03<00:00,  4.01it/s]"
     ]
    },
    {
     "name": "stdout",
     "output_type": "stream",
     "text": [
      "                   all        387        424      0.948      0.964      0.976      0.814\n"
     ]
    },
    {
     "name": "stderr",
     "output_type": "stream",
     "text": [
      "\n"
     ]
    },
    {
     "name": "stdout",
     "output_type": "stream",
     "text": [
      "\n",
      "      Epoch    GPU_mem   box_loss   cls_loss   dfl_loss  Instances       Size\n"
     ]
    },
    {
     "name": "stderr",
     "output_type": "stream",
     "text": [
      "      36/50      2.36G     0.5804     0.3913      1.005         11        640: 100%|██████████| 86/86 [00:32<00:00,  2.65it/s]\n",
      "                 Class     Images  Instances      Box(P          R      mAP50  mAP50-95): 100%|██████████| 13/13 [00:03<00:00,  4.04it/s]"
     ]
    },
    {
     "name": "stdout",
     "output_type": "stream",
     "text": [
      "                   all        387        424      0.964      0.942      0.979       0.83\n"
     ]
    },
    {
     "name": "stderr",
     "output_type": "stream",
     "text": [
      "\n"
     ]
    },
    {
     "name": "stdout",
     "output_type": "stream",
     "text": [
      "\n",
      "      Epoch    GPU_mem   box_loss   cls_loss   dfl_loss  Instances       Size\n"
     ]
    },
    {
     "name": "stderr",
     "output_type": "stream",
     "text": [
      "      37/50      2.34G     0.5755     0.3806     0.9994         10        640: 100%|██████████| 86/86 [00:31<00:00,  2.77it/s]\n",
      "                 Class     Images  Instances      Box(P          R      mAP50  mAP50-95): 100%|██████████| 13/13 [00:03<00:00,  3.95it/s]"
     ]
    },
    {
     "name": "stdout",
     "output_type": "stream",
     "text": [
      "                   all        387        424      0.972      0.947      0.979      0.831\n"
     ]
    },
    {
     "name": "stderr",
     "output_type": "stream",
     "text": [
      "\n"
     ]
    },
    {
     "name": "stdout",
     "output_type": "stream",
     "text": [
      "\n",
      "      Epoch    GPU_mem   box_loss   cls_loss   dfl_loss  Instances       Size\n"
     ]
    },
    {
     "name": "stderr",
     "output_type": "stream",
     "text": [
      "      38/50      2.36G     0.5619     0.3798     0.9941          8        640: 100%|██████████| 86/86 [00:31<00:00,  2.75it/s]\n",
      "                 Class     Images  Instances      Box(P          R      mAP50  mAP50-95): 100%|██████████| 13/13 [00:03<00:00,  3.92it/s]"
     ]
    },
    {
     "name": "stdout",
     "output_type": "stream",
     "text": [
      "                   all        387        424      0.974      0.958      0.982      0.833\n"
     ]
    },
    {
     "name": "stderr",
     "output_type": "stream",
     "text": [
      "\n"
     ]
    },
    {
     "name": "stdout",
     "output_type": "stream",
     "text": [
      "\n",
      "      Epoch    GPU_mem   box_loss   cls_loss   dfl_loss  Instances       Size\n"
     ]
    },
    {
     "name": "stderr",
     "output_type": "stream",
     "text": [
      "      39/50      2.34G     0.5703     0.3673     0.9943          9        640: 100%|██████████| 86/86 [00:31<00:00,  2.76it/s]\n",
      "                 Class     Images  Instances      Box(P          R      mAP50  mAP50-95): 100%|██████████| 13/13 [00:03<00:00,  3.88it/s]"
     ]
    },
    {
     "name": "stdout",
     "output_type": "stream",
     "text": [
      "                   all        387        424       0.96      0.965      0.983      0.839\n"
     ]
    },
    {
     "name": "stderr",
     "output_type": "stream",
     "text": [
      "\n"
     ]
    },
    {
     "name": "stdout",
     "output_type": "stream",
     "text": [
      "\n",
      "      Epoch    GPU_mem   box_loss   cls_loss   dfl_loss  Instances       Size\n"
     ]
    },
    {
     "name": "stderr",
     "output_type": "stream",
     "text": [
      "      40/50      2.36G     0.5565      0.371     0.9864         10        640: 100%|██████████| 86/86 [00:31<00:00,  2.76it/s]\n",
      "                 Class     Images  Instances      Box(P          R      mAP50  mAP50-95): 100%|██████████| 13/13 [00:03<00:00,  4.06it/s]"
     ]
    },
    {
     "name": "stdout",
     "output_type": "stream",
     "text": [
      "                   all        387        424      0.963      0.961      0.986       0.83\n"
     ]
    },
    {
     "name": "stderr",
     "output_type": "stream",
     "text": [
      "\n"
     ]
    },
    {
     "name": "stdout",
     "output_type": "stream",
     "text": [
      "Closing dataloader mosaic\n",
      "\n",
      "      Epoch    GPU_mem   box_loss   cls_loss   dfl_loss  Instances       Size\n"
     ]
    },
    {
     "name": "stderr",
     "output_type": "stream",
     "text": [
      "      41/50      2.34G     0.4878     0.2925     0.9609          4        640: 100%|██████████| 86/86 [00:31<00:00,  2.73it/s]\n",
      "                 Class     Images  Instances      Box(P          R      mAP50  mAP50-95): 100%|██████████| 13/13 [00:03<00:00,  3.60it/s]"
     ]
    },
    {
     "name": "stdout",
     "output_type": "stream",
     "text": [
      "                   all        387        424      0.971      0.956      0.987      0.827\n"
     ]
    },
    {
     "name": "stderr",
     "output_type": "stream",
     "text": [
      "\n"
     ]
    },
    {
     "name": "stdout",
     "output_type": "stream",
     "text": [
      "\n",
      "      Epoch    GPU_mem   box_loss   cls_loss   dfl_loss  Instances       Size\n"
     ]
    },
    {
     "name": "stderr",
     "output_type": "stream",
     "text": [
      "      42/50      2.36G     0.4833     0.2783     0.9599          4        640: 100%|██████████| 86/86 [00:31<00:00,  2.73it/s]\n",
      "                 Class     Images  Instances      Box(P          R      mAP50  mAP50-95): 100%|██████████| 13/13 [00:03<00:00,  3.38it/s]"
     ]
    },
    {
     "name": "stdout",
     "output_type": "stream",
     "text": [
      "                   all        387        424      0.969      0.963      0.984      0.826\n"
     ]
    },
    {
     "name": "stderr",
     "output_type": "stream",
     "text": [
      "\n"
     ]
    },
    {
     "name": "stdout",
     "output_type": "stream",
     "text": [
      "\n",
      "      Epoch    GPU_mem   box_loss   cls_loss   dfl_loss  Instances       Size\n"
     ]
    },
    {
     "name": "stderr",
     "output_type": "stream",
     "text": [
      "      43/50      2.34G     0.4645     0.2708     0.9414          4        640: 100%|██████████| 86/86 [00:31<00:00,  2.73it/s]\n",
      "                 Class     Images  Instances      Box(P          R      mAP50  mAP50-95): 100%|██████████| 13/13 [00:03<00:00,  3.82it/s]"
     ]
    },
    {
     "name": "stdout",
     "output_type": "stream",
     "text": [
      "                   all        387        424      0.983      0.956      0.985      0.833\n"
     ]
    },
    {
     "name": "stderr",
     "output_type": "stream",
     "text": [
      "\n"
     ]
    },
    {
     "name": "stdout",
     "output_type": "stream",
     "text": [
      "\n",
      "      Epoch    GPU_mem   box_loss   cls_loss   dfl_loss  Instances       Size\n"
     ]
    },
    {
     "name": "stderr",
     "output_type": "stream",
     "text": [
      "      44/50      2.36G     0.4685     0.2738     0.9516          4        640: 100%|██████████| 86/86 [00:31<00:00,  2.76it/s]\n",
      "                 Class     Images  Instances      Box(P          R      mAP50  mAP50-95): 100%|██████████| 13/13 [00:03<00:00,  3.66it/s]"
     ]
    },
    {
     "name": "stdout",
     "output_type": "stream",
     "text": [
      "                   all        387        424      0.978      0.976      0.988      0.834\n"
     ]
    },
    {
     "name": "stderr",
     "output_type": "stream",
     "text": [
      "\n"
     ]
    },
    {
     "name": "stdout",
     "output_type": "stream",
     "text": [
      "\n",
      "      Epoch    GPU_mem   box_loss   cls_loss   dfl_loss  Instances       Size\n"
     ]
    },
    {
     "name": "stderr",
     "output_type": "stream",
     "text": [
      "      45/50      2.34G      0.454     0.2573     0.9434          4        640: 100%|██████████| 86/86 [00:31<00:00,  2.77it/s]\n",
      "                 Class     Images  Instances      Box(P          R      mAP50  mAP50-95): 100%|██████████| 13/13 [00:03<00:00,  3.94it/s]"
     ]
    },
    {
     "name": "stdout",
     "output_type": "stream",
     "text": [
      "                   all        387        424      0.979       0.97      0.987      0.839\n"
     ]
    },
    {
     "name": "stderr",
     "output_type": "stream",
     "text": [
      "\n"
     ]
    },
    {
     "name": "stdout",
     "output_type": "stream",
     "text": [
      "\n",
      "      Epoch    GPU_mem   box_loss   cls_loss   dfl_loss  Instances       Size\n"
     ]
    },
    {
     "name": "stderr",
     "output_type": "stream",
     "text": [
      "      46/50      2.36G     0.4443     0.2468     0.9388          4        640: 100%|██████████| 86/86 [00:30<00:00,  2.80it/s]\n",
      "                 Class     Images  Instances      Box(P          R      mAP50  mAP50-95): 100%|██████████| 13/13 [00:03<00:00,  3.97it/s]"
     ]
    },
    {
     "name": "stdout",
     "output_type": "stream",
     "text": [
      "                   all        387        424      0.978      0.974      0.989      0.846\n"
     ]
    },
    {
     "name": "stderr",
     "output_type": "stream",
     "text": [
      "\n"
     ]
    },
    {
     "name": "stdout",
     "output_type": "stream",
     "text": [
      "\n",
      "      Epoch    GPU_mem   box_loss   cls_loss   dfl_loss  Instances       Size\n"
     ]
    },
    {
     "name": "stderr",
     "output_type": "stream",
     "text": [
      "      47/50      2.34G      0.434     0.2427     0.9311          4        640: 100%|██████████| 86/86 [00:30<00:00,  2.83it/s]\n",
      "                 Class     Images  Instances      Box(P          R      mAP50  mAP50-95): 100%|██████████| 13/13 [00:03<00:00,  4.09it/s]"
     ]
    },
    {
     "name": "stdout",
     "output_type": "stream",
     "text": [
      "                   all        387        424      0.962      0.978      0.986      0.837\n"
     ]
    },
    {
     "name": "stderr",
     "output_type": "stream",
     "text": [
      "\n"
     ]
    },
    {
     "name": "stdout",
     "output_type": "stream",
     "text": [
      "\n",
      "      Epoch    GPU_mem   box_loss   cls_loss   dfl_loss  Instances       Size\n"
     ]
    },
    {
     "name": "stderr",
     "output_type": "stream",
     "text": [
      "      48/50      2.36G     0.4274     0.2415     0.9325          5        640: 100%|██████████| 86/86 [00:30<00:00,  2.79it/s]\n",
      "                 Class     Images  Instances      Box(P          R      mAP50  mAP50-95): 100%|██████████| 13/13 [00:03<00:00,  3.37it/s]"
     ]
    },
    {
     "name": "stdout",
     "output_type": "stream",
     "text": [
      "                   all        387        424      0.986      0.964      0.986      0.843\n"
     ]
    },
    {
     "name": "stderr",
     "output_type": "stream",
     "text": [
      "\n"
     ]
    },
    {
     "name": "stdout",
     "output_type": "stream",
     "text": [
      "\n",
      "      Epoch    GPU_mem   box_loss   cls_loss   dfl_loss  Instances       Size\n"
     ]
    },
    {
     "name": "stderr",
     "output_type": "stream",
     "text": [
      "      49/50      2.34G     0.4131     0.2327     0.9208          4        640: 100%|██████████| 86/86 [00:30<00:00,  2.83it/s]\n",
      "                 Class     Images  Instances      Box(P          R      mAP50  mAP50-95): 100%|██████████| 13/13 [00:03<00:00,  4.02it/s]"
     ]
    },
    {
     "name": "stdout",
     "output_type": "stream",
     "text": [
      "                   all        387        424      0.968      0.978      0.986      0.845\n"
     ]
    },
    {
     "name": "stderr",
     "output_type": "stream",
     "text": [
      "\n"
     ]
    },
    {
     "name": "stdout",
     "output_type": "stream",
     "text": [
      "\n",
      "      Epoch    GPU_mem   box_loss   cls_loss   dfl_loss  Instances       Size\n"
     ]
    },
    {
     "name": "stderr",
     "output_type": "stream",
     "text": [
      "      50/50      2.36G     0.4184     0.2302     0.9254          4        640: 100%|██████████| 86/86 [00:30<00:00,  2.81it/s]\n",
      "                 Class     Images  Instances      Box(P          R      mAP50  mAP50-95): 100%|██████████| 13/13 [00:03<00:00,  3.63it/s]"
     ]
    },
    {
     "name": "stdout",
     "output_type": "stream",
     "text": [
      "                   all        387        424      0.969      0.979      0.987      0.842\n"
     ]
    },
    {
     "name": "stderr",
     "output_type": "stream",
     "text": [
      "\n"
     ]
    },
    {
     "name": "stdout",
     "output_type": "stream",
     "text": [
      "\n",
      "50 epochs completed in 0.496 hours.\n",
      "Optimizer stripped from helmet_detection\\helmet_detection_model\\weights\\last.pt, 6.2MB\n",
      "Optimizer stripped from helmet_detection\\helmet_detection_model\\weights\\best.pt, 6.2MB\n",
      "\n",
      "Validating helmet_detection\\helmet_detection_model\\weights\\best.pt...\n",
      "Ultralytics 8.3.62  Python-3.11.11 torch-2.5.1 CUDA:0 (NVIDIA GeForce GTX 1060, 6144MiB)\n",
      "Model summary (fused): 168 layers, 3,006,233 parameters, 0 gradients, 8.1 GFLOPs\n"
     ]
    },
    {
     "name": "stderr",
     "output_type": "stream",
     "text": [
      "                 Class     Images  Instances      Box(P          R      mAP50  mAP50-95): 100%|██████████| 13/13 [00:04<00:00,  3.16it/s]\n"
     ]
    },
    {
     "name": "stdout",
     "output_type": "stream",
     "text": [
      "                   all        387        424      0.978      0.974      0.989      0.846\n",
      "             no helmet        152        152      0.995          1      0.995       0.92\n",
      "           with helmet        160        160      0.994      0.988      0.995      0.916\n",
      "                   cap         75        112      0.946      0.936      0.977      0.702\n",
      "Speed: 0.4ms preprocess, 4.9ms inference, 0.0ms loss, 1.1ms postprocess per image\n",
      "Results saved to \u001b[1mhelmet_detection\\helmet_detection_model\u001b[0m\n",
      "학습완료\n"
     ]
    }
   ],
   "source": [
    "from ultralytics import YOLO\n",
    "\n",
    "# 데이터 경로 및 설정\n",
    "data_yaml_path = r\"C:\\Users\\user\\Documents\\AI_project_clone\\dataset\\data.yaml\"  # YAML 파일 경로 (수정 필요)\n",
    "model_checkpoint = 'yolov8n.pt'  # YOLOv8 Nano 모델 가중치 (기본값)\n",
    "\n",
    "# YOLO 모델 초기화\n",
    "model = YOLO(model_checkpoint)\n",
    "\n",
    "# 모델 학습\n",
    "model.train(\n",
    "    data=data_yaml_path,\n",
    "    epochs=50,\n",
    "    imgsz=640,\n",
    "    batch=16,\n",
    "    lr0=0.01,  # 초기 학습률 설정\n",
    "    name='helmet_detection_model',\n",
    "    project='helmet_detection'\n",
    ")\n",
    "\n",
    "\n",
    "print(\"학습완료\")\n"
   ]
  },
  {
   "cell_type": "markdown",
   "metadata": {},
   "source": [
    "## 로그인창//눈 깜빡임 2번 인식(추가로 해야함)\n",
    "## +추가로 선입력으로 눈 두번 깜빡이면 객체 인식시작"
   ]
  },
  {
   "cell_type": "code",
   "execution_count": null,
   "metadata": {},
   "outputs": [],
   "source": [
    "%pip install mediapipe"
   ]
  },
  {
   "cell_type": "code",
   "execution_count": null,
   "metadata": {},
   "outputs": [],
   "source": [
    "import cv2\n",
    "import time\n",
    "import mediapipe as mp\n",
    "from ultralytics import YOLO\n",
    "\n",
    "# YOLO 모델 로드\n",
    "model = YOLO(r\"C:\\Users\\user\\Documents\\AI_project_clone\\helmet_detection\\helmet_detection_model\\weights\\best.pt\")\n",
    "\n",
    "# Mediapipe Face Mesh 초기화\n",
    "face_mesh = mp.solutions.face_mesh.FaceMesh(refine_landmarks=True)\n",
    "\n",
    "# 웹캠 열기\n",
    "cap = cv2.VideoCapture(0)\n",
    "if not cap.isOpened():\n",
    "    print(\"Error: Could not open webcam.\")\n",
    "    exit()\n",
    "\n",
    "# 눈 깜빡임 감지 상태 변수 초기화\n",
    "blink_count = 0  # 깜빡임 횟수\n",
    "last_blink_time = None  # 마지막 깜빡임 시간\n",
    "BLINK_DELAY = 2  # 눈 깜빡임 간격 제한 (초)\n",
    "\n",
    "# 헬멧 인식 활성화 플래그\n",
    "helmet_detection_mode = False\n",
    "\n",
    "while True:\n",
    "    ret, frame = cap.read()\n",
    "    if not ret:\n",
    "        print(\"Error: Failed to capture image.\")\n",
    "        break\n",
    "\n",
    "    frame = cv2.flip(frame, 1)  # 좌우 반전\n",
    "    rgb_frame = cv2.cvtColor(frame, cv2.COLOR_BGR2RGB)\n",
    "\n",
    "    # Mediapipe로 얼굴 인식 및 눈 깜빡임 감지\n",
    "    output = face_mesh.process(rgb_frame)\n",
    "    landmark_points = output.multi_face_landmarks\n",
    "    frame_h, frame_w, _ = frame.shape\n",
    "\n",
    "    eye_closed = False\n",
    "\n",
    "    if landmark_points:\n",
    "        landmarks = landmark_points[0].landmark\n",
    "        left_eye = [landmarks[145], landmarks[159]]\n",
    "        for landmark in left_eye:\n",
    "            x = int(landmark.x * frame_w)\n",
    "            y = int(landmark.y * frame_h)\n",
    "            cv2.circle(frame, (x, y), 3, (0, 255, 255))  # 왼쪽 눈 표시\n",
    "\n",
    "        # 왼쪽 눈 깜빡임 감지\n",
    "        if abs(left_eye[0].y - left_eye[1].y) < 0.005:\n",
    "            eye_closed = True\n",
    "\n",
    "        # 눈 깜빡임 로직\n",
    "        if eye_closed and (last_blink_time is None or time.time() - last_blink_time > BLINK_DELAY):\n",
    "            blink_count += 1\n",
    "            last_blink_time = time.time()  # 마지막 깜빡임 시간 기록\n",
    "\n",
    "    # 두 번 연속 깜빡임 감지 시 헬멧 인식 활성화\n",
    "    if blink_count >= 2:\n",
    "        helmet_detection_mode = True\n",
    "        blink_count = 0  # 깜빡임 카운트 초기화\n",
    "\n",
    "    if helmet_detection_mode:\n",
    "        # YOLO로 헬멧 탐지\n",
    "        results = model.predict(source=frame, save=False, show=False)\n",
    "\n",
    "        for box in results[0].boxes:\n",
    "            cls = int(box.cls)\n",
    "            x1, y1, x2, y2 = map(int, box.xyxy[0])\n",
    "            conf = float(box.conf[0])\n",
    "\n",
    "            # 바운딩 박스 그리기\n",
    "            if cls == 0:  # No-helmet\n",
    "                color = (0, 0, 255)  # 빨간색\n",
    "                label = \"No helmet\"\n",
    "            elif cls == 1:  # With-helmet\n",
    "                color = (0, 255, 0)  # 초록색\n",
    "                label = \"With helmet\"\n",
    "            \n",
    "\n",
    "            cv2.rectangle(frame, (x1, y1), (x2, y2), color, 2)\n",
    "            cv2.putText(\n",
    "                frame,\n",
    "                f\"{label} ({conf:.2f})\",\n",
    "                (x1, y1 - 10),\n",
    "                cv2.FONT_HERSHEY_SIMPLEX,\n",
    "                0.6,\n",
    "                color,\n",
    "                2,\n",
    "            )\n",
    "\n",
    "        # 화면 상단 메시지\n",
    "        cv2.putText(frame, \"Helmet detection mode\", (50, 50), cv2.FONT_HERSHEY_SIMPLEX, 1.5, (0, 255, 0), 3)\n",
    "\n",
    "    else:\n",
    "        # 일반 모드에서 메시지 표시\n",
    "        cv2.putText(frame, \"Blink twice to start helmet detection\", (50, 50), cv2.FONT_HERSHEY_SIMPLEX, 1.0, (0, 255, 255), 2)\n",
    "\n",
    "    # 결과 화면 표시\n",
    "    cv2.imshow(\"Helmet and Eye Detection\", frame)\n",
    "\n",
    "    # 'q' 키로 종료\n",
    "    if cv2.waitKey(1) & 0xFF == ord('q'):\n",
    "        break\n",
    "\n",
    "cap.release()\n",
    "cv2.destroyAllWindows()\n"
   ]
  },
  {
   "cell_type": "markdown",
   "metadata": {},
   "source": [
    "## 눈깜빡임이랑 헬멧을 같이 써야인식"
   ]
  },
  {
   "cell_type": "code",
   "execution_count": null,
   "metadata": {},
   "outputs": [],
   "source": [
    "import cv2\n",
    "import time\n",
    "import mediapipe as mp\n",
    "from ultralytics import YOLO\n",
    "\n",
    "# YOLO 모델 로드\n",
    "model = YOLO(r\"C:\\Users\\user\\Documents\\AI_project_clone\\helmet_detection\\helmet_detection_model\\weights\\best.pt\")\n",
    "\n",
    "# Mediapipe Face Mesh 초기화\n",
    "face_mesh = mp.solutions.face_mesh.FaceMesh(refine_landmarks=True)\n",
    "\n",
    "# 웹캠 열기\n",
    "cap = cv2.VideoCapture(0)\n",
    "if not cap.isOpened():\n",
    "    print(\"Error: Could not open webcam.\")\n",
    "    exit()\n",
    "\n",
    "\n",
    "# 헬멧 감지 및 로그인 상태 변수 초기화\n",
    "helmet_detected_time = None\n",
    "eye_blink_detected = False\n",
    "login_shown = False\n",
    "\n",
    "# 로그인 창 표시 함수\n",
    "def show_login_window():\n",
    "    global login_shown\n",
    "    if not login_shown:\n",
    "        from tkinter import Tk, simpledialog\n",
    "        root = Tk()\n",
    "        root.withdraw()\n",
    "        simpledialog.askstring(\"Login\", \"Please log in to continue:\")\n",
    "        login_shown = True\n",
    "        root.destroy()\n",
    "\n",
    "while True:\n",
    "    ret, frame = cap.read()\n",
    "    if not ret:\n",
    "        print(\"Error: Failed to capture image.\")\n",
    "        break\n",
    "\n",
    "    frame = cv2.flip(frame, 1)  # 좌우 반전\n",
    "    rgb_frame = cv2.cvtColor(frame, cv2.COLOR_BGR2RGB)\n",
    "\n",
    "    # Mediapipe로 얼굴 인식 및 눈 깜빡임 감지\n",
    "    output = face_mesh.process(rgb_frame)\n",
    "    landmark_points = output.multi_face_landmarks\n",
    "    frame_h, frame_w, _ = frame.shape\n",
    "\n",
    "    if landmark_points:\n",
    "        landmarks = landmark_points[0].landmark\n",
    "        left_eye = [landmarks[145], landmarks[159]]\n",
    "        for landmark in left_eye:\n",
    "            x = int(landmark.x * frame_w)\n",
    "            y = int(landmark.y * frame_h)\n",
    "            cv2.circle(frame, (x, y), 3, (0, 255, 255))  # 왼쪽 눈 표시\n",
    "\n",
    "        # 왼쪽 눈 깜빡임 감지\n",
    "        if abs(left_eye[0].y - left_eye[1].y) < 0.005:\n",
    "            eye_blink_detected = True  # 눈 깜빡임 감지\n",
    "        else:\n",
    "            eye_blink_detected = False\n",
    "\n",
    "    # YOLO로 헬멧 탐지\n",
    "    results = model.predict(source=frame, save=False, show=False)\n",
    "\n",
    "    helmet_detected = False\n",
    "    for box in results[0].boxes:\n",
    "        cls = int(box.cls)\n",
    "        x1, y1, x2, y2 = map(int, box.xyxy[0])\n",
    "        conf = float(box.conf[0])\n",
    "\n",
    "        # 바운딩 박스 그리기\n",
    "        if cls == 0:  # No-helmet\n",
    "            color = (0, 0, 255)  # 빨간색\n",
    "            label = \"No helmet\"\n",
    "            helmet_detected_time = None\n",
    "        elif cls == 1:  # With-helmet\n",
    "            color = (0, 255, 0)  # 초록색\n",
    "            label = \"With helmet\"\n",
    "            helmet_detected = True  # 헬멧 감지\n",
    "            if helmet_detected_time is None:\n",
    "                helmet_detected_time = time.time()\n",
    "\n",
    "        cv2.rectangle(frame, (x1, y1), (x2, y2), color, 2)\n",
    "        cv2.putText(\n",
    "            frame,\n",
    "            f\"{label} ({conf:.2f})\",\n",
    "            (x1, y1 - 10),\n",
    "            cv2.FONT_HERSHEY_SIMPLEX,\n",
    "            0.6,\n",
    "            color,\n",
    "            2,\n",
    "        )\n",
    "\n",
    "    # 눈 깜빡임과 헬멧 착용 감지가 모두 충족되었는지 확인\n",
    "    if eye_blink_detected and helmet_detected and helmet_detected_time:\n",
    "        if time.time() - helmet_detected_time >= 3:  # 3초 이상 헬멧 감지\n",
    "            show_login_window()  # 로그인 창 표시\n",
    "\n",
    "    # 화면 상단 메시지 표시\n",
    "    if not helmet_detected:\n",
    "        cv2.putText(frame, \"Please wear a helmet & wink \", (50, 50), cv2.FONT_HERSHEY_SIMPLEX, 1.0, (0, 0, 255), 3)\n",
    "    elif helmet_detected:\n",
    "        cv2.putText(frame, \"Helmet detected\", (50, 50), cv2.FONT_HERSHEY_SIMPLEX, 1.5, (0, 255, 0), 3)\n",
    "\n",
    "    # 결과 화면 표시\n",
    "    cv2.imshow(\"Helmet and Eye Detection\", frame)\n",
    "\n",
    "    # 'q' 키로 종료\n",
    "    if cv2.waitKey(1) & 0xFF == ord('q'):\n",
    "        break\n",
    "\n",
    "cap.release()\n",
    "cv2.destroyAllWindows()\n"
   ]
  },
  {
   "cell_type": "markdown",
   "metadata": {},
   "source": [
    "## 모자데이터 포함한 모델: 모자와 헬멧 미착용시 로그인창 비활성화"
   ]
  },
  {
   "cell_type": "code",
   "execution_count": null,
   "metadata": {},
   "outputs": [],
   "source": [
    "import cv2\n",
    "import time\n",
    "import mediapipe as mp\n",
    "from ultralytics import YOLO\n",
    "\n",
    "# YOLO 모델 로드\n",
    "model = YOLO(r\"C:\\Users\\user\\Documents\\AI_project_clone\\helmet_detection\\helmet_detection_model\\weights\\best.pt\")\n",
    "\n",
    "# Mediapipe Face Mesh 초기화\n",
    "face_mesh = mp.solutions.face_mesh.FaceMesh(refine_landmarks=True)\n",
    "\n",
    "# 웹캠 열기\n",
    "cap = cv2.VideoCapture(0)\n",
    "if not cap.isOpened():\n",
    "    print(\"Error: Could not open webcam.\")\n",
    "    exit()\n",
    "\n",
    "# 눈 깜빡임 감지 상태 변수 초기화\n",
    "blink_count = 0  # 깜빡임 횟수\n",
    "last_blink_time = None  # 마지막 깜빡임 시간\n",
    "BLINK_DELAY = 2  # 눈 깜빡임 간격 제한 (초)\n",
    "\n",
    "# 헬멧 감지 상태 변수 초기화\n",
    "helmet_detection_mode = False\n",
    "helmet_detected_time = None\n",
    "login_shown = False\n",
    "\n",
    "# 로그인 창 표시 함수\n",
    "def show_login_window():\n",
    "    global login_shown\n",
    "    if not login_shown:\n",
    "        from tkinter import Tk, simpledialog\n",
    "        root = Tk()\n",
    "        root.withdraw()\n",
    "        simpledialog.askstring(\"Login\", \"Please log in to continue:\")\n",
    "        login_shown = True\n",
    "        root.destroy()\n",
    "\n",
    "while True:\n",
    "    ret, frame = cap.read()\n",
    "    if not ret:\n",
    "        print(\"Error: Failed to capture image.\")\n",
    "        break\n",
    "\n",
    "    frame = cv2.flip(frame, 1)  # 좌우 반전\n",
    "    rgb_frame = cv2.cvtColor(frame, cv2.COLOR_BGR2RGB)\n",
    "\n",
    "    # Mediapipe로 얼굴 인식 및 눈 깜빡임 감지\n",
    "    output = face_mesh.process(rgb_frame)\n",
    "    landmark_points = output.multi_face_landmarks\n",
    "    frame_h, frame_w, _ = frame.shape\n",
    "\n",
    "    eye_closed = False\n",
    "\n",
    "    if landmark_points:\n",
    "        landmarks = landmark_points[0].landmark\n",
    "        left_eye = [landmarks[145], landmarks[159]]\n",
    "        for landmark in left_eye:\n",
    "            x = int(landmark.x * frame_w)\n",
    "            y = int(landmark.y * frame_h)\n",
    "            cv2.circle(frame, (x, y), 3, (0, 255, 255))  # 왼쪽 눈 표시\n",
    "\n",
    "        # 왼쪽 눈 깜빡임 감지\n",
    "        if abs(left_eye[0].y - left_eye[1].y) < 0.005:\n",
    "            eye_closed = True\n",
    "\n",
    "        # 눈 깜빡임 로직\n",
    "        if eye_closed and (last_blink_time is None or time.time() - last_blink_time > BLINK_DELAY):\n",
    "            blink_count += 1\n",
    "            last_blink_time = time.time()  # 마지막 깜빡임 시간 기록\n",
    "\n",
    "    # 두 번 연속 깜빡임 감지 시 헬멧 인식 활성화\n",
    "    if blink_count >= 2:\n",
    "        helmet_detection_mode = True\n",
    "        blink_count = 0  # 깜빡임 카운트 초기화\n",
    "\n",
    "    if helmet_detection_mode:\n",
    "        # YOLO로 헬멧 탐지\n",
    "        results = model.predict(source=frame, save=False, show=False)\n",
    "\n",
    "        for box in results[0].boxes:\n",
    "            cls = int(box.cls)\n",
    "            x1, y1, x2, y2 = map(int, box.xyxy[0])\n",
    "            conf = float(box.conf[0])\n",
    "\n",
    "            # 바운딩 박스 그리기\n",
    "            if cls == 0:  # No-helmet\n",
    "                color = (0, 0, 255)  # 빨간색\n",
    "                label = \"No helmet\"\n",
    "                helmet_detected_time = None  # 타이머 초기화\n",
    "                login_shown = False  # 로그인 비활성화\n",
    "\n",
    "            elif cls == 1:  # With-helmet\n",
    "                color = (0, 255, 0)  # 초록색\n",
    "                label = \"With helmet\"\n",
    "                if helmet_detected_time is None:\n",
    "                    helmet_detected_time = time.time()  # 헬멧 감지 시작 시간 기록\n",
    "                elif time.time() - helmet_detected_time >= 3 and not login_shown:\n",
    "                    show_login_window()  # 헬멧 감지 3초 후 로그인 창 표시\n",
    "\n",
    "            elif cls == 2:  # With cap\n",
    "                color = (0, 255, 255)  # 노란색\n",
    "                label = \"With cap\"\n",
    "                helmet_detected_time = None  # 타이머 초기화\n",
    "                login_shown = False  # 로그인 비활성화\n",
    "\n",
    "            cv2.rectangle(frame, (x1, y1), (x2, y2), color, 2)\n",
    "            cv2.putText(\n",
    "                frame,\n",
    "                f\"{label} ({conf:.2f})\",\n",
    "                (x1, y1 - 10),\n",
    "                cv2.FONT_HERSHEY_SIMPLEX,\n",
    "                0.6,\n",
    "                color,\n",
    "                2,\n",
    "            )\n",
    "\n",
    "    # 메시지 표시\n",
    "    if helmet_detection_mode:\n",
    "        cv2.putText(frame, \"Helmet detection mode\", (50, 50), cv2.FONT_HERSHEY_SIMPLEX, 1.5, (0, 255, 0), 3)\n",
    "    else:\n",
    "        cv2.putText(frame, \"Blink twice to start helmet detection\", (50, 50), cv2.FONT_HERSHEY_SIMPLEX, 1.0, (0, 255, 255), 2)\n",
    "\n",
    "    # 결과 화면 표시\n",
    "    cv2.imshow(\"Helmet and Eye Detection\", frame)\n",
    "\n",
    "    # 'q' 키로 종료\n",
    "    if cv2.waitKey(1) & 0xFF == ord('q'):\n",
    "        break\n",
    "\n",
    "cap.release()\n",
    "cv2.destroyAllWindows()\n"
   ]
  },
  {
   "cell_type": "markdown",
   "metadata": {},
   "source": [
    "## 착용시간이 3초 지속되면 qr 코드가 켜지도록"
   ]
  },
  {
   "cell_type": "code",
   "execution_count": null,
   "metadata": {},
   "outputs": [],
   "source": [
    "import cv2\n",
    "import time\n",
    "from ultralytics import YOLO\n",
    "\n",
    "# QR 코드 이미지 경로\n",
    "qr_image_path = r\"C:\\Users\\user\\Documents\\AI_project_clone\\QR.png\" # 생성된 QR 코드 이미지 파일 경로\n",
    "\n",
    "# 학습된 모델 로드\n",
    "model = YOLO(r\"C:\\Users\\user\\Documents\\AI_project_clone\\helmet_detection\\helmet_detection_model\\weights\\best.pt\")\n",
    "\n",
    "# OpenCV를 사용하여 웹캠 열기\n",
    "cap = cv2.VideoCapture(0)\n",
    "if not cap.isOpened():\n",
    "    print(\"Error: Could not open webcam.\")\n",
    "    exit()\n",
    "\n",
    "# QR 코드 이미지 로드\n",
    "qr_image = cv2.imread(qr_image_path)\n",
    "if qr_image is None:\n",
    "    print(f\"Error: Could not load QR code image from {qr_image_path}\")\n",
    "    exit()\n",
    "\n",
    "# QR 코드 표시 여부 플래그와 헬멧 상태 타이머 초기화\n",
    "show_qr_code = False\n",
    "helmet_detected_time = None  # 헬멧이 처음 감지된 시간을 저장\n",
    "\n",
    "while True:\n",
    "    ret, frame = cap.read()\n",
    "    if not ret:\n",
    "        print(\"Error: Failed to capture image.\")\n",
    "        break\n",
    "\n",
    "    # YOLO 모델로 프레임 추론\n",
    "    results = model.predict(source=frame, save=False, show=False)\n",
    "\n",
    "    # 헬멧 착용 여부 확인 변수\n",
    "    helmet_detected = False\n",
    "    no_helmet_detected = False\n",
    "\n",
    "    # 탐지 결과 처리\n",
    "    for box in results[0].boxes:\n",
    "        cls = int(box.cls)  # 클래스 ID\n",
    "        conf = float(box.conf[0])  # 신뢰도\n",
    "        x1, y1, x2, y2 = map(int, box.xyxy[0])  # 바운딩 박스 좌표\n",
    "\n",
    "        if cls == 0:  # No-helmet\n",
    "            label = \"No helmet\"\n",
    "            no_helmet_detected = True  # 헬멧 미착용 상태 감지\n",
    "            color = (0, 0, 255)  # 빨간색\n",
    "            helmet_detected_time = None  # 헬멧 감지 타이머 초기화\n",
    "            cv2.rectangle(frame, (x1, y1), (x2, y2), color, 2)\n",
    "\n",
    "        elif cls == 1:  # With-helmet\n",
    "            label = \"With helmet\"\n",
    "            helmet_detected = True  # 헬멧 착용 상태 감지\n",
    "            color = (0, 255, 0)  # 초록색\n",
    "            cv2.rectangle(frame, (x1, y1), (x2, y2), color, 2)\n",
    "\n",
    "        # 라벨 텍스트 표시\n",
    "        cv2.putText(\n",
    "            frame,\n",
    "            f\"{label} ({conf:.2f})\",\n",
    "            (x1, y1 - 10),\n",
    "            cv2.FONT_HERSHEY_SIMPLEX,\n",
    "            0.6,\n",
    "            color,\n",
    "            2,\n",
    "        )\n",
    "\n",
    "    # 헬멧 감지 타이머 로직\n",
    "    if helmet_detected:\n",
    "        if helmet_detected_time is None:\n",
    "            helmet_detected_time = time.time()  # 처음 헬멧이 감지된 시간 기록\n",
    "        elif time.time() - helmet_detected_time >= 3:  # 3초 연속 감지 확인\n",
    "            # QR 코드 표시\n",
    "            if not show_qr_code:\n",
    "                print(\"Displaying QR Code. Scan to visit the website.\")\n",
    "                cv2.imshow(\"QR Code\", qr_image)\n",
    "                show_qr_code = True\n",
    "\n",
    "    else:\n",
    "        helmet_detected_time = None  # 헬멧 감지 리셋\n",
    "        if show_qr_code:\n",
    "            cv2.destroyWindow(\"QR Code\")\n",
    "            show_qr_code = False\n",
    "\n",
    "    # 화면 상단에 메시지 표시\n",
    "    if no_helmet_detected:\n",
    "        cv2.putText(frame, \"Please wear a helmet\", (50, 50), cv2.FONT_HERSHEY_SIMPLEX, 1.5, (0, 0, 255), 3)\n",
    "\n",
    "    elif helmet_detected:\n",
    "        cv2.putText(frame, \"Helmet detected\", (50, 50), cv2.FONT_HERSHEY_SIMPLEX, 1.5, (0, 255, 0), 3)\n",
    "\n",
    "    # 결과 화면 표시\n",
    "    cv2.imshow(\"Helmet Detection\", frame)\n",
    "\n",
    "    # 'q' 키를 누르면 종료\n",
    "    if cv2.waitKey(1) & 0xFF == ord('q'):\n",
    "        break\n",
    "\n",
    "cap.release()\n",
    "cv2.destroyAllWindows()\n"
   ]
  },
  {
   "cell_type": "markdown",
   "metadata": {},
   "source": [
    "## 헬멧 착용 인식후에 qr 창 출력(10초후 qr창 제거)"
   ]
  },
  {
   "cell_type": "code",
   "execution_count": null,
   "metadata": {},
   "outputs": [],
   "source": [
    "import cv2\n",
    "import time\n",
    "import mediapipe as mp\n",
    "from ultralytics import YOLO\n",
    "\n",
    "\n",
    "# YOLO 모델 로드\n",
    "model = YOLO(r\"C:\\Users\\user\\Documents\\AI_project_clone\\helmet_detection\\helmet_detection_model\\weights\\best.pt\")\n",
    "\n",
    "# Mediapipe Face Mesh 초기화\n",
    "face_mesh = mp.solutions.face_mesh.FaceMesh(refine_landmarks=True)\n",
    "\n",
    "# QR 코드 이미지 경로\n",
    "qr_image_path = r\"C:\\Users\\user\\Documents\\AI_project_clone\\QR.png\"\n",
    "qr_image = cv2.imread(qr_image_path)  # QR 코드 이미지 로드\n",
    "qr_image = cv2.resize(qr_image,(300,300))\n",
    "# 웹캠 열기\n",
    "cap = cv2.VideoCapture(0)\n",
    "if not cap.isOpened():\n",
    "    print(\"Error: Could not open webcam.\")\n",
    "    exit()\n",
    "\n",
    "# 눈 깜빡임 감지 상태 변수 초기화\n",
    "blink_count = 0  # 깜빡임 횟수\n",
    "last_blink_time = None  # 마지막 깜빡임 시간\n",
    "BLINK_DELAY = 2  # 눈 깜빡임 간격 제한 (초)\n",
    "\n",
    "# 헬멧 감지 상태 변수 초기화\n",
    "helmet_detection_mode = False\n",
    "helmet_detected_time = None\n",
    "qr_displayed_time = None\n",
    "\n",
    "while True:\n",
    "    ret, frame = cap.read()\n",
    "    if not ret:\n",
    "        print(\"Error: Failed to capture image.\")\n",
    "        break\n",
    "\n",
    "    frame = cv2.flip(frame, 1)  # 좌우 반전\n",
    "    rgb_frame = cv2.cvtColor(frame, cv2.COLOR_BGR2RGB)\n",
    "\n",
    "    # Mediapipe로 얼굴 인식 및 눈 깜빡임 감지\n",
    "    output = face_mesh.process(rgb_frame)\n",
    "    landmark_points = output.multi_face_landmarks\n",
    "    frame_h, frame_w, _ = frame.shape\n",
    "\n",
    "    eye_closed = False\n",
    "\n",
    "    if landmark_points:\n",
    "        landmarks = landmark_points[0].landmark\n",
    "        left_eye = [landmarks[145], landmarks[159]]\n",
    "        for landmark in left_eye:\n",
    "            x = int(landmark.x * frame_w)\n",
    "            y = int(landmark.y * frame_h)\n",
    "            cv2.circle(frame, (x, y), 3, (0, 255, 255))  # 왼쪽 눈 표시\n",
    "\n",
    "        # 왼쪽 눈 깜빡임 감지\n",
    "        if abs(left_eye[0].y - left_eye[1].y) < 0.005:\n",
    "            eye_closed = True\n",
    "\n",
    "        # 눈 깜빡임 로직\n",
    "        if eye_closed and (last_blink_time is None or time.time() - last_blink_time > BLINK_DELAY):\n",
    "            blink_count += 1\n",
    "            last_blink_time = time.time()  # 마지막 깜빡임 시간 기록\n",
    "\n",
    "    # 두 번 연속 깜빡임 감지 시 헬멧 인식 활성화\n",
    "    if blink_count >= 2:\n",
    "        helmet_detection_mode = True\n",
    "        blink_count = 0  # 깜빡임 카운트 초기화\n",
    "\n",
    "    if helmet_detection_mode:\n",
    "        # YOLO로 헬멧 탐지\n",
    "        results = model.predict(source=frame, save=False, show=False)\n",
    "\n",
    "        for box in results[0].boxes:\n",
    "            cls = int(box.cls)\n",
    "            x1, y1, x2, y2 = map(int, box.xyxy[0])\n",
    "            conf = float(box.conf[0])\n",
    "\n",
    "            # 바운딩 박스 그리기\n",
    "            if cls == 0:  # No-helmet\n",
    "                color = (0, 0, 255)  # 빨간색\n",
    "                label = \"No helmet\"\n",
    "                helmet_detected_time = None  # 타이머 초기화\n",
    "\n",
    "            elif cls == 1:  # With-helmet\n",
    "                color = (0, 255, 0)  # 초록색\n",
    "                label = \"With helmet\"\n",
    "                if helmet_detected_time is None:\n",
    "                    helmet_detected_time = time.time()  # 헬멧 감지 시작 시간 기록\n",
    "                elif time.time() - helmet_detected_time >= 3 and qr_displayed_time is None:\n",
    "                    qr_displayed_time = time.time()  # QR 코드 표시 시작 시간\n",
    "                    cv2.imshow(\"Scan QR Code\", qr_image)  # QR 코드 표시\n",
    "\n",
    "            elif cls == 2 and conf >= 0.8:  # With cap\n",
    "                \n",
    "                color = (0, 255, 255)  # 노란색\n",
    "                label = \"With cap\"\n",
    "                helmet_detected_time = None  # 타이머 초기화\n",
    "                # \"Please wear a helmet\" 메시지 표시\n",
    "                cv2.putText(frame, \"Please wear a helmet\", (frame_w // 4, 50), cv2.FONT_HERSHEY_SIMPLEX, 1.5, (0, 0, 255), 3)\n",
    "\n",
    "            cv2.rectangle(frame, (x1, y1), (x2, y2), color, 2)\n",
    "            cv2.putText(\n",
    "                frame,\n",
    "                f\"{label} ({conf:.2f})\",\n",
    "                (x1, y1 - 10),\n",
    "                cv2.FONT_HERSHEY_SIMPLEX,\n",
    "                0.6,\n",
    "                color,\n",
    "                2,\n",
    "            )\n",
    "\n",
    "        # QR 코드 표시 시간 확인\n",
    "        if qr_displayed_time and time.time() - qr_displayed_time > 10:  # 10초 이후 QR 코드 닫기\n",
    "            qr_displayed_time = None\n",
    "            cv2.destroyWindow(\"Scan QR Code\")\n",
    "\n",
    "    # 메시지 표시\n",
    "    if helmet_detection_mode:\n",
    "        cv2.putText(frame, \"Helmet detection mode\", (50, 50), cv2.FONT_HERSHEY_SIMPLEX, 1.5, (0, 255, 0), 3)\n",
    "    else:\n",
    "        cv2.putText(frame, \"Blink twice to start helmet detection\", (50, 50), cv2.FONT_HERSHEY_SIMPLEX, 1.0, (0, 255, 255), 2)\n",
    "\n",
    "    # 결과 화면 표시\n",
    "    cv2.imshow(\"Helmet and Eye Detection\", frame)\n",
    "\n",
    "    # 'q' 키로 종료\n",
    "    if cv2.waitKey(1) & 0xFF == ord('q'):\n",
    "        break\n",
    "\n",
    "cap.release()\n",
    "cv2.destroyAllWindows()\n"
   ]
  }
 ],
 "metadata": {
  "kernelspec": {
   "display_name": "ultralytics-env",
   "language": "python",
   "name": "python3"
  },
  "language_info": {
   "codemirror_mode": {
    "name": "ipython",
    "version": 3
   },
   "file_extension": ".py",
   "mimetype": "text/x-python",
   "name": "python",
   "nbconvert_exporter": "python",
   "pygments_lexer": "ipython3",
   "version": "3.11.11"
  }
 },
 "nbformat": 4,
 "nbformat_minor": 2
}
