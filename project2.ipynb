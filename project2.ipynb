{
 "cells": [
  {
   "cell_type": "code",
   "execution_count": 2,
   "metadata": {},
   "outputs": [
    {
     "name": "stdout",
     "output_type": "stream",
     "text": [
      "Requirement already satisfied: ultralytics in c:\\users\\user\\anaconda3\\envs\\ultralytics-env\\lib\\site-packages (8.3.62)\n",
      "Requirement already satisfied: numpy>=1.23.0 in c:\\users\\user\\anaconda3\\envs\\ultralytics-env\\lib\\site-packages (from ultralytics) (1.26.4)\n",
      "Requirement already satisfied: matplotlib>=3.3.0 in c:\\users\\user\\anaconda3\\envs\\ultralytics-env\\lib\\site-packages (from ultralytics) (3.10.0)\n",
      "Requirement already satisfied: opencv-python>=4.6.0 in c:\\users\\user\\anaconda3\\envs\\ultralytics-env\\lib\\site-packages (from ultralytics) (4.10.0)\n",
      "Requirement already satisfied: pillow>=7.1.2 in c:\\users\\user\\anaconda3\\envs\\ultralytics-env\\lib\\site-packages (from ultralytics) (11.0.0)\n",
      "Requirement already satisfied: pyyaml>=5.3.1 in c:\\users\\user\\anaconda3\\envs\\ultralytics-env\\lib\\site-packages (from ultralytics) (6.0.2)\n",
      "Requirement already satisfied: requests>=2.23.0 in c:\\users\\user\\anaconda3\\envs\\ultralytics-env\\lib\\site-packages (from ultralytics) (2.32.3)\n",
      "Requirement already satisfied: scipy>=1.4.1 in c:\\users\\user\\anaconda3\\envs\\ultralytics-env\\lib\\site-packages (from ultralytics) (1.15.1)\n",
      "Requirement already satisfied: torch>=1.8.0 in c:\\users\\user\\anaconda3\\envs\\ultralytics-env\\lib\\site-packages (from ultralytics) (2.5.1)\n",
      "Requirement already satisfied: torchvision>=0.9.0 in c:\\users\\user\\anaconda3\\envs\\ultralytics-env\\lib\\site-packages (from ultralytics) (0.20.1)\n",
      "Requirement already satisfied: tqdm>=4.64.0 in c:\\users\\user\\anaconda3\\envs\\ultralytics-env\\lib\\site-packages (from ultralytics) (4.67.1)\n",
      "Requirement already satisfied: psutil in c:\\users\\user\\anaconda3\\envs\\ultralytics-env\\lib\\site-packages (from ultralytics) (6.1.1)\n",
      "Requirement already satisfied: py-cpuinfo in c:\\users\\user\\anaconda3\\envs\\ultralytics-env\\lib\\site-packages (from ultralytics) (9.0.0)\n",
      "Requirement already satisfied: pandas>=1.1.4 in c:\\users\\user\\anaconda3\\envs\\ultralytics-env\\lib\\site-packages (from ultralytics) (2.2.3)\n",
      "Requirement already satisfied: seaborn>=0.11.0 in c:\\users\\user\\anaconda3\\envs\\ultralytics-env\\lib\\site-packages (from ultralytics) (0.13.2)\n",
      "Requirement already satisfied: ultralytics-thop>=2.0.0 in c:\\users\\user\\anaconda3\\envs\\ultralytics-env\\lib\\site-packages (from ultralytics) (2.0.14)\n",
      "Requirement already satisfied: contourpy>=1.0.1 in c:\\users\\user\\anaconda3\\envs\\ultralytics-env\\lib\\site-packages (from matplotlib>=3.3.0->ultralytics) (1.3.1)\n",
      "Requirement already satisfied: cycler>=0.10 in c:\\users\\user\\anaconda3\\envs\\ultralytics-env\\lib\\site-packages (from matplotlib>=3.3.0->ultralytics) (0.12.1)\n",
      "Requirement already satisfied: fonttools>=4.22.0 in c:\\users\\user\\anaconda3\\envs\\ultralytics-env\\lib\\site-packages (from matplotlib>=3.3.0->ultralytics) (4.55.3)\n",
      "Requirement already satisfied: kiwisolver>=1.3.1 in c:\\users\\user\\anaconda3\\envs\\ultralytics-env\\lib\\site-packages (from matplotlib>=3.3.0->ultralytics) (1.4.7)\n",
      "Requirement already satisfied: packaging>=20.0 in c:\\users\\user\\anaconda3\\envs\\ultralytics-env\\lib\\site-packages (from matplotlib>=3.3.0->ultralytics) (24.2)\n",
      "Requirement already satisfied: pyparsing>=2.3.1 in c:\\users\\user\\anaconda3\\envs\\ultralytics-env\\lib\\site-packages (from matplotlib>=3.3.0->ultralytics) (3.2.1)\n",
      "Requirement already satisfied: python-dateutil>=2.7 in c:\\users\\user\\anaconda3\\envs\\ultralytics-env\\lib\\site-packages (from matplotlib>=3.3.0->ultralytics) (2.9.0.post0)\n",
      "Requirement already satisfied: pytz>=2020.1 in c:\\users\\user\\anaconda3\\envs\\ultralytics-env\\lib\\site-packages (from pandas>=1.1.4->ultralytics) (2024.1)\n",
      "Requirement already satisfied: tzdata>=2022.7 in c:\\users\\user\\anaconda3\\envs\\ultralytics-env\\lib\\site-packages (from pandas>=1.1.4->ultralytics) (2024.2)\n",
      "Requirement already satisfied: charset_normalizer<4,>=2 in c:\\users\\user\\anaconda3\\envs\\ultralytics-env\\lib\\site-packages (from requests>=2.23.0->ultralytics) (3.4.1)\n",
      "Requirement already satisfied: idna<4,>=2.5 in c:\\users\\user\\anaconda3\\envs\\ultralytics-env\\lib\\site-packages (from requests>=2.23.0->ultralytics) (3.10)\n",
      "Requirement already satisfied: urllib3<3,>=1.21.1 in c:\\users\\user\\anaconda3\\envs\\ultralytics-env\\lib\\site-packages (from requests>=2.23.0->ultralytics) (2.3.0)\n",
      "Requirement already satisfied: certifi>=2017.4.17 in c:\\users\\user\\anaconda3\\envs\\ultralytics-env\\lib\\site-packages (from requests>=2.23.0->ultralytics) (2024.12.14)\n",
      "Requirement already satisfied: filelock in c:\\users\\user\\anaconda3\\envs\\ultralytics-env\\lib\\site-packages (from torch>=1.8.0->ultralytics) (3.16.1)\n",
      "Requirement already satisfied: typing-extensions>=4.8.0 in c:\\users\\user\\anaconda3\\envs\\ultralytics-env\\lib\\site-packages (from torch>=1.8.0->ultralytics) (4.12.2)\n",
      "Requirement already satisfied: sympy==1.13.1 in c:\\users\\user\\anaconda3\\envs\\ultralytics-env\\lib\\site-packages (from torch>=1.8.0->ultralytics) (1.13.1)\n",
      "Requirement already satisfied: networkx in c:\\users\\user\\anaconda3\\envs\\ultralytics-env\\lib\\site-packages (from torch>=1.8.0->ultralytics) (3.4.2)\n",
      "Requirement already satisfied: jinja2 in c:\\users\\user\\anaconda3\\envs\\ultralytics-env\\lib\\site-packages (from torch>=1.8.0->ultralytics) (3.1.5)\n",
      "Requirement already satisfied: fsspec in c:\\users\\user\\anaconda3\\envs\\ultralytics-env\\lib\\site-packages (from torch>=1.8.0->ultralytics) (2024.12.0)\n",
      "Requirement already satisfied: mpmath<1.4,>=1.1.0 in c:\\users\\user\\anaconda3\\envs\\ultralytics-env\\lib\\site-packages (from sympy==1.13.1->torch>=1.8.0->ultralytics) (1.3.0)\n",
      "Requirement already satisfied: colorama in c:\\users\\user\\anaconda3\\envs\\ultralytics-env\\lib\\site-packages (from tqdm>=4.64.0->ultralytics) (0.4.6)\n",
      "Requirement already satisfied: six>=1.5 in c:\\users\\user\\anaconda3\\envs\\ultralytics-env\\lib\\site-packages (from python-dateutil>=2.7->matplotlib>=3.3.0->ultralytics) (1.17.0)\n",
      "Requirement already satisfied: MarkupSafe>=2.0 in c:\\users\\user\\anaconda3\\envs\\ultralytics-env\\lib\\site-packages (from jinja2->torch>=1.8.0->ultralytics) (3.0.2)\n",
      "Note: you may need to restart the kernel to use updated packages.\n"
     ]
    }
   ],
   "source": [
    "%pip install ultralytics\n",
    "\n"
   ]
  },
  {
   "cell_type": "code",
   "execution_count": 3,
   "metadata": {},
   "outputs": [],
   "source": [
    "import os\n",
    "import yaml\n",
    "import matplotlib.pyplot as plt\n",
    "import seaborn as sns\n",
    "from PIL import Image\n",
    "from ultralytics import YOLO\n",
    "import glob"
   ]
  },
  {
   "cell_type": "code",
   "execution_count": 4,
   "metadata": {},
   "outputs": [],
   "source": [
    "INPUT_DIR = r\"C:/Users/user/Documents/AI_project_clone/data_set_helmet/css-data\"\n",
    "WORK_DIR = r\"C:/Users/user/Documents/AI_project_clone//working\""
   ]
  },
  {
   "cell_type": "code",
   "execution_count": 4,
   "metadata": {},
   "outputs": [
    {
     "name": "stdout",
     "output_type": "stream",
     "text": [
      "라벨 파일 수정이 완료되었습니다.\n"
     ]
    }
   ],
   "source": [
    "import os\n",
    "\n",
    "# 데이터 경로 설정\n",
    "LABELS_DIR = os.path.join(INPUT_DIR, 'train/labels')  # train 라벨 디렉토리\n",
    "ALLOWED_CLASSES = {'0': 'helmet', '2': 'No-helmet', '5': 'person'}  # 유지할 클래스 ID\n",
    "CLASS_MAPPING = {'0': '0', '2': '1', '5': '2'}  # 새로운 클래스 ID 매핑\n",
    "\n",
    "def update_labels(labels_dir):\n",
    "    for file in os.listdir(labels_dir):\n",
    "        file_path = os.path.join(labels_dir, file)\n",
    "        \n",
    "        updated_lines = []\n",
    "        with open(file_path, 'r') as f:\n",
    "            lines = f.readlines()\n",
    "            for line in lines:\n",
    "                cls_id, *coords = line.split()\n",
    "                if cls_id in ALLOWED_CLASSES:  # 허용된 클래스만 유지\n",
    "                    new_cls_id = CLASS_MAPPING[cls_id]  # 클래스 ID 재매핑\n",
    "                    updated_lines.append(f\"{new_cls_id} \" + \" \".join(coords) + \"\\n\")\n",
    "        \n",
    "        # 라벨 파일 업데이트\n",
    "        with open(file_path, 'w') as f:\n",
    "            f.writelines(updated_lines)\n",
    "\n",
    "# train, valid, test 디렉토리의 라벨 파일 수정\n",
    "for mode in ['train', 'valid', 'test']:\n",
    "    labels_dir = os.path.join(INPUT_DIR, f\"{mode}/labels\")\n",
    "    update_labels(labels_dir)\n",
    "\n",
    "print(\"라벨 파일 수정이 완료되었습니다.\")\n"
   ]
  },
  {
   "cell_type": "code",
   "execution_count": 5,
   "metadata": {},
   "outputs": [
    {
     "name": "stdout",
     "output_type": "stream",
     "text": [
      "'data.yaml' 파일이 'C:/Users/user/Documents/AI_project_clone//working\\data.yaml'에 저장되었습니다.\n",
      "라벨 파일 수정이 완료되었습니다.\n",
      "train set size: 2605\n",
      "\n",
      "valid set size: 114\n",
      "\n",
      "test set size: 82\n",
      "\n",
      "New https://pypi.org/project/ultralytics/8.3.63 available  Update with 'pip install -U ultralytics'\n",
      "Ultralytics 8.3.62  Python-3.11.11 torch-2.5.1 CUDA:0 (NVIDIA GeForce GTX 1060, 6144MiB)\n",
      "\u001b[34m\u001b[1mengine\\trainer: \u001b[0mtask=detect, mode=train, model=yolov8n.pt, data=C:/Users/user/Documents/AI_project_clone//working\\data.yaml, epochs=30, time=None, patience=100, batch=16, imgsz=640, save=True, save_period=-1, cache=False, device=None, workers=8, project=None, name=yolov8n_v1_train5, exist_ok=False, pretrained=True, optimizer=auto, verbose=True, seed=0, deterministic=True, single_cls=False, rect=False, cos_lr=False, close_mosaic=10, resume=False, amp=True, fraction=1.0, profile=False, freeze=None, multi_scale=False, overlap_mask=True, mask_ratio=4, dropout=0.0, val=True, split=val, save_json=False, save_hybrid=False, conf=None, iou=0.7, max_det=300, half=False, dnn=False, plots=True, source=None, vid_stride=1, stream_buffer=False, visualize=False, augment=False, agnostic_nms=False, classes=None, retina_masks=False, embed=None, show=False, save_frames=False, save_txt=False, save_conf=False, save_crop=False, show_labels=True, show_conf=True, show_boxes=True, line_width=None, format=torchscript, keras=False, optimize=False, int8=False, dynamic=False, simplify=True, opset=None, workspace=None, nms=False, lr0=0.01, lrf=0.01, momentum=0.937, weight_decay=0.0005, warmup_epochs=3.0, warmup_momentum=0.8, warmup_bias_lr=0.1, box=7.5, cls=0.5, dfl=1.5, pose=12.0, kobj=1.0, nbs=64, hsv_h=0.015, hsv_s=0.7, hsv_v=0.4, degrees=0.0, translate=0.1, scale=0.5, shear=0.0, perspective=0.0, flipud=0.0, fliplr=0.5, bgr=0.0, mosaic=1.0, mixup=0.0, copy_paste=0.0, copy_paste_mode=flip, auto_augment=randaugment, erasing=0.4, crop_fraction=1.0, cfg=None, tracker=botsort.yaml, save_dir=runs\\detect\\yolov8n_v1_train5\n",
      "Overriding model.yaml nc=80 with nc=3\n",
      "\n",
      "                   from  n    params  module                                       arguments                     \n",
      "  0                  -1  1       464  ultralytics.nn.modules.conv.Conv             [3, 16, 3, 2]                 \n",
      "  1                  -1  1      4672  ultralytics.nn.modules.conv.Conv             [16, 32, 3, 2]                \n",
      "  2                  -1  1      7360  ultralytics.nn.modules.block.C2f             [32, 32, 1, True]             \n",
      "  3                  -1  1     18560  ultralytics.nn.modules.conv.Conv             [32, 64, 3, 2]                \n",
      "  4                  -1  2     49664  ultralytics.nn.modules.block.C2f             [64, 64, 2, True]             \n",
      "  5                  -1  1     73984  ultralytics.nn.modules.conv.Conv             [64, 128, 3, 2]               \n",
      "  6                  -1  2    197632  ultralytics.nn.modules.block.C2f             [128, 128, 2, True]           \n",
      "  7                  -1  1    295424  ultralytics.nn.modules.conv.Conv             [128, 256, 3, 2]              \n",
      "  8                  -1  1    460288  ultralytics.nn.modules.block.C2f             [256, 256, 1, True]           \n",
      "  9                  -1  1    164608  ultralytics.nn.modules.block.SPPF            [256, 256, 5]                 \n",
      " 10                  -1  1         0  torch.nn.modules.upsampling.Upsample         [None, 2, 'nearest']          \n",
      " 11             [-1, 6]  1         0  ultralytics.nn.modules.conv.Concat           [1]                           \n",
      " 12                  -1  1    148224  ultralytics.nn.modules.block.C2f             [384, 128, 1]                 \n",
      " 13                  -1  1         0  torch.nn.modules.upsampling.Upsample         [None, 2, 'nearest']          \n",
      " 14             [-1, 4]  1         0  ultralytics.nn.modules.conv.Concat           [1]                           \n",
      " 15                  -1  1     37248  ultralytics.nn.modules.block.C2f             [192, 64, 1]                  \n",
      " 16                  -1  1     36992  ultralytics.nn.modules.conv.Conv             [64, 64, 3, 2]                \n",
      " 17            [-1, 12]  1         0  ultralytics.nn.modules.conv.Concat           [1]                           \n",
      " 18                  -1  1    123648  ultralytics.nn.modules.block.C2f             [192, 128, 1]                 \n",
      " 19                  -1  1    147712  ultralytics.nn.modules.conv.Conv             [128, 128, 3, 2]              \n",
      " 20             [-1, 9]  1         0  ultralytics.nn.modules.conv.Concat           [1]                           \n",
      " 21                  -1  1    493056  ultralytics.nn.modules.block.C2f             [384, 256, 1]                 \n",
      " 22        [15, 18, 21]  1    751897  ultralytics.nn.modules.head.Detect           [3, [64, 128, 256]]           \n",
      "Model summary: 225 layers, 3,011,433 parameters, 3,011,417 gradients, 8.2 GFLOPs\n",
      "\n",
      "Transferred 319/355 items from pretrained weights\n",
      "Freezing layer 'model.22.dfl.conv.weight'\n",
      "\u001b[34m\u001b[1mAMP: \u001b[0mrunning Automatic Mixed Precision (AMP) checks...\n",
      "\u001b[34m\u001b[1mAMP: \u001b[0mchecks passed \n"
     ]
    },
    {
     "name": "stderr",
     "output_type": "stream",
     "text": [
      "\u001b[34m\u001b[1mtrain: \u001b[0mScanning C:\\Users\\user\\Documents\\AI_project_clone\\data_set_helmet\\css-data\\train\\labels... 2605 images, 1291 backgrounds, 0 corrupt: 100%|██████████| 2605/2605 [00:06<00:00, 404.28it/s]\n"
     ]
    },
    {
     "name": "stdout",
     "output_type": "stream",
     "text": [
      "\u001b[34m\u001b[1mtrain: \u001b[0mNew cache created: C:\\Users\\user\\Documents\\AI_project_clone\\data_set_helmet\\css-data\\train\\labels.cache\n"
     ]
    },
    {
     "name": "stderr",
     "output_type": "stream",
     "text": [
      "\u001b[34m\u001b[1mval: \u001b[0mScanning C:\\Users\\user\\Documents\\AI_project_clone\\data_set_helmet\\css-data\\valid\\labels... 114 images, 72 backgrounds, 0 corrupt: 100%|██████████| 114/114 [00:00<00:00, 287.30it/s]"
     ]
    },
    {
     "name": "stdout",
     "output_type": "stream",
     "text": [
      "\u001b[34m\u001b[1mval: \u001b[0mNew cache created: C:\\Users\\user\\Documents\\AI_project_clone\\data_set_helmet\\css-data\\valid\\labels.cache\n"
     ]
    },
    {
     "name": "stderr",
     "output_type": "stream",
     "text": [
      "\n"
     ]
    },
    {
     "name": "stdout",
     "output_type": "stream",
     "text": [
      "Plotting labels to runs\\detect\\yolov8n_v1_train5\\labels.jpg... \n",
      "\u001b[34m\u001b[1moptimizer:\u001b[0m 'optimizer=auto' found, ignoring 'lr0=0.01' and 'momentum=0.937' and determining best 'optimizer', 'lr0' and 'momentum' automatically... \n",
      "\u001b[34m\u001b[1moptimizer:\u001b[0m AdamW(lr=0.001429, momentum=0.9) with parameter groups 57 weight(decay=0.0), 64 weight(decay=0.0005), 63 bias(decay=0.0)\n",
      "Image sizes 640 train, 640 val\n",
      "Using 6 dataloader workers\n",
      "Logging results to \u001b[1mruns\\detect\\yolov8n_v1_train5\u001b[0m\n",
      "Starting training for 30 epochs...\n",
      "\n",
      "      Epoch    GPU_mem   box_loss   cls_loss   dfl_loss  Instances       Size\n"
     ]
    },
    {
     "name": "stderr",
     "output_type": "stream",
     "text": [
      "       1/30      2.32G      1.681      4.124      1.311         34        640: 100%|██████████| 163/163 [01:01<00:00,  2.65it/s]\n",
      "                 Class     Images  Instances      Box(P          R      mAP50  mAP50-95): 100%|██████████| 4/4 [00:01<00:00,  3.72it/s]"
     ]
    },
    {
     "name": "stdout",
     "output_type": "stream",
     "text": [
      "                   all        114         79      0.854      0.443        0.5       0.27\n"
     ]
    },
    {
     "name": "stderr",
     "output_type": "stream",
     "text": [
      "\n"
     ]
    },
    {
     "name": "stdout",
     "output_type": "stream",
     "text": [
      "\n",
      "      Epoch    GPU_mem   box_loss   cls_loss   dfl_loss  Instances       Size\n"
     ]
    },
    {
     "name": "stderr",
     "output_type": "stream",
     "text": [
      "       2/30      2.32G      1.714      2.816      1.313         25        640: 100%|██████████| 163/163 [00:58<00:00,  2.79it/s]\n",
      "                 Class     Images  Instances      Box(P          R      mAP50  mAP50-95): 100%|██████████| 4/4 [00:01<00:00,  3.94it/s]"
     ]
    },
    {
     "name": "stdout",
     "output_type": "stream",
     "text": [
      "                   all        114         79      0.795      0.582      0.589      0.321\n"
     ]
    },
    {
     "name": "stderr",
     "output_type": "stream",
     "text": [
      "\n"
     ]
    },
    {
     "name": "stdout",
     "output_type": "stream",
     "text": [
      "\n",
      "      Epoch    GPU_mem   box_loss   cls_loss   dfl_loss  Instances       Size\n"
     ]
    },
    {
     "name": "stderr",
     "output_type": "stream",
     "text": [
      "       3/30      2.32G      1.781      2.385      1.405         17        640: 100%|██████████| 163/163 [00:58<00:00,  2.81it/s]\n",
      "                 Class     Images  Instances      Box(P          R      mAP50  mAP50-95): 100%|██████████| 4/4 [00:00<00:00,  4.03it/s]"
     ]
    },
    {
     "name": "stdout",
     "output_type": "stream",
     "text": [
      "                   all        114         79      0.733      0.521      0.584      0.335\n"
     ]
    },
    {
     "name": "stderr",
     "output_type": "stream",
     "text": [
      "\n"
     ]
    },
    {
     "name": "stdout",
     "output_type": "stream",
     "text": [
      "\n",
      "      Epoch    GPU_mem   box_loss   cls_loss   dfl_loss  Instances       Size\n"
     ]
    },
    {
     "name": "stderr",
     "output_type": "stream",
     "text": [
      "       4/30      2.32G      1.756      2.079       1.37         10        640: 100%|██████████| 163/163 [00:58<00:00,  2.81it/s]\n",
      "                 Class     Images  Instances      Box(P          R      mAP50  mAP50-95): 100%|██████████| 4/4 [00:01<00:00,  3.95it/s]"
     ]
    },
    {
     "name": "stdout",
     "output_type": "stream",
     "text": [
      "                   all        114         79      0.658      0.418      0.433      0.236\n"
     ]
    },
    {
     "name": "stderr",
     "output_type": "stream",
     "text": [
      "\n"
     ]
    },
    {
     "name": "stdout",
     "output_type": "stream",
     "text": [
      "\n",
      "      Epoch    GPU_mem   box_loss   cls_loss   dfl_loss  Instances       Size\n"
     ]
    },
    {
     "name": "stderr",
     "output_type": "stream",
     "text": [
      "       5/30      2.32G      1.728      1.963       1.37         14        640: 100%|██████████| 163/163 [00:58<00:00,  2.81it/s]\n",
      "                 Class     Images  Instances      Box(P          R      mAP50  mAP50-95): 100%|██████████| 4/4 [00:00<00:00,  4.01it/s]"
     ]
    },
    {
     "name": "stdout",
     "output_type": "stream",
     "text": [
      "                   all        114         79      0.941      0.582      0.678        0.4\n"
     ]
    },
    {
     "name": "stderr",
     "output_type": "stream",
     "text": [
      "\n"
     ]
    },
    {
     "name": "stdout",
     "output_type": "stream",
     "text": [
      "\n",
      "      Epoch    GPU_mem   box_loss   cls_loss   dfl_loss  Instances       Size\n"
     ]
    },
    {
     "name": "stderr",
     "output_type": "stream",
     "text": [
      "       6/30      2.32G      1.653      1.746       1.31         30        640: 100%|██████████| 163/163 [00:58<00:00,  2.80it/s]\n",
      "                 Class     Images  Instances      Box(P          R      mAP50  mAP50-95): 100%|██████████| 4/4 [00:00<00:00,  4.01it/s]"
     ]
    },
    {
     "name": "stdout",
     "output_type": "stream",
     "text": [
      "                   all        114         79      0.893      0.633      0.666      0.367\n"
     ]
    },
    {
     "name": "stderr",
     "output_type": "stream",
     "text": [
      "\n"
     ]
    },
    {
     "name": "stdout",
     "output_type": "stream",
     "text": [
      "\n",
      "      Epoch    GPU_mem   box_loss   cls_loss   dfl_loss  Instances       Size\n"
     ]
    },
    {
     "name": "stderr",
     "output_type": "stream",
     "text": [
      "       7/30      2.32G       1.62      1.659      1.299         18        640: 100%|██████████| 163/163 [00:58<00:00,  2.79it/s]\n",
      "                 Class     Images  Instances      Box(P          R      mAP50  mAP50-95): 100%|██████████| 4/4 [00:00<00:00,  4.04it/s]"
     ]
    },
    {
     "name": "stdout",
     "output_type": "stream",
     "text": [
      "                   all        114         79      0.909      0.582      0.644      0.374\n"
     ]
    },
    {
     "name": "stderr",
     "output_type": "stream",
     "text": [
      "\n"
     ]
    },
    {
     "name": "stdout",
     "output_type": "stream",
     "text": [
      "\n",
      "      Epoch    GPU_mem   box_loss   cls_loss   dfl_loss  Instances       Size\n"
     ]
    },
    {
     "name": "stderr",
     "output_type": "stream",
     "text": [
      "       8/30      2.32G      1.572      1.551      1.261         21        640: 100%|██████████| 163/163 [00:58<00:00,  2.81it/s]\n",
      "                 Class     Images  Instances      Box(P          R      mAP50  mAP50-95): 100%|██████████| 4/4 [00:01<00:00,  3.93it/s]"
     ]
    },
    {
     "name": "stdout",
     "output_type": "stream",
     "text": [
      "                   all        114         79      0.942      0.608      0.706      0.417\n"
     ]
    },
    {
     "name": "stderr",
     "output_type": "stream",
     "text": [
      "\n"
     ]
    },
    {
     "name": "stdout",
     "output_type": "stream",
     "text": [
      "\n",
      "      Epoch    GPU_mem   box_loss   cls_loss   dfl_loss  Instances       Size\n"
     ]
    },
    {
     "name": "stderr",
     "output_type": "stream",
     "text": [
      "       9/30      2.32G      1.568      1.511      1.249         18        640: 100%|██████████| 163/163 [00:58<00:00,  2.80it/s]\n",
      "                 Class     Images  Instances      Box(P          R      mAP50  mAP50-95): 100%|██████████| 4/4 [00:01<00:00,  3.98it/s]"
     ]
    },
    {
     "name": "stdout",
     "output_type": "stream",
     "text": [
      "                   all        114         79      0.824      0.671      0.732      0.428\n"
     ]
    },
    {
     "name": "stderr",
     "output_type": "stream",
     "text": [
      "\n"
     ]
    },
    {
     "name": "stdout",
     "output_type": "stream",
     "text": [
      "\n",
      "      Epoch    GPU_mem   box_loss   cls_loss   dfl_loss  Instances       Size\n"
     ]
    },
    {
     "name": "stderr",
     "output_type": "stream",
     "text": [
      "      10/30      2.32G      1.535      1.477      1.249         23        640: 100%|██████████| 163/163 [00:58<00:00,  2.80it/s]\n",
      "                 Class     Images  Instances      Box(P          R      mAP50  mAP50-95): 100%|██████████| 4/4 [00:00<00:00,  4.07it/s]"
     ]
    },
    {
     "name": "stdout",
     "output_type": "stream",
     "text": [
      "                   all        114         79      0.871      0.684      0.748       0.41\n"
     ]
    },
    {
     "name": "stderr",
     "output_type": "stream",
     "text": [
      "\n"
     ]
    },
    {
     "name": "stdout",
     "output_type": "stream",
     "text": [
      "\n",
      "      Epoch    GPU_mem   box_loss   cls_loss   dfl_loss  Instances       Size\n"
     ]
    },
    {
     "name": "stderr",
     "output_type": "stream",
     "text": [
      "      11/30      2.32G       1.53      1.434      1.235         24        640: 100%|██████████| 163/163 [00:58<00:00,  2.80it/s]\n",
      "                 Class     Images  Instances      Box(P          R      mAP50  mAP50-95): 100%|██████████| 4/4 [00:01<00:00,  3.99it/s]"
     ]
    },
    {
     "name": "stdout",
     "output_type": "stream",
     "text": [
      "                   all        114         79      0.865      0.633      0.731      0.385\n"
     ]
    },
    {
     "name": "stderr",
     "output_type": "stream",
     "text": [
      "\n"
     ]
    },
    {
     "name": "stdout",
     "output_type": "stream",
     "text": [
      "\n",
      "      Epoch    GPU_mem   box_loss   cls_loss   dfl_loss  Instances       Size\n"
     ]
    },
    {
     "name": "stderr",
     "output_type": "stream",
     "text": [
      "      12/30      2.32G      1.468      1.351      1.205          6        640: 100%|██████████| 163/163 [00:58<00:00,  2.80it/s]\n",
      "                 Class     Images  Instances      Box(P          R      mAP50  mAP50-95): 100%|██████████| 4/4 [00:00<00:00,  4.03it/s]"
     ]
    },
    {
     "name": "stdout",
     "output_type": "stream",
     "text": [
      "                   all        114         79      0.964      0.668      0.745      0.422\n"
     ]
    },
    {
     "name": "stderr",
     "output_type": "stream",
     "text": [
      "\n"
     ]
    },
    {
     "name": "stdout",
     "output_type": "stream",
     "text": [
      "\n",
      "      Epoch    GPU_mem   box_loss   cls_loss   dfl_loss  Instances       Size\n"
     ]
    },
    {
     "name": "stderr",
     "output_type": "stream",
     "text": [
      "      13/30      2.32G      1.474      1.328      1.206         18        640: 100%|██████████| 163/163 [00:58<00:00,  2.79it/s]\n",
      "                 Class     Images  Instances      Box(P          R      mAP50  mAP50-95): 100%|██████████| 4/4 [00:00<00:00,  4.04it/s]"
     ]
    },
    {
     "name": "stdout",
     "output_type": "stream",
     "text": [
      "                   all        114         79      0.946       0.67      0.733      0.427\n"
     ]
    },
    {
     "name": "stderr",
     "output_type": "stream",
     "text": [
      "\n"
     ]
    },
    {
     "name": "stdout",
     "output_type": "stream",
     "text": [
      "\n",
      "      Epoch    GPU_mem   box_loss   cls_loss   dfl_loss  Instances       Size\n"
     ]
    },
    {
     "name": "stderr",
     "output_type": "stream",
     "text": [
      "      14/30      2.32G      1.418      1.234      1.178         26        640: 100%|██████████| 163/163 [00:58<00:00,  2.80it/s]\n",
      "                 Class     Images  Instances      Box(P          R      mAP50  mAP50-95): 100%|██████████| 4/4 [00:00<00:00,  4.07it/s]"
     ]
    },
    {
     "name": "stdout",
     "output_type": "stream",
     "text": [
      "                   all        114         79      0.908      0.684      0.775      0.467\n"
     ]
    },
    {
     "name": "stderr",
     "output_type": "stream",
     "text": [
      "\n"
     ]
    },
    {
     "name": "stdout",
     "output_type": "stream",
     "text": [
      "\n",
      "      Epoch    GPU_mem   box_loss   cls_loss   dfl_loss  Instances       Size\n"
     ]
    },
    {
     "name": "stderr",
     "output_type": "stream",
     "text": [
      "      15/30      2.32G      1.402      1.211      1.164         26        640: 100%|██████████| 163/163 [00:58<00:00,  2.80it/s]\n",
      "                 Class     Images  Instances      Box(P          R      mAP50  mAP50-95): 100%|██████████| 4/4 [00:00<00:00,  4.06it/s]"
     ]
    },
    {
     "name": "stdout",
     "output_type": "stream",
     "text": [
      "                   all        114         79      0.918      0.709      0.791      0.465\n"
     ]
    },
    {
     "name": "stderr",
     "output_type": "stream",
     "text": [
      "\n"
     ]
    },
    {
     "name": "stdout",
     "output_type": "stream",
     "text": [
      "\n",
      "      Epoch    GPU_mem   box_loss   cls_loss   dfl_loss  Instances       Size\n"
     ]
    },
    {
     "name": "stderr",
     "output_type": "stream",
     "text": [
      "      16/30      2.32G      1.397      1.191      1.167         31        640: 100%|██████████| 163/163 [00:58<00:00,  2.80it/s]\n",
      "                 Class     Images  Instances      Box(P          R      mAP50  mAP50-95): 100%|██████████| 4/4 [00:01<00:00,  3.90it/s]"
     ]
    },
    {
     "name": "stdout",
     "output_type": "stream",
     "text": [
      "                   all        114         79      0.844      0.734      0.779      0.471\n"
     ]
    },
    {
     "name": "stderr",
     "output_type": "stream",
     "text": [
      "\n"
     ]
    },
    {
     "name": "stdout",
     "output_type": "stream",
     "text": [
      "\n",
      "      Epoch    GPU_mem   box_loss   cls_loss   dfl_loss  Instances       Size\n"
     ]
    },
    {
     "name": "stderr",
     "output_type": "stream",
     "text": [
      "      17/30      2.32G       1.36      1.154      1.158         17        640: 100%|██████████| 163/163 [00:58<00:00,  2.80it/s]\n",
      "                 Class     Images  Instances      Box(P          R      mAP50  mAP50-95): 100%|██████████| 4/4 [00:00<00:00,  4.10it/s]"
     ]
    },
    {
     "name": "stdout",
     "output_type": "stream",
     "text": [
      "                   all        114         79      0.971      0.696      0.789      0.411\n"
     ]
    },
    {
     "name": "stderr",
     "output_type": "stream",
     "text": [
      "\n"
     ]
    },
    {
     "name": "stdout",
     "output_type": "stream",
     "text": [
      "\n",
      "      Epoch    GPU_mem   box_loss   cls_loss   dfl_loss  Instances       Size\n"
     ]
    },
    {
     "name": "stderr",
     "output_type": "stream",
     "text": [
      "      18/30      2.32G      1.372      1.129      1.152         45        640: 100%|██████████| 163/163 [00:58<00:00,  2.80it/s]\n",
      "                 Class     Images  Instances      Box(P          R      mAP50  mAP50-95): 100%|██████████| 4/4 [00:00<00:00,  4.07it/s]"
     ]
    },
    {
     "name": "stdout",
     "output_type": "stream",
     "text": [
      "                   all        114         79      0.916      0.722       0.78      0.456\n"
     ]
    },
    {
     "name": "stderr",
     "output_type": "stream",
     "text": [
      "\n"
     ]
    },
    {
     "name": "stdout",
     "output_type": "stream",
     "text": [
      "\n",
      "      Epoch    GPU_mem   box_loss   cls_loss   dfl_loss  Instances       Size\n"
     ]
    },
    {
     "name": "stderr",
     "output_type": "stream",
     "text": [
      "      19/30      2.32G      1.321      1.069      1.131         17        640: 100%|██████████| 163/163 [01:01<00:00,  2.67it/s]\n",
      "                 Class     Images  Instances      Box(P          R      mAP50  mAP50-95): 100%|██████████| 4/4 [00:00<00:00,  4.03it/s]"
     ]
    },
    {
     "name": "stdout",
     "output_type": "stream",
     "text": [
      "                   all        114         79      0.913      0.696      0.785      0.444\n"
     ]
    },
    {
     "name": "stderr",
     "output_type": "stream",
     "text": [
      "\n"
     ]
    },
    {
     "name": "stdout",
     "output_type": "stream",
     "text": [
      "\n",
      "      Epoch    GPU_mem   box_loss   cls_loss   dfl_loss  Instances       Size\n"
     ]
    },
    {
     "name": "stderr",
     "output_type": "stream",
     "text": [
      "      20/30      2.32G      1.294      1.035      1.121         30        640: 100%|██████████| 163/163 [00:58<00:00,  2.77it/s]\n",
      "                 Class     Images  Instances      Box(P          R      mAP50  mAP50-95): 100%|██████████| 4/4 [00:01<00:00,  3.83it/s]"
     ]
    },
    {
     "name": "stdout",
     "output_type": "stream",
     "text": [
      "                   all        114         79      0.913      0.734      0.832      0.464\n"
     ]
    },
    {
     "name": "stderr",
     "output_type": "stream",
     "text": [
      "\n"
     ]
    },
    {
     "name": "stdout",
     "output_type": "stream",
     "text": [
      "Closing dataloader mosaic\n",
      "\n",
      "      Epoch    GPU_mem   box_loss   cls_loss   dfl_loss  Instances       Size\n"
     ]
    },
    {
     "name": "stderr",
     "output_type": "stream",
     "text": [
      "      21/30      2.32G      1.296      1.009      1.106         24        640: 100%|██████████| 163/163 [00:57<00:00,  2.83it/s]\n",
      "                 Class     Images  Instances      Box(P          R      mAP50  mAP50-95): 100%|██████████| 4/4 [00:00<00:00,  4.16it/s]"
     ]
    },
    {
     "name": "stdout",
     "output_type": "stream",
     "text": [
      "                   all        114         79      0.878      0.709      0.787      0.475\n"
     ]
    },
    {
     "name": "stderr",
     "output_type": "stream",
     "text": [
      "\n"
     ]
    },
    {
     "name": "stdout",
     "output_type": "stream",
     "text": [
      "\n",
      "      Epoch    GPU_mem   box_loss   cls_loss   dfl_loss  Instances       Size\n"
     ]
    },
    {
     "name": "stderr",
     "output_type": "stream",
     "text": [
      "      22/30      2.32G      1.294     0.9503      1.111          5        640: 100%|██████████| 163/163 [00:57<00:00,  2.83it/s]\n",
      "                 Class     Images  Instances      Box(P          R      mAP50  mAP50-95): 100%|██████████| 4/4 [00:00<00:00,  4.15it/s]"
     ]
    },
    {
     "name": "stdout",
     "output_type": "stream",
     "text": [
      "                   all        114         79      0.965       0.69        0.8      0.462\n"
     ]
    },
    {
     "name": "stderr",
     "output_type": "stream",
     "text": [
      "\n"
     ]
    },
    {
     "name": "stdout",
     "output_type": "stream",
     "text": [
      "\n",
      "      Epoch    GPU_mem   box_loss   cls_loss   dfl_loss  Instances       Size\n"
     ]
    },
    {
     "name": "stderr",
     "output_type": "stream",
     "text": [
      "      23/30      2.32G      1.269     0.9122      1.087         13        640: 100%|██████████| 163/163 [00:57<00:00,  2.83it/s]\n",
      "                 Class     Images  Instances      Box(P          R      mAP50  mAP50-95): 100%|██████████| 4/4 [00:00<00:00,  4.08it/s]"
     ]
    },
    {
     "name": "stdout",
     "output_type": "stream",
     "text": [
      "                   all        114         79      0.934      0.734      0.855      0.483\n"
     ]
    },
    {
     "name": "stderr",
     "output_type": "stream",
     "text": [
      "\n"
     ]
    },
    {
     "name": "stdout",
     "output_type": "stream",
     "text": [
      "\n",
      "      Epoch    GPU_mem   box_loss   cls_loss   dfl_loss  Instances       Size\n"
     ]
    },
    {
     "name": "stderr",
     "output_type": "stream",
     "text": [
      "      24/30      2.32G      1.217      0.862      1.094          7        640: 100%|██████████| 163/163 [00:57<00:00,  2.83it/s]\n",
      "                 Class     Images  Instances      Box(P          R      mAP50  mAP50-95): 100%|██████████| 4/4 [00:00<00:00,  4.11it/s]"
     ]
    },
    {
     "name": "stdout",
     "output_type": "stream",
     "text": [
      "                   all        114         79      0.923      0.772      0.859       0.49\n"
     ]
    },
    {
     "name": "stderr",
     "output_type": "stream",
     "text": [
      "\n"
     ]
    },
    {
     "name": "stdout",
     "output_type": "stream",
     "text": [
      "\n",
      "      Epoch    GPU_mem   box_loss   cls_loss   dfl_loss  Instances       Size\n"
     ]
    },
    {
     "name": "stderr",
     "output_type": "stream",
     "text": [
      "      25/30      2.32G      1.195     0.8324      1.054          5        640: 100%|██████████| 163/163 [00:57<00:00,  2.83it/s]\n",
      "                 Class     Images  Instances      Box(P          R      mAP50  mAP50-95): 100%|██████████| 4/4 [00:00<00:00,  4.11it/s]"
     ]
    },
    {
     "name": "stdout",
     "output_type": "stream",
     "text": [
      "                   all        114         79      0.964      0.747      0.837      0.479\n"
     ]
    },
    {
     "name": "stderr",
     "output_type": "stream",
     "text": [
      "\n"
     ]
    },
    {
     "name": "stdout",
     "output_type": "stream",
     "text": [
      "\n",
      "      Epoch    GPU_mem   box_loss   cls_loss   dfl_loss  Instances       Size\n"
     ]
    },
    {
     "name": "stderr",
     "output_type": "stream",
     "text": [
      "      26/30      2.32G      1.179     0.8027       1.07          7        640: 100%|██████████| 163/163 [00:57<00:00,  2.82it/s]\n",
      "                 Class     Images  Instances      Box(P          R      mAP50  mAP50-95): 100%|██████████| 4/4 [00:00<00:00,  4.12it/s]"
     ]
    },
    {
     "name": "stdout",
     "output_type": "stream",
     "text": [
      "                   all        114         79      0.953      0.771      0.855      0.507\n"
     ]
    },
    {
     "name": "stderr",
     "output_type": "stream",
     "text": [
      "\n"
     ]
    },
    {
     "name": "stdout",
     "output_type": "stream",
     "text": [
      "\n",
      "      Epoch    GPU_mem   box_loss   cls_loss   dfl_loss  Instances       Size\n"
     ]
    },
    {
     "name": "stderr",
     "output_type": "stream",
     "text": [
      "      27/30      2.32G      1.161     0.7778      1.058         22        640: 100%|██████████| 163/163 [00:57<00:00,  2.82it/s]\n",
      "                 Class     Images  Instances      Box(P          R      mAP50  mAP50-95): 100%|██████████| 4/4 [00:00<00:00,  4.07it/s]"
     ]
    },
    {
     "name": "stdout",
     "output_type": "stream",
     "text": [
      "                   all        114         79      0.939      0.781      0.867      0.472\n"
     ]
    },
    {
     "name": "stderr",
     "output_type": "stream",
     "text": [
      "\n"
     ]
    },
    {
     "name": "stdout",
     "output_type": "stream",
     "text": [
      "\n",
      "      Epoch    GPU_mem   box_loss   cls_loss   dfl_loss  Instances       Size\n"
     ]
    },
    {
     "name": "stderr",
     "output_type": "stream",
     "text": [
      "      28/30      2.32G      1.143     0.7763      1.058          9        640: 100%|██████████| 163/163 [00:58<00:00,  2.80it/s]\n",
      "                 Class     Images  Instances      Box(P          R      mAP50  mAP50-95): 100%|██████████| 4/4 [00:00<00:00,  4.07it/s]"
     ]
    },
    {
     "name": "stdout",
     "output_type": "stream",
     "text": [
      "                   all        114         79      0.953      0.768      0.859       0.49\n"
     ]
    },
    {
     "name": "stderr",
     "output_type": "stream",
     "text": [
      "\n"
     ]
    },
    {
     "name": "stdout",
     "output_type": "stream",
     "text": [
      "\n",
      "      Epoch    GPU_mem   box_loss   cls_loss   dfl_loss  Instances       Size\n"
     ]
    },
    {
     "name": "stderr",
     "output_type": "stream",
     "text": [
      "      29/30      2.32G      1.121     0.7375      1.027         12        640: 100%|██████████| 163/163 [00:57<00:00,  2.81it/s]\n",
      "                 Class     Images  Instances      Box(P          R      mAP50  mAP50-95): 100%|██████████| 4/4 [00:00<00:00,  4.06it/s]"
     ]
    },
    {
     "name": "stdout",
     "output_type": "stream",
     "text": [
      "                   all        114         79       0.92      0.785      0.859      0.488\n"
     ]
    },
    {
     "name": "stderr",
     "output_type": "stream",
     "text": [
      "\n"
     ]
    },
    {
     "name": "stdout",
     "output_type": "stream",
     "text": [
      "\n",
      "      Epoch    GPU_mem   box_loss   cls_loss   dfl_loss  Instances       Size\n"
     ]
    },
    {
     "name": "stderr",
     "output_type": "stream",
     "text": [
      "      30/30      2.32G      1.126     0.7436       1.04         22        640: 100%|██████████| 163/163 [00:58<00:00,  2.80it/s]\n",
      "                 Class     Images  Instances      Box(P          R      mAP50  mAP50-95): 100%|██████████| 4/4 [00:00<00:00,  4.02it/s]"
     ]
    },
    {
     "name": "stdout",
     "output_type": "stream",
     "text": [
      "                   all        114         79      0.949      0.747      0.855      0.508\n"
     ]
    },
    {
     "name": "stderr",
     "output_type": "stream",
     "text": [
      "\n"
     ]
    },
    {
     "name": "stdout",
     "output_type": "stream",
     "text": [
      "\n",
      "30 epochs completed in 0.506 hours.\n",
      "Optimizer stripped from runs\\detect\\yolov8n_v1_train5\\weights\\last.pt, 6.2MB\n",
      "Optimizer stripped from runs\\detect\\yolov8n_v1_train5\\weights\\best.pt, 6.2MB\n",
      "\n",
      "Validating runs\\detect\\yolov8n_v1_train5\\weights\\best.pt...\n",
      "Ultralytics 8.3.62  Python-3.11.11 torch-2.5.1 CUDA:0 (NVIDIA GeForce GTX 1060, 6144MiB)\n",
      "Model summary (fused): 168 layers, 3,006,233 parameters, 0 gradients, 8.1 GFLOPs\n"
     ]
    },
    {
     "name": "stderr",
     "output_type": "stream",
     "text": [
      "                 Class     Images  Instances      Box(P          R      mAP50  mAP50-95): 100%|██████████| 4/4 [00:01<00:00,  3.01it/s]\n"
     ]
    },
    {
     "name": "stdout",
     "output_type": "stream",
     "text": [
      "                   all        114         79      0.949      0.747      0.854      0.507\n",
      "                helmet         42         79      0.949      0.747      0.854      0.507\n",
      "Speed: 0.5ms preprocess, 6.8ms inference, 0.0ms loss, 1.5ms postprocess per image\n",
      "Results saved to \u001b[1mruns\\detect\\yolov8n_v1_train5\u001b[0m\n",
      "Training completed!\n"
     ]
    }
   ],
   "source": [
    "\n",
    "\n",
    "# WORK_DIR 디렉토리 생성\n",
    "os.makedirs(WORK_DIR, exist_ok=True)\n",
    "\n",
    "# 수정된 클래스 설정\n",
    "num_classes = 3\n",
    "classes = ['helmet', 'No-helmet', 'Person']  # Hardhat -> helmet, NO-Hardhat -> No-helmet\n",
    "\n",
    "# data.yaml 파일 생성\n",
    "dict_file = {\n",
    "    'train': os.path.join(INPUT_DIR, 'train/images'),\n",
    "    'val': os.path.join(INPUT_DIR, 'valid/images'),\n",
    "    'test': os.path.join(INPUT_DIR, 'test/images'),\n",
    "    'nc': num_classes,\n",
    "    'names': classes\n",
    "}\n",
    "\n",
    "# data.yaml 저장\n",
    "data_yaml_path = os.path.join(WORK_DIR, 'data.yaml')\n",
    "with open(data_yaml_path, 'w+') as file:\n",
    "    yaml.dump(dict_file, file)\n",
    "\n",
    "print(f\"'data.yaml' 파일이 '{data_yaml_path}'에 저장되었습니다.\")\n",
    "\n",
    "# 라벨 데이터 수정 (Hardhat -> helmet, NO-Hardhat -> No-helmet, Person 그대로, 나머지 제거)\n",
    "ALLOWED_CLASSES = {'0': 'helmet', '2': 'No-helmet', '5': 'Person'}  # 기존 클래스 ID 매핑\n",
    "CLASS_MAPPING = {'0': '0', '2': '1', '5': '2'}  # 새로운 클래스 ID 매핑\n",
    "\n",
    "\n",
    "def update_labels(labels_dir):\n",
    "    for file in os.listdir(labels_dir):\n",
    "        file_path = os.path.join(labels_dir, file)\n",
    "        \n",
    "        updated_lines = []\n",
    "        with open(file_path, 'r') as f:\n",
    "            lines = f.readlines()\n",
    "            for line in lines:\n",
    "                cls_id, *coords = line.split()\n",
    "                if cls_id in ALLOWED_CLASSES:  # 허용된 클래스만 유지\n",
    "                    new_cls_id = CLASS_MAPPING[cls_id]  # 클래스 ID 재매핑\n",
    "                    updated_lines.append(f\"{new_cls_id} \" + \" \".join(coords) + \"\\n\")\n",
    "        \n",
    "        # 라벨 파일 업데이트\n",
    "        with open(file_path, 'w') as f:\n",
    "            f.writelines(updated_lines)\n",
    "\n",
    "\n",
    "# train, valid, test 디렉토리의 라벨 파일 수정\n",
    "for mode in ['train', 'valid', 'test']:\n",
    "    labels_dir = os.path.join(INPUT_DIR, f\"{mode}/labels\")\n",
    "    update_labels(labels_dir)\n",
    "\n",
    "print(\"라벨 파일 수정이 완료되었습니다.\")\n",
    "\n",
    "# 데이터셋 크기 출력\n",
    "for mode in ['train', 'valid', 'test']:\n",
    "    files = glob.glob(os.path.join(INPUT_DIR, mode, 'images', '*'))\n",
    "    print(f'{mode} set size: {len(files)}\\n')\n",
    "\n",
    "# YOLOv8 모델 학습\n",
    "model = YOLO('yolov8n.pt')\n",
    "\n",
    "model.train(\n",
    "    data=data_yaml_path,\n",
    "    task='detect',\n",
    "    imgsz=640,\n",
    "    epochs=30,\n",
    "    batch=16,\n",
    "    mode='train',\n",
    "    name='yolov8n_v1_train'\n",
    ")\n",
    "\n",
    "print(\"Training completed!\")\n"
   ]
  },
  {
   "cell_type": "code",
   "execution_count": 13,
   "metadata": {},
   "outputs": [
    {
     "name": "stdout",
     "output_type": "stream",
     "text": [
      "\n",
      "0: 480x640 1 helmet, 1 No-helmet, 18.2ms\n",
      "Speed: 0.0ms preprocess, 18.2ms inference, 2.0ms postprocess per image at shape (1, 3, 480, 640)\n",
      "\n",
      "0: 480x640 1 helmet, 1 No-helmet, 17.3ms\n",
      "Speed: 1.0ms preprocess, 17.3ms inference, 2.0ms postprocess per image at shape (1, 3, 480, 640)\n",
      "\n",
      "0: 480x640 1 helmet, 3 No-helmets, 18.2ms\n",
      "Speed: 4.5ms preprocess, 18.2ms inference, 4.5ms postprocess per image at shape (1, 3, 480, 640)\n",
      "\n",
      "0: 480x640 1 helmet, 2 No-helmets, 13.4ms\n",
      "Speed: 3.0ms preprocess, 13.4ms inference, 1.5ms postprocess per image at shape (1, 3, 480, 640)\n",
      "\n",
      "0: 480x640 1 helmet, 2 No-helmets, 10.4ms\n",
      "Speed: 3.0ms preprocess, 10.4ms inference, 2.0ms postprocess per image at shape (1, 3, 480, 640)\n",
      "\n",
      "0: 480x640 1 helmet, 2 No-helmets, 10.4ms\n",
      "Speed: 5.1ms preprocess, 10.4ms inference, 2.0ms postprocess per image at shape (1, 3, 480, 640)\n",
      "\n",
      "0: 480x640 1 helmet, 2 No-helmets, 10.2ms\n",
      "Speed: 1.8ms preprocess, 10.2ms inference, 1.7ms postprocess per image at shape (1, 3, 480, 640)\n",
      "\n",
      "0: 480x640 1 helmet, 2 No-helmets, 20.2ms\n",
      "Speed: 6.9ms preprocess, 20.2ms inference, 0.0ms postprocess per image at shape (1, 3, 480, 640)\n",
      "\n",
      "0: 480x640 1 helmet, 2 No-helmets, 27.9ms\n",
      "Speed: 5.6ms preprocess, 27.9ms inference, 0.0ms postprocess per image at shape (1, 3, 480, 640)\n",
      "\n",
      "0: 480x640 1 helmet, 2 No-helmets, 17.1ms\n",
      "Speed: 3.0ms preprocess, 17.1ms inference, 2.5ms postprocess per image at shape (1, 3, 480, 640)\n",
      "\n",
      "0: 480x640 1 helmet, 1 No-helmet, 6.3ms\n",
      "Speed: 2.2ms preprocess, 6.3ms inference, 0.0ms postprocess per image at shape (1, 3, 480, 640)\n",
      "\n",
      "0: 480x640 1 helmet, 1 No-helmet, 7.3ms\n",
      "Speed: 1.0ms preprocess, 7.3ms inference, 0.0ms postprocess per image at shape (1, 3, 480, 640)\n",
      "\n",
      "0: 480x640 1 helmet, 1 No-helmet, 7.7ms\n",
      "Speed: 3.0ms preprocess, 7.7ms inference, 2.0ms postprocess per image at shape (1, 3, 480, 640)\n",
      "\n",
      "0: 480x640 1 helmet, 2 No-helmets, 6.3ms\n",
      "Speed: 1.9ms preprocess, 6.3ms inference, 4.3ms postprocess per image at shape (1, 3, 480, 640)\n",
      "\n",
      "0: 480x640 1 helmet, 1 No-helmet, 12.0ms\n",
      "Speed: 0.0ms preprocess, 12.0ms inference, 0.8ms postprocess per image at shape (1, 3, 480, 640)\n",
      "\n",
      "0: 480x640 1 helmet, 1 No-helmet, 11.0ms\n",
      "Speed: 0.0ms preprocess, 11.0ms inference, 1.0ms postprocess per image at shape (1, 3, 480, 640)\n",
      "\n",
      "0: 480x640 1 helmet, 1 No-helmet, 6.8ms\n",
      "Speed: 2.9ms preprocess, 6.8ms inference, 2.5ms postprocess per image at shape (1, 3, 480, 640)\n",
      "\n",
      "0: 480x640 1 helmet, 1 No-helmet, 9.8ms\n",
      "Speed: 0.0ms preprocess, 9.8ms inference, 1.3ms postprocess per image at shape (1, 3, 480, 640)\n",
      "\n",
      "0: 480x640 1 helmet, 1 No-helmet, 3.6ms\n",
      "Speed: 2.1ms preprocess, 3.6ms inference, 6.9ms postprocess per image at shape (1, 3, 480, 640)\n",
      "\n",
      "0: 480x640 1 helmet, 1 No-helmet, 8.6ms\n",
      "Speed: 0.0ms preprocess, 8.6ms inference, 0.0ms postprocess per image at shape (1, 3, 480, 640)\n",
      "\n",
      "0: 480x640 1 helmet, 1 No-helmet, 9.6ms\n",
      "Speed: 1.8ms preprocess, 9.6ms inference, 0.0ms postprocess per image at shape (1, 3, 480, 640)\n",
      "\n",
      "0: 480x640 1 helmet, 1 No-helmet, 10.3ms\n",
      "Speed: 0.0ms preprocess, 10.3ms inference, 2.4ms postprocess per image at shape (1, 3, 480, 640)\n",
      "\n",
      "0: 480x640 1 helmet, 2 No-helmets, 4.0ms\n",
      "Speed: 1.0ms preprocess, 4.0ms inference, 6.6ms postprocess per image at shape (1, 3, 480, 640)\n",
      "\n",
      "0: 480x640 1 helmet, 1 No-helmet, 8.2ms\n",
      "Speed: 0.0ms preprocess, 8.2ms inference, 1.7ms postprocess per image at shape (1, 3, 480, 640)\n",
      "\n",
      "0: 480x640 1 helmet, 2 No-helmets, 16.4ms\n",
      "Speed: 5.7ms preprocess, 16.4ms inference, 3.5ms postprocess per image at shape (1, 3, 480, 640)\n",
      "\n",
      "0: 480x640 1 helmet, 1 No-helmet, 4.0ms\n",
      "Speed: 1.6ms preprocess, 4.0ms inference, 0.0ms postprocess per image at shape (1, 3, 480, 640)\n",
      "\n",
      "0: 480x640 1 helmet, 1 No-helmet, 11.8ms\n",
      "Speed: 0.0ms preprocess, 11.8ms inference, 0.0ms postprocess per image at shape (1, 3, 480, 640)\n",
      "\n",
      "0: 480x640 1 helmet, 1 No-helmet, 13.7ms\n",
      "Speed: 7.9ms preprocess, 13.7ms inference, 6.2ms postprocess per image at shape (1, 3, 480, 640)\n",
      "\n",
      "0: 480x640 1 helmet, 1 No-helmet, 12.6ms\n",
      "Speed: 3.8ms preprocess, 12.6ms inference, 0.0ms postprocess per image at shape (1, 3, 480, 640)\n",
      "\n",
      "0: 480x640 1 helmet, 1 No-helmet, 5.8ms\n",
      "Speed: 3.0ms preprocess, 5.8ms inference, 4.5ms postprocess per image at shape (1, 3, 480, 640)\n",
      "\n",
      "0: 480x640 1 helmet, 2 No-helmets, 12.6ms\n",
      "Speed: 0.0ms preprocess, 12.6ms inference, 1.8ms postprocess per image at shape (1, 3, 480, 640)\n",
      "\n",
      "0: 480x640 1 helmet, 1 No-helmet, 9.9ms\n",
      "Speed: 0.0ms preprocess, 9.9ms inference, 0.0ms postprocess per image at shape (1, 3, 480, 640)\n",
      "\n",
      "0: 480x640 1 helmet, 1 No-helmet, 15.2ms\n",
      "Speed: 7.3ms preprocess, 15.2ms inference, 4.6ms postprocess per image at shape (1, 3, 480, 640)\n",
      "\n",
      "0: 480x640 1 helmet, 2 No-helmets, 6.6ms\n",
      "Speed: 2.0ms preprocess, 6.6ms inference, 3.9ms postprocess per image at shape (1, 3, 480, 640)\n",
      "\n",
      "0: 480x640 1 helmet, 1 No-helmet, 6.9ms\n",
      "Speed: 1.7ms preprocess, 6.9ms inference, 0.0ms postprocess per image at shape (1, 3, 480, 640)\n",
      "\n",
      "0: 480x640 1 helmet, 1 No-helmet, 4.8ms\n",
      "Speed: 2.0ms preprocess, 4.8ms inference, 0.0ms postprocess per image at shape (1, 3, 480, 640)\n",
      "\n",
      "0: 480x640 1 helmet, 1 No-helmet, 5.0ms\n",
      "Speed: 2.0ms preprocess, 5.0ms inference, 6.6ms postprocess per image at shape (1, 3, 480, 640)\n",
      "\n",
      "0: 480x640 1 helmet, 2 No-helmets, 8.2ms\n",
      "Speed: 0.0ms preprocess, 8.2ms inference, 4.5ms postprocess per image at shape (1, 3, 480, 640)\n",
      "\n",
      "0: 480x640 1 helmet, 1 No-helmet, 3.5ms\n",
      "Speed: 1.5ms preprocess, 3.5ms inference, 6.9ms postprocess per image at shape (1, 3, 480, 640)\n",
      "\n",
      "0: 480x640 1 helmet, 1 No-helmet, 12.1ms\n",
      "Speed: 0.0ms preprocess, 12.1ms inference, 0.0ms postprocess per image at shape (1, 3, 480, 640)\n",
      "\n",
      "0: 480x640 1 helmet, 1 No-helmet, 8.3ms\n",
      "Speed: 0.0ms preprocess, 8.3ms inference, 3.8ms postprocess per image at shape (1, 3, 480, 640)\n",
      "\n",
      "0: 480x640 1 helmet, 1 No-helmet, 13.9ms\n",
      "Speed: 4.5ms preprocess, 13.9ms inference, 6.8ms postprocess per image at shape (1, 3, 480, 640)\n",
      "\n",
      "0: 480x640 1 helmet, 1 No-helmet, 4.5ms\n",
      "Speed: 1.2ms preprocess, 4.5ms inference, 7.1ms postprocess per image at shape (1, 3, 480, 640)\n",
      "\n",
      "0: 480x640 1 helmet, 2 No-helmets, 11.9ms\n",
      "Speed: 0.0ms preprocess, 11.9ms inference, 0.0ms postprocess per image at shape (1, 3, 480, 640)\n",
      "\n",
      "0: 480x640 1 helmet, 1 No-helmet, 12.0ms\n",
      "Speed: 0.0ms preprocess, 12.0ms inference, 0.0ms postprocess per image at shape (1, 3, 480, 640)\n",
      "\n",
      "0: 480x640 1 helmet, 1 No-helmet, 9.4ms\n",
      "Speed: 0.0ms preprocess, 9.4ms inference, 0.0ms postprocess per image at shape (1, 3, 480, 640)\n",
      "\n",
      "0: 480x640 1 helmet, 2 No-helmets, 9.3ms\n",
      "Speed: 0.0ms preprocess, 9.3ms inference, 4.4ms postprocess per image at shape (1, 3, 480, 640)\n",
      "\n",
      "0: 480x640 1 helmet, 2 No-helmets, 10.4ms\n",
      "Speed: 0.0ms preprocess, 10.4ms inference, 3.5ms postprocess per image at shape (1, 3, 480, 640)\n",
      "\n",
      "0: 480x640 1 helmet, 1 No-helmet, 8.6ms\n",
      "Speed: 0.0ms preprocess, 8.6ms inference, 4.2ms postprocess per image at shape (1, 3, 480, 640)\n",
      "\n",
      "0: 480x640 1 helmet, 2 No-helmets, 8.4ms\n",
      "Speed: 0.0ms preprocess, 8.4ms inference, 5.4ms postprocess per image at shape (1, 3, 480, 640)\n",
      "\n",
      "0: 480x640 1 helmet, 1 No-helmet, 7.3ms\n",
      "Speed: 2.0ms preprocess, 7.3ms inference, 4.5ms postprocess per image at shape (1, 3, 480, 640)\n",
      "\n",
      "0: 480x640 1 helmet, 1 No-helmet, 9.1ms\n",
      "Speed: 3.0ms preprocess, 9.1ms inference, 0.0ms postprocess per image at shape (1, 3, 480, 640)\n",
      "\n",
      "0: 480x640 1 helmet, 1 No-helmet, 16.5ms\n",
      "Speed: 5.8ms preprocess, 16.5ms inference, 0.0ms postprocess per image at shape (1, 3, 480, 640)\n",
      "\n",
      "0: 480x640 1 helmet, 2 No-helmets, 4.4ms\n",
      "Speed: 1.2ms preprocess, 4.4ms inference, 0.0ms postprocess per image at shape (1, 3, 480, 640)\n",
      "\n",
      "0: 480x640 1 helmet, 1 No-helmet, 9.3ms\n",
      "Speed: 0.0ms preprocess, 9.3ms inference, 4.7ms postprocess per image at shape (1, 3, 480, 640)\n",
      "\n",
      "0: 480x640 1 helmet, 3 No-helmets, 7.1ms\n",
      "Speed: 2.6ms preprocess, 7.1ms inference, 0.0ms postprocess per image at shape (1, 3, 480, 640)\n",
      "\n",
      "0: 480x640 1 helmet, 2 No-helmets, 3.8ms\n",
      "Speed: 1.5ms preprocess, 3.8ms inference, 0.0ms postprocess per image at shape (1, 3, 480, 640)\n",
      "\n",
      "0: 480x640 1 helmet, 2 No-helmets, 10.8ms\n",
      "Speed: 0.0ms preprocess, 10.8ms inference, 2.0ms postprocess per image at shape (1, 3, 480, 640)\n",
      "\n",
      "0: 480x640 1 helmet, 1 No-helmet, 20.5ms\n",
      "Speed: 0.0ms preprocess, 20.5ms inference, 2.2ms postprocess per image at shape (1, 3, 480, 640)\n",
      "\n",
      "0: 480x640 1 helmet, 1 No-helmet, 5.9ms\n",
      "Speed: 1.2ms preprocess, 5.9ms inference, 4.6ms postprocess per image at shape (1, 3, 480, 640)\n",
      "\n",
      "0: 480x640 1 helmet, 2 No-helmets, 9.3ms\n",
      "Speed: 0.0ms preprocess, 9.3ms inference, 0.0ms postprocess per image at shape (1, 3, 480, 640)\n",
      "\n",
      "0: 480x640 1 helmet, 1 No-helmet, 4.2ms\n",
      "Speed: 0.5ms preprocess, 4.2ms inference, 7.2ms postprocess per image at shape (1, 3, 480, 640)\n",
      "\n",
      "0: 480x640 1 helmet, 1 No-helmet, 7.2ms\n",
      "Speed: 2.0ms preprocess, 7.2ms inference, 0.0ms postprocess per image at shape (1, 3, 480, 640)\n",
      "\n",
      "0: 480x640 1 helmet, 2 No-helmets, 10.7ms\n",
      "Speed: 0.0ms preprocess, 10.7ms inference, 2.0ms postprocess per image at shape (1, 3, 480, 640)\n",
      "\n",
      "0: 480x640 1 helmet, 1 No-helmet, 9.5ms\n",
      "Speed: 0.0ms preprocess, 9.5ms inference, 0.0ms postprocess per image at shape (1, 3, 480, 640)\n",
      "\n",
      "0: 480x640 1 helmet, 2 No-helmets, 9.4ms\n",
      "Speed: 0.0ms preprocess, 9.4ms inference, 4.8ms postprocess per image at shape (1, 3, 480, 640)\n",
      "\n",
      "0: 480x640 1 helmet, 2 No-helmets, 12.0ms\n",
      "Speed: 0.0ms preprocess, 12.0ms inference, 0.0ms postprocess per image at shape (1, 3, 480, 640)\n",
      "\n",
      "0: 480x640 1 helmet, 2 No-helmets, 9.3ms\n",
      "Speed: 0.0ms preprocess, 9.3ms inference, 4.5ms postprocess per image at shape (1, 3, 480, 640)\n",
      "\n",
      "0: 480x640 1 helmet, 3 No-helmets, 11.9ms\n",
      "Speed: 0.0ms preprocess, 11.9ms inference, 0.0ms postprocess per image at shape (1, 3, 480, 640)\n",
      "\n",
      "0: 480x640 1 helmet, 2 No-helmets, 13.6ms\n",
      "Speed: 4.5ms preprocess, 13.6ms inference, 0.0ms postprocess per image at shape (1, 3, 480, 640)\n",
      "\n",
      "0: 480x640 1 helmet, 1 No-helmet, 10.3ms\n",
      "Speed: 1.3ms preprocess, 10.3ms inference, 0.2ms postprocess per image at shape (1, 3, 480, 640)\n",
      "\n",
      "0: 480x640 1 helmet, 1 No-helmet, 6.3ms\n",
      "Speed: 1.0ms preprocess, 6.3ms inference, 4.3ms postprocess per image at shape (1, 3, 480, 640)\n",
      "\n",
      "0: 480x640 1 helmet, 2 No-helmets, 11.9ms\n",
      "Speed: 0.0ms preprocess, 11.9ms inference, 0.0ms postprocess per image at shape (1, 3, 480, 640)\n",
      "\n",
      "0: 480x640 1 helmet, 2 No-helmets, 11.2ms\n",
      "Speed: 7.9ms preprocess, 11.2ms inference, 0.0ms postprocess per image at shape (1, 3, 480, 640)\n",
      "\n",
      "0: 480x640 1 helmet, 3 No-helmets, 5.8ms\n",
      "Speed: 2.6ms preprocess, 5.8ms inference, 0.0ms postprocess per image at shape (1, 3, 480, 640)\n",
      "\n",
      "0: 480x640 1 helmet, 1 No-helmet, 6.9ms\n",
      "Speed: 2.8ms preprocess, 6.9ms inference, 0.0ms postprocess per image at shape (1, 3, 480, 640)\n",
      "\n",
      "0: 480x640 1 helmet, 2 No-helmets, 9.2ms\n",
      "Speed: 0.0ms preprocess, 9.2ms inference, 0.0ms postprocess per image at shape (1, 3, 480, 640)\n",
      "\n",
      "0: 480x640 1 helmet, 1 No-helmet, 7.8ms\n",
      "Speed: 0.0ms preprocess, 7.8ms inference, 4.8ms postprocess per image at shape (1, 3, 480, 640)\n",
      "\n",
      "0: 480x640 1 helmet, 2 No-helmets, 17.5ms\n",
      "Speed: 4.4ms preprocess, 17.5ms inference, 0.0ms postprocess per image at shape (1, 3, 480, 640)\n",
      "\n",
      "0: 480x640 1 helmet, 1 No-helmet, 11.7ms\n",
      "Speed: 7.9ms preprocess, 11.7ms inference, 0.0ms postprocess per image at shape (1, 3, 480, 640)\n",
      "\n",
      "0: 480x640 1 helmet, 3 No-helmets, 13.4ms\n",
      "Speed: 8.4ms preprocess, 13.4ms inference, 0.0ms postprocess per image at shape (1, 3, 480, 640)\n",
      "\n",
      "0: 480x640 1 helmet, 2 No-helmets, 11.1ms\n",
      "Speed: 0.0ms preprocess, 11.1ms inference, 2.0ms postprocess per image at shape (1, 3, 480, 640)\n",
      "\n",
      "0: 480x640 1 helmet, 3 No-helmets, 4.9ms\n",
      "Speed: 2.0ms preprocess, 4.9ms inference, 6.9ms postprocess per image at shape (1, 3, 480, 640)\n",
      "\n",
      "0: 480x640 1 helmet, 2 No-helmets, 3.3ms\n",
      "Speed: 1.7ms preprocess, 3.3ms inference, 7.0ms postprocess per image at shape (1, 3, 480, 640)\n",
      "\n",
      "0: 480x640 1 helmet, 1 No-helmet, 12.0ms\n",
      "Speed: 0.0ms preprocess, 12.0ms inference, 2.6ms postprocess per image at shape (1, 3, 480, 640)\n",
      "\n",
      "0: 480x640 1 helmet, 2 No-helmets, 9.2ms\n",
      "Speed: 0.0ms preprocess, 9.2ms inference, 0.0ms postprocess per image at shape (1, 3, 480, 640)\n",
      "\n",
      "0: 480x640 1 helmet, 2 No-helmets, 9.3ms\n",
      "Speed: 0.0ms preprocess, 9.3ms inference, 4.5ms postprocess per image at shape (1, 3, 480, 640)\n",
      "\n",
      "0: 480x640 1 helmet, 2 No-helmets, 9.2ms\n",
      "Speed: 0.0ms preprocess, 9.2ms inference, 4.4ms postprocess per image at shape (1, 3, 480, 640)\n",
      "\n",
      "0: 480x640 1 helmet, 3 No-helmets, 9.7ms\n",
      "Speed: 0.0ms preprocess, 9.7ms inference, 0.0ms postprocess per image at shape (1, 3, 480, 640)\n",
      "\n",
      "0: 480x640 1 helmet, 1 No-helmet, 9.6ms\n",
      "Speed: 0.0ms preprocess, 9.6ms inference, 0.0ms postprocess per image at shape (1, 3, 480, 640)\n",
      "\n",
      "0: 480x640 1 helmet, 2 No-helmets, 9.1ms\n",
      "Speed: 0.0ms preprocess, 9.1ms inference, 4.8ms postprocess per image at shape (1, 3, 480, 640)\n",
      "\n",
      "0: 480x640 1 helmet, 1 No-helmet, 7.9ms\n",
      "Speed: 0.0ms preprocess, 7.9ms inference, 5.0ms postprocess per image at shape (1, 3, 480, 640)\n",
      "\n",
      "0: 480x640 1 helmet, 3 No-helmets, 10.8ms\n",
      "Speed: 0.0ms preprocess, 10.8ms inference, 2.5ms postprocess per image at shape (1, 3, 480, 640)\n",
      "\n",
      "0: 480x640 1 helmet, 4 No-helmets, 4.0ms\n",
      "Speed: 1.6ms preprocess, 4.0ms inference, 6.8ms postprocess per image at shape (1, 3, 480, 640)\n",
      "\n",
      "0: 480x640 1 helmet, 2 No-helmets, 12.0ms\n",
      "Speed: 0.0ms preprocess, 12.0ms inference, 0.0ms postprocess per image at shape (1, 3, 480, 640)\n",
      "\n",
      "0: 480x640 1 helmet, 1 No-helmet, 5.8ms\n",
      "Speed: 2.8ms preprocess, 5.8ms inference, 0.0ms postprocess per image at shape (1, 3, 480, 640)\n",
      "\n",
      "0: 480x640 1 helmet, 2 No-helmets, 8.2ms\n",
      "Speed: 0.0ms preprocess, 8.2ms inference, 4.6ms postprocess per image at shape (1, 3, 480, 640)\n",
      "\n",
      "0: 480x640 1 helmet, 3 No-helmets, 9.4ms\n",
      "Speed: 0.0ms preprocess, 9.4ms inference, 0.0ms postprocess per image at shape (1, 3, 480, 640)\n",
      "\n",
      "0: 480x640 1 helmet, 3 No-helmets, 11.1ms\n",
      "Speed: 0.0ms preprocess, 11.1ms inference, 2.0ms postprocess per image at shape (1, 3, 480, 640)\n",
      "\n",
      "0: 480x640 1 helmet, 2 No-helmets, 3.8ms\n",
      "Speed: 1.3ms preprocess, 3.8ms inference, 6.8ms postprocess per image at shape (1, 3, 480, 640)\n",
      "\n",
      "0: 480x640 1 helmet, 2 No-helmets, 10.9ms\n",
      "Speed: 0.0ms preprocess, 10.9ms inference, 2.5ms postprocess per image at shape (1, 3, 480, 640)\n",
      "\n",
      "0: 480x640 1 helmet, 2 No-helmets, 6.8ms\n",
      "Speed: 2.5ms preprocess, 6.8ms inference, 4.5ms postprocess per image at shape (1, 3, 480, 640)\n",
      "\n",
      "0: 480x640 1 helmet, 1 No-helmet, 7.0ms\n",
      "Speed: 0.0ms preprocess, 7.0ms inference, 4.4ms postprocess per image at shape (1, 3, 480, 640)\n",
      "\n",
      "0: 480x640 1 helmet, 3 No-helmets, 8.8ms\n",
      "Speed: 0.0ms preprocess, 8.8ms inference, 0.0ms postprocess per image at shape (1, 3, 480, 640)\n",
      "\n",
      "0: 480x640 1 helmet, 2 No-helmets, 11.1ms\n",
      "Speed: 0.0ms preprocess, 11.1ms inference, 1.2ms postprocess per image at shape (1, 3, 480, 640)\n",
      "\n",
      "0: 480x640 1 helmet, 3 No-helmets, 11.8ms\n",
      "Speed: 0.0ms preprocess, 11.8ms inference, 0.0ms postprocess per image at shape (1, 3, 480, 640)\n",
      "\n",
      "0: 480x640 1 helmet, 2 No-helmets, 9.0ms\n",
      "Speed: 0.0ms preprocess, 9.0ms inference, 0.0ms postprocess per image at shape (1, 3, 480, 640)\n",
      "\n",
      "0: 480x640 1 helmet, 2 No-helmets, 9.3ms\n",
      "Speed: 2.4ms preprocess, 9.3ms inference, 0.0ms postprocess per image at shape (1, 3, 480, 640)\n",
      "\n",
      "0: 480x640 1 helmet, 3 No-helmets, 10.9ms\n",
      "Speed: 0.0ms preprocess, 10.9ms inference, 1.3ms postprocess per image at shape (1, 3, 480, 640)\n",
      "\n",
      "0: 480x640 1 helmet, 2 No-helmets, 5.9ms\n",
      "Speed: 1.0ms preprocess, 5.9ms inference, 6.8ms postprocess per image at shape (1, 3, 480, 640)\n",
      "\n",
      "0: 480x640 1 helmet, 1 No-helmet, 11.7ms\n",
      "Speed: 0.0ms preprocess, 11.7ms inference, 0.0ms postprocess per image at shape (1, 3, 480, 640)\n",
      "\n",
      "0: 480x640 1 helmet, 2 No-helmets, 4.5ms\n",
      "Speed: 1.4ms preprocess, 4.5ms inference, 6.9ms postprocess per image at shape (1, 3, 480, 640)\n",
      "\n",
      "0: 480x640 1 helmet, 2 No-helmets, 10.9ms\n",
      "Speed: 0.0ms preprocess, 10.9ms inference, 1.2ms postprocess per image at shape (1, 3, 480, 640)\n",
      "\n",
      "0: 480x640 1 helmet, 2 No-helmets, 4.3ms\n",
      "Speed: 2.0ms preprocess, 4.3ms inference, 0.0ms postprocess per image at shape (1, 3, 480, 640)\n",
      "\n",
      "0: 480x640 1 helmet, 2 No-helmets, 6.9ms\n",
      "Speed: 2.0ms preprocess, 6.9ms inference, 0.0ms postprocess per image at shape (1, 3, 480, 640)\n",
      "\n",
      "0: 480x640 1 helmet, 2 No-helmets, 8.8ms\n",
      "Speed: 0.0ms preprocess, 8.8ms inference, 4.1ms postprocess per image at shape (1, 3, 480, 640)\n",
      "\n",
      "0: 480x640 1 helmet, 2 No-helmets, 6.7ms\n",
      "Speed: 6.9ms preprocess, 6.7ms inference, 6.8ms postprocess per image at shape (1, 3, 480, 640)\n",
      "\n",
      "0: 480x640 1 helmet, 2 No-helmets, 11.6ms\n",
      "Speed: 0.0ms preprocess, 11.6ms inference, 0.0ms postprocess per image at shape (1, 3, 480, 640)\n",
      "\n",
      "0: 480x640 1 helmet, 2 No-helmets, 10.0ms\n",
      "Speed: 0.0ms preprocess, 10.0ms inference, 3.8ms postprocess per image at shape (1, 3, 480, 640)\n",
      "\n",
      "0: 480x640 1 helmet, 1 No-helmet, 10.0ms\n",
      "Speed: 0.0ms preprocess, 10.0ms inference, 3.8ms postprocess per image at shape (1, 3, 480, 640)\n",
      "\n",
      "0: 480x640 1 helmet, 3 No-helmets, 6.3ms\n",
      "Speed: 1.4ms preprocess, 6.3ms inference, 4.3ms postprocess per image at shape (1, 3, 480, 640)\n",
      "\n",
      "0: 480x640 1 helmet, 2 No-helmets, 4.9ms\n",
      "Speed: 2.0ms preprocess, 4.9ms inference, 6.8ms postprocess per image at shape (1, 3, 480, 640)\n",
      "\n",
      "0: 480x640 1 helmet, 2 No-helmets, 10.4ms\n",
      "Speed: 0.0ms preprocess, 10.4ms inference, 0.0ms postprocess per image at shape (1, 3, 480, 640)\n",
      "\n",
      "0: 480x640 1 helmet, 2 No-helmets, 8.2ms\n",
      "Speed: 0.0ms preprocess, 8.2ms inference, 4.5ms postprocess per image at shape (1, 3, 480, 640)\n",
      "\n",
      "0: 480x640 1 helmet, 2 No-helmets, 4.1ms\n",
      "Speed: 0.6ms preprocess, 4.1ms inference, 6.9ms postprocess per image at shape (1, 3, 480, 640)\n",
      "\n",
      "0: 480x640 1 helmet, 3 No-helmets, 11.7ms\n",
      "Speed: 0.0ms preprocess, 11.7ms inference, 0.0ms postprocess per image at shape (1, 3, 480, 640)\n",
      "\n",
      "0: 480x640 1 helmet, 3 No-helmets, 5.8ms\n",
      "Speed: 1.4ms preprocess, 5.8ms inference, 0.0ms postprocess per image at shape (1, 3, 480, 640)\n",
      "\n",
      "0: 480x640 1 helmet, 2 No-helmets, 9.2ms\n",
      "Speed: 0.0ms preprocess, 9.2ms inference, 4.7ms postprocess per image at shape (1, 3, 480, 640)\n",
      "\n",
      "0: 480x640 1 helmet, 2 No-helmets, 12.3ms\n",
      "Speed: 0.0ms preprocess, 12.3ms inference, 0.0ms postprocess per image at shape (1, 3, 480, 640)\n",
      "\n",
      "0: 480x640 1 helmet, 2 No-helmets, 9.6ms\n",
      "Speed: 0.0ms preprocess, 9.6ms inference, 4.2ms postprocess per image at shape (1, 3, 480, 640)\n",
      "\n",
      "0: 480x640 1 helmet, 3 No-helmets, 3.9ms\n",
      "Speed: 1.9ms preprocess, 3.9ms inference, 6.9ms postprocess per image at shape (1, 3, 480, 640)\n",
      "\n",
      "0: 480x640 1 helmet, 2 No-helmets, 5.6ms\n",
      "Speed: 0.0ms preprocess, 5.6ms inference, 6.8ms postprocess per image at shape (1, 3, 480, 640)\n",
      "\n",
      "0: 480x640 1 helmet, 2 No-helmets, 12.0ms\n",
      "Speed: 0.0ms preprocess, 12.0ms inference, 0.3ms postprocess per image at shape (1, 3, 480, 640)\n",
      "\n",
      "0: 480x640 1 helmet, 2 No-helmets, 4.7ms\n",
      "Speed: 2.0ms preprocess, 4.7ms inference, 6.9ms postprocess per image at shape (1, 3, 480, 640)\n",
      "\n",
      "0: 480x640 1 helmet, 2 No-helmets, 8.4ms\n",
      "Speed: 0.0ms preprocess, 8.4ms inference, 4.5ms postprocess per image at shape (1, 3, 480, 640)\n",
      "\n",
      "0: 480x640 1 helmet, 2 No-helmets, 10.7ms\n",
      "Speed: 0.0ms preprocess, 10.7ms inference, 3.1ms postprocess per image at shape (1, 3, 480, 640)\n",
      "\n",
      "0: 480x640 1 helmet, 2 No-helmets, 12.5ms\n",
      "Speed: 0.0ms preprocess, 12.5ms inference, 0.0ms postprocess per image at shape (1, 3, 480, 640)\n",
      "\n",
      "0: 480x640 1 helmet, 2 No-helmets, 10.7ms\n",
      "Speed: 2.0ms preprocess, 10.7ms inference, 0.0ms postprocess per image at shape (1, 3, 480, 640)\n",
      "\n",
      "0: 480x640 1 helmet, 3 No-helmets, 3.9ms\n",
      "Speed: 1.0ms preprocess, 3.9ms inference, 7.9ms postprocess per image at shape (1, 3, 480, 640)\n",
      "\n",
      "0: 480x640 1 helmet, 2 No-helmets, 27.5ms\n",
      "Speed: 0.0ms preprocess, 27.5ms inference, 0.0ms postprocess per image at shape (1, 3, 480, 640)\n",
      "\n",
      "0: 480x640 1 helmet, 1 No-helmet, 9.4ms\n",
      "Speed: 0.0ms preprocess, 9.4ms inference, 4.3ms postprocess per image at shape (1, 3, 480, 640)\n",
      "\n",
      "0: 480x640 1 helmet, 2 No-helmets, 12.0ms\n",
      "Speed: 0.0ms preprocess, 12.0ms inference, 0.0ms postprocess per image at shape (1, 3, 480, 640)\n",
      "\n",
      "0: 480x640 1 helmet, 2 No-helmets, 10.5ms\n",
      "Speed: 0.0ms preprocess, 10.5ms inference, 3.2ms postprocess per image at shape (1, 3, 480, 640)\n",
      "\n",
      "0: 480x640 1 helmet, 2 No-helmets, 11.4ms\n",
      "Speed: 1.3ms preprocess, 11.4ms inference, 0.0ms postprocess per image at shape (1, 3, 480, 640)\n",
      "\n",
      "0: 480x640 1 helmet, 2 No-helmets, 11.7ms\n",
      "Speed: 0.0ms preprocess, 11.7ms inference, 0.0ms postprocess per image at shape (1, 3, 480, 640)\n",
      "\n",
      "0: 480x640 1 helmet, 4 No-helmets, 13.6ms\n",
      "Speed: 0.0ms preprocess, 13.6ms inference, 0.2ms postprocess per image at shape (1, 3, 480, 640)\n",
      "\n",
      "0: 480x640 1 helmet, 3 No-helmets, 9.3ms\n",
      "Speed: 0.0ms preprocess, 9.3ms inference, 3.5ms postprocess per image at shape (1, 3, 480, 640)\n",
      "\n",
      "0: 480x640 1 helmet, 3 No-helmets, 10.4ms\n",
      "Speed: 1.3ms preprocess, 10.4ms inference, 0.0ms postprocess per image at shape (1, 3, 480, 640)\n",
      "\n",
      "0: 480x640 1 helmet, 4 No-helmets, 11.8ms\n",
      "Speed: 0.0ms preprocess, 11.8ms inference, 0.9ms postprocess per image at shape (1, 3, 480, 640)\n",
      "\n",
      "0: 480x640 1 helmet, 3 No-helmets, 4.1ms\n",
      "Speed: 0.8ms preprocess, 4.1ms inference, 6.8ms postprocess per image at shape (1, 3, 480, 640)\n",
      "\n",
      "0: 480x640 1 helmet, 3 No-helmets, 4.8ms\n",
      "Speed: 1.0ms preprocess, 4.8ms inference, 6.8ms postprocess per image at shape (1, 3, 480, 640)\n",
      "\n",
      "0: 480x640 1 helmet, 3 No-helmets, 4.6ms\n",
      "Speed: 2.0ms preprocess, 4.6ms inference, 0.0ms postprocess per image at shape (1, 3, 480, 640)\n",
      "\n",
      "0: 480x640 1 helmet, 3 No-helmets, 9.3ms\n",
      "Speed: 1.8ms preprocess, 9.3ms inference, 0.0ms postprocess per image at shape (1, 3, 480, 640)\n",
      "\n",
      "0: 480x640 1 helmet, 3 No-helmets, 3.8ms\n",
      "Speed: 0.8ms preprocess, 3.8ms inference, 6.8ms postprocess per image at shape (1, 3, 480, 640)\n",
      "\n",
      "0: 480x640 1 helmet, 3 No-helmets, 12.2ms\n",
      "Speed: 0.0ms preprocess, 12.2ms inference, 0.0ms postprocess per image at shape (1, 3, 480, 640)\n",
      "\n",
      "0: 480x640 1 helmet, 3 No-helmets, 4.1ms\n",
      "Speed: 1.1ms preprocess, 4.1ms inference, 6.8ms postprocess per image at shape (1, 3, 480, 640)\n",
      "\n",
      "0: 480x640 1 helmet, 3 No-helmets, 12.2ms\n",
      "Speed: 0.0ms preprocess, 12.2ms inference, 0.0ms postprocess per image at shape (1, 3, 480, 640)\n",
      "\n",
      "0: 480x640 1 helmet, 3 No-helmets, 13.5ms\n",
      "Speed: 0.0ms preprocess, 13.5ms inference, 0.3ms postprocess per image at shape (1, 3, 480, 640)\n",
      "\n",
      "0: 480x640 1 helmet, 3 No-helmets, 4.3ms\n",
      "Speed: 0.5ms preprocess, 4.3ms inference, 7.3ms postprocess per image at shape (1, 3, 480, 640)\n",
      "\n",
      "0: 480x640 1 helmet, 3 No-helmets, 12.3ms\n",
      "Speed: 0.0ms preprocess, 12.3ms inference, 2.3ms postprocess per image at shape (1, 3, 480, 640)\n",
      "\n",
      "0: 480x640 1 helmet, 2 No-helmets, 13.5ms\n",
      "Speed: 0.0ms preprocess, 13.5ms inference, 0.3ms postprocess per image at shape (1, 3, 480, 640)\n",
      "\n",
      "0: 480x640 1 helmet, 2 No-helmets, 10.8ms\n",
      "Speed: 0.9ms preprocess, 10.8ms inference, 0.0ms postprocess per image at shape (1, 3, 480, 640)\n",
      "\n",
      "0: 480x640 1 helmet, 3 No-helmets, 9.3ms\n",
      "Speed: 0.0ms preprocess, 9.3ms inference, 4.5ms postprocess per image at shape (1, 3, 480, 640)\n",
      "\n",
      "0: 480x640 1 helmet, 3 No-helmets, 11.2ms\n",
      "Speed: 0.0ms preprocess, 11.2ms inference, 0.0ms postprocess per image at shape (1, 3, 480, 640)\n",
      "\n",
      "0: 480x640 1 helmet, 2 No-helmets, 8.4ms\n",
      "Speed: 0.3ms preprocess, 8.4ms inference, 4.6ms postprocess per image at shape (1, 3, 480, 640)\n",
      "\n",
      "0: 480x640 1 helmet, 2 No-helmets, 9.1ms\n",
      "Speed: 0.0ms preprocess, 9.1ms inference, 4.6ms postprocess per image at shape (1, 3, 480, 640)\n",
      "\n",
      "0: 480x640 1 helmet, 2 No-helmets, 13.5ms\n",
      "Speed: 4.6ms preprocess, 13.5ms inference, 0.0ms postprocess per image at shape (1, 3, 480, 640)\n",
      "\n",
      "0: 480x640 1 helmet, 2 No-helmets, 9.5ms\n",
      "Speed: 0.0ms preprocess, 9.5ms inference, 4.4ms postprocess per image at shape (1, 3, 480, 640)\n",
      "\n",
      "0: 480x640 1 helmet, 2 No-helmets, 13.1ms\n",
      "Speed: 0.0ms preprocess, 13.1ms inference, 0.0ms postprocess per image at shape (1, 3, 480, 640)\n",
      "\n",
      "0: 480x640 1 helmet, 2 No-helmets, 9.2ms\n",
      "Speed: 0.0ms preprocess, 9.2ms inference, 4.6ms postprocess per image at shape (1, 3, 480, 640)\n",
      "\n",
      "0: 480x640 1 helmet, 2 No-helmets, 9.6ms\n",
      "Speed: 2.0ms preprocess, 9.6ms inference, 0.0ms postprocess per image at shape (1, 3, 480, 640)\n",
      "\n",
      "0: 480x640 1 helmet, 2 No-helmets, 13.4ms\n",
      "Speed: 0.0ms preprocess, 13.4ms inference, 0.3ms postprocess per image at shape (1, 3, 480, 640)\n",
      "\n",
      "0: 480x640 1 helmet, 3 No-helmets, 10.0ms\n",
      "Speed: 1.7ms preprocess, 10.0ms inference, 0.0ms postprocess per image at shape (1, 3, 480, 640)\n",
      "\n",
      "0: 480x640 1 helmet, 2 No-helmets, 11.2ms\n",
      "Speed: 0.0ms preprocess, 11.2ms inference, 2.0ms postprocess per image at shape (1, 3, 480, 640)\n",
      "\n",
      "0: 480x640 1 helmet, 2 No-helmets, 11.7ms\n",
      "Speed: 0.0ms preprocess, 11.7ms inference, 2.1ms postprocess per image at shape (1, 3, 480, 640)\n",
      "\n",
      "0: 480x640 1 helmet, 2 No-helmets, 8.3ms\n",
      "Speed: 0.0ms preprocess, 8.3ms inference, 4.5ms postprocess per image at shape (1, 3, 480, 640)\n",
      "\n",
      "0: 480x640 1 helmet, 2 No-helmets, 11.1ms\n",
      "Speed: 1.5ms preprocess, 11.1ms inference, 0.0ms postprocess per image at shape (1, 3, 480, 640)\n",
      "\n",
      "0: 480x640 1 helmet, 1 No-helmet, 12.9ms\n",
      "Speed: 0.0ms preprocess, 12.9ms inference, 2.0ms postprocess per image at shape (1, 3, 480, 640)\n",
      "\n",
      "0: 480x640 1 helmet, 2 No-helmets, 9.6ms\n",
      "Speed: 1.7ms preprocess, 9.6ms inference, 0.0ms postprocess per image at shape (1, 3, 480, 640)\n",
      "\n",
      "0: 480x640 1 helmet, 2 No-helmets, 4.4ms\n",
      "Speed: 1.5ms preprocess, 4.4ms inference, 6.6ms postprocess per image at shape (1, 3, 480, 640)\n",
      "\n",
      "0: 480x640 1 helmet, 2 No-helmets, 9.0ms\n",
      "Speed: 0.0ms preprocess, 9.0ms inference, 4.5ms postprocess per image at shape (1, 3, 480, 640)\n",
      "\n",
      "0: 480x640 1 helmet, 2 No-helmets, 9.0ms\n",
      "Speed: 1.9ms preprocess, 9.0ms inference, 3.0ms postprocess per image at shape (1, 3, 480, 640)\n",
      "\n",
      "0: 480x640 1 helmet, 2 No-helmets, 9.3ms\n",
      "Speed: 0.0ms preprocess, 9.3ms inference, 4.5ms postprocess per image at shape (1, 3, 480, 640)\n",
      "\n",
      "0: 480x640 1 helmet, 2 No-helmets, 7.9ms\n",
      "Speed: 0.0ms preprocess, 7.9ms inference, 4.3ms postprocess per image at shape (1, 3, 480, 640)\n",
      "\n",
      "0: 480x640 1 helmet, 2 No-helmets, 9.6ms\n",
      "Speed: 0.0ms preprocess, 9.6ms inference, 4.0ms postprocess per image at shape (1, 3, 480, 640)\n",
      "\n",
      "0: 480x640 1 helmet, 2 No-helmets, 8.1ms\n",
      "Speed: 0.0ms preprocess, 8.1ms inference, 4.8ms postprocess per image at shape (1, 3, 480, 640)\n",
      "\n",
      "0: 480x640 1 helmet, 2 No-helmets, 12.9ms\n",
      "Speed: 0.0ms preprocess, 12.9ms inference, 0.0ms postprocess per image at shape (1, 3, 480, 640)\n",
      "\n",
      "0: 480x640 1 helmet, 2 No-helmets, 9.1ms\n",
      "Speed: 0.0ms preprocess, 9.1ms inference, 4.7ms postprocess per image at shape (1, 3, 480, 640)\n",
      "\n",
      "0: 480x640 1 helmet, 2 No-helmets, 3.8ms\n",
      "Speed: 2.0ms preprocess, 3.8ms inference, 6.7ms postprocess per image at shape (1, 3, 480, 640)\n",
      "\n",
      "0: 480x640 1 helmet, 2 No-helmets, 12.1ms\n",
      "Speed: 0.0ms preprocess, 12.1ms inference, 0.0ms postprocess per image at shape (1, 3, 480, 640)\n",
      "\n",
      "0: 480x640 1 helmet, 2 No-helmets, 6.8ms\n",
      "Speed: 0.0ms preprocess, 6.8ms inference, 0.0ms postprocess per image at shape (1, 3, 480, 640)\n",
      "\n",
      "0: 480x640 1 helmet, 2 No-helmets, 9.2ms\n",
      "Speed: 0.0ms preprocess, 9.2ms inference, 0.0ms postprocess per image at shape (1, 3, 480, 640)\n",
      "\n",
      "0: 480x640 1 helmet, 2 No-helmets, 6.7ms\n",
      "Speed: 0.3ms preprocess, 6.7ms inference, 0.0ms postprocess per image at shape (1, 3, 480, 640)\n",
      "\n",
      "0: 480x640 1 helmet, 2 No-helmets, 9.2ms\n",
      "Speed: 4.1ms preprocess, 9.2ms inference, 0.0ms postprocess per image at shape (1, 3, 480, 640)\n",
      "\n",
      "0: 480x640 1 helmet, 2 No-helmets, 9.0ms\n",
      "Speed: 0.0ms preprocess, 9.0ms inference, 4.6ms postprocess per image at shape (1, 3, 480, 640)\n",
      "\n",
      "0: 480x640 1 helmet, 2 No-helmets, 10.9ms\n",
      "Speed: 1.8ms preprocess, 10.9ms inference, 0.0ms postprocess per image at shape (1, 3, 480, 640)\n",
      "\n",
      "0: 480x640 1 helmet, 2 No-helmets, 17.5ms\n",
      "Speed: 2.1ms preprocess, 17.5ms inference, 2.5ms postprocess per image at shape (1, 3, 480, 640)\n",
      "\n",
      "0: 480x640 1 helmet, 2 No-helmets, 13.9ms\n",
      "Speed: 0.0ms preprocess, 13.9ms inference, 7.0ms postprocess per image at shape (1, 3, 480, 640)\n",
      "\n",
      "0: 480x640 1 helmet, 2 No-helmets, 10.9ms\n",
      "Speed: 1.5ms preprocess, 10.9ms inference, 8.2ms postprocess per image at shape (1, 3, 480, 640)\n",
      "\n",
      "0: 480x640 1 helmet, 2 No-helmets, 17.8ms\n",
      "Speed: 0.0ms preprocess, 17.8ms inference, 2.1ms postprocess per image at shape (1, 3, 480, 640)\n",
      "\n",
      "0: 480x640 1 helmet, 2 No-helmets, 18.2ms\n",
      "Speed: 0.3ms preprocess, 18.2ms inference, 2.4ms postprocess per image at shape (1, 3, 480, 640)\n",
      "\n",
      "0: 480x640 1 helmet, 2 No-helmets, 13.9ms\n",
      "Speed: 0.0ms preprocess, 13.9ms inference, 6.9ms postprocess per image at shape (1, 3, 480, 640)\n",
      "\n",
      "0: 480x640 1 helmet, 2 No-helmets, 11.3ms\n",
      "Speed: 8.2ms preprocess, 11.3ms inference, 9.1ms postprocess per image at shape (1, 3, 480, 640)\n",
      "\n",
      "0: 480x640 1 helmet, 2 No-helmets, 9.2ms\n",
      "Speed: 2.6ms preprocess, 9.2ms inference, 6.9ms postprocess per image at shape (1, 3, 480, 640)\n",
      "\n",
      "0: 480x640 1 helmet, 2 No-helmets, 13.5ms\n",
      "Speed: 2.6ms preprocess, 13.5ms inference, 0.0ms postprocess per image at shape (1, 3, 480, 640)\n",
      "\n",
      "0: 480x640 1 helmet, 2 No-helmets, 11.9ms\n",
      "Speed: 3.7ms preprocess, 11.9ms inference, 4.0ms postprocess per image at shape (1, 3, 480, 640)\n",
      "\n",
      "0: 480x640 1 helmet, 2 No-helmets, 10.8ms\n",
      "Speed: 1.2ms preprocess, 10.8ms inference, 6.8ms postprocess per image at shape (1, 3, 480, 640)\n",
      "\n",
      "0: 480x640 1 helmet, 2 No-helmets, 12.0ms\n",
      "Speed: 0.0ms preprocess, 12.0ms inference, 6.9ms postprocess per image at shape (1, 3, 480, 640)\n",
      "\n",
      "0: 480x640 1 helmet, 2 No-helmets, 19.4ms\n",
      "Speed: 0.0ms preprocess, 19.4ms inference, 0.0ms postprocess per image at shape (1, 3, 480, 640)\n",
      "\n",
      "0: 480x640 1 helmet, 2 No-helmets, 13.7ms\n",
      "Speed: 0.0ms preprocess, 13.7ms inference, 7.2ms postprocess per image at shape (1, 3, 480, 640)\n",
      "\n",
      "0: 480x640 1 helmet, 3 No-helmets, 14.0ms\n",
      "Speed: 0.8ms preprocess, 14.0ms inference, 5.0ms postprocess per image at shape (1, 3, 480, 640)\n",
      "\n",
      "0: 480x640 1 helmet, 2 No-helmets, 13.7ms\n",
      "Speed: 0.0ms preprocess, 13.7ms inference, 9.0ms postprocess per image at shape (1, 3, 480, 640)\n",
      "\n",
      "0: 480x640 1 helmet, 2 No-helmets, 12.6ms\n",
      "Speed: 0.0ms preprocess, 12.6ms inference, 6.6ms postprocess per image at shape (1, 3, 480, 640)\n",
      "\n",
      "0: 480x640 1 helmet, 2 No-helmets, 18.8ms\n",
      "Speed: 0.9ms preprocess, 18.8ms inference, 1.3ms postprocess per image at shape (1, 3, 480, 640)\n",
      "\n",
      "0: 480x640 1 helmet, 2 No-helmets, 13.7ms\n",
      "Speed: 0.0ms preprocess, 13.7ms inference, 6.9ms postprocess per image at shape (1, 3, 480, 640)\n",
      "\n",
      "0: 480x640 1 helmet, 2 No-helmets, 14.3ms\n",
      "Speed: 3.2ms preprocess, 14.3ms inference, 3.1ms postprocess per image at shape (1, 3, 480, 640)\n",
      "\n",
      "0: 480x640 1 helmet, 1 No-helmet, 17.5ms\n",
      "Speed: 1.8ms preprocess, 17.5ms inference, 3.2ms postprocess per image at shape (1, 3, 480, 640)\n",
      "\n",
      "0: 480x640 1 helmet, 1 No-helmet, 12.2ms\n",
      "Speed: 1.8ms preprocess, 12.2ms inference, 6.1ms postprocess per image at shape (1, 3, 480, 640)\n",
      "\n",
      "0: 480x640 1 helmet, 2 No-helmets, 13.7ms\n",
      "Speed: 4.6ms preprocess, 13.7ms inference, 2.8ms postprocess per image at shape (1, 3, 480, 640)\n",
      "\n",
      "0: 480x640 1 helmet, 2 No-helmets, 10.9ms\n",
      "Speed: 2.0ms preprocess, 10.9ms inference, 6.6ms postprocess per image at shape (1, 3, 480, 640)\n",
      "\n",
      "0: 480x640 1 helmet, 2 No-helmets, 17.3ms\n",
      "Speed: 1.7ms preprocess, 17.3ms inference, 3.2ms postprocess per image at shape (1, 3, 480, 640)\n",
      "\n",
      "0: 480x640 1 helmet, 2 No-helmets, 20.7ms\n",
      "Speed: 0.0ms preprocess, 20.7ms inference, 3.1ms postprocess per image at shape (1, 3, 480, 640)\n",
      "\n",
      "0: 480x640 1 helmet, 2 No-helmets, 10.7ms\n",
      "Speed: 2.0ms preprocess, 10.7ms inference, 0.0ms postprocess per image at shape (1, 3, 480, 640)\n",
      "\n",
      "0: 480x640 1 helmet, 1 No-helmet, 19.1ms\n",
      "Speed: 0.0ms preprocess, 19.1ms inference, 0.6ms postprocess per image at shape (1, 3, 480, 640)\n",
      "\n",
      "0: 480x640 1 helmet, 1 No-helmet, 20.6ms\n",
      "Speed: 0.0ms preprocess, 20.6ms inference, 0.0ms postprocess per image at shape (1, 3, 480, 640)\n",
      "\n",
      "0: 480x640 1 helmet, 2 No-helmets, 16.6ms\n",
      "Speed: 0.0ms preprocess, 16.6ms inference, 4.6ms postprocess per image at shape (1, 3, 480, 640)\n",
      "\n",
      "0: 480x640 1 helmet, 2 No-helmets, 11.0ms\n",
      "Speed: 2.6ms preprocess, 11.0ms inference, 0.0ms postprocess per image at shape (1, 3, 480, 640)\n",
      "\n",
      "0: 480x640 1 helmet, 1 No-helmet, 10.1ms\n",
      "Speed: 1.4ms preprocess, 10.1ms inference, 8.3ms postprocess per image at shape (1, 3, 480, 640)\n",
      "\n",
      "0: 480x640 1 helmet, 1 No-helmet, 14.5ms\n",
      "Speed: 4.2ms preprocess, 14.5ms inference, 1.0ms postprocess per image at shape (1, 3, 480, 640)\n",
      "\n",
      "0: 480x640 1 helmet, 2 No-helmets, 19.5ms\n",
      "Speed: 0.0ms preprocess, 19.5ms inference, 0.0ms postprocess per image at shape (1, 3, 480, 640)\n",
      "\n",
      "0: 480x640 1 helmet, 1 No-helmet, 11.2ms\n",
      "Speed: 4.4ms preprocess, 11.2ms inference, 0.0ms postprocess per image at shape (1, 3, 480, 640)\n",
      "\n",
      "0: 480x640 1 helmet, 2 No-helmets, 10.2ms\n",
      "Speed: 2.5ms preprocess, 10.2ms inference, 8.3ms postprocess per image at shape (1, 3, 480, 640)\n",
      "\n",
      "0: 480x640 1 helmet, 1 No-helmet, 20.6ms\n",
      "Speed: 0.0ms preprocess, 20.6ms inference, 0.0ms postprocess per image at shape (1, 3, 480, 640)\n",
      "\n",
      "0: 480x640 1 helmet, 2 No-helmets, 19.8ms\n",
      "Speed: 0.0ms preprocess, 19.8ms inference, 0.0ms postprocess per image at shape (1, 3, 480, 640)\n",
      "\n",
      "0: 480x640 1 helmet, 2 No-helmets, 14.1ms\n",
      "Speed: 0.0ms preprocess, 14.1ms inference, 8.0ms postprocess per image at shape (1, 3, 480, 640)\n",
      "\n",
      "0: 480x640 1 helmet, 1 No-helmet, 16.4ms\n",
      "Speed: 2.5ms preprocess, 16.4ms inference, 3.0ms postprocess per image at shape (1, 3, 480, 640)\n",
      "\n",
      "0: 480x640 1 helmet, 2 No-helmets, 17.0ms\n",
      "Speed: 1.6ms preprocess, 17.0ms inference, 0.0ms postprocess per image at shape (1, 3, 480, 640)\n",
      "\n",
      "0: 480x640 1 helmet, 2 No-helmets, 11.6ms\n",
      "Speed: 0.0ms preprocess, 11.6ms inference, 6.8ms postprocess per image at shape (1, 3, 480, 640)\n",
      "\n",
      "0: 480x640 1 helmet, 2 No-helmets, 19.3ms\n",
      "Speed: 0.0ms preprocess, 19.3ms inference, 0.0ms postprocess per image at shape (1, 3, 480, 640)\n",
      "\n",
      "0: 480x640 1 helmet, 2 No-helmets, 12.8ms\n",
      "Speed: 0.0ms preprocess, 12.8ms inference, 7.0ms postprocess per image at shape (1, 3, 480, 640)\n",
      "\n",
      "0: 480x640 1 helmet, 2 No-helmets, 16.5ms\n",
      "Speed: 4.0ms preprocess, 16.5ms inference, 3.9ms postprocess per image at shape (1, 3, 480, 640)\n",
      "\n",
      "0: 480x640 1 helmet, 2 No-helmets, 17.6ms\n",
      "Speed: 1.2ms preprocess, 17.6ms inference, 3.0ms postprocess per image at shape (1, 3, 480, 640)\n",
      "\n",
      "0: 480x640 1 helmet, 2 No-helmets, 12.6ms\n",
      "Speed: 2.4ms preprocess, 12.6ms inference, 5.0ms postprocess per image at shape (1, 3, 480, 640)\n",
      "\n",
      "0: 480x640 1 helmet, 1 No-helmet, 8.7ms\n",
      "Speed: 3.0ms preprocess, 8.7ms inference, 9.3ms postprocess per image at shape (1, 3, 480, 640)\n",
      "\n",
      "0: 480x640 1 helmet, 1 No-helmet, 13.3ms\n",
      "Speed: 6.2ms preprocess, 13.3ms inference, 7.2ms postprocess per image at shape (1, 3, 480, 640)\n",
      "\n",
      "0: 480x640 1 helmet, 2 No-helmets, 12.8ms\n",
      "Speed: 0.0ms preprocess, 12.8ms inference, 6.8ms postprocess per image at shape (1, 3, 480, 640)\n",
      "\n",
      "0: 480x640 1 helmet, 2 No-helmets, 9.6ms\n",
      "Speed: 1.6ms preprocess, 9.6ms inference, 7.2ms postprocess per image at shape (1, 3, 480, 640)\n",
      "\n",
      "0: 480x640 1 helmet, 1 No-helmet, 10.4ms\n",
      "Speed: 0.5ms preprocess, 10.4ms inference, 9.2ms postprocess per image at shape (1, 3, 480, 640)\n",
      "\n",
      "0: 480x640 1 helmet, 1 No-helmet, 20.3ms\n",
      "Speed: 0.0ms preprocess, 20.3ms inference, 0.0ms postprocess per image at shape (1, 3, 480, 640)\n",
      "\n",
      "0: 480x640 1 helmet, 2 No-helmets, 16.8ms\n",
      "Speed: 1.5ms preprocess, 16.8ms inference, 0.0ms postprocess per image at shape (1, 3, 480, 640)\n",
      "\n",
      "0: 480x640 1 helmet, 2 No-helmets, 12.5ms\n",
      "Speed: 0.0ms preprocess, 12.5ms inference, 7.1ms postprocess per image at shape (1, 3, 480, 640)\n",
      "\n",
      "0: 480x640 1 helmet, 2 No-helmets, 10.5ms\n",
      "Speed: 4.0ms preprocess, 10.5ms inference, 7.3ms postprocess per image at shape (1, 3, 480, 640)\n",
      "\n",
      "0: 480x640 1 helmet, 2 No-helmets, 15.9ms\n",
      "Speed: 3.0ms preprocess, 15.9ms inference, 0.0ms postprocess per image at shape (1, 3, 480, 640)\n",
      "\n",
      "0: 480x640 1 helmet, 2 No-helmets, 20.4ms\n",
      "Speed: 0.0ms preprocess, 20.4ms inference, 0.0ms postprocess per image at shape (1, 3, 480, 640)\n",
      "\n",
      "0: 480x640 1 helmet, 2 No-helmets, 14.9ms\n",
      "Speed: 3.5ms preprocess, 14.9ms inference, 3.0ms postprocess per image at shape (1, 3, 480, 640)\n",
      "\n",
      "0: 480x640 1 helmet, 2 No-helmets, 16.5ms\n",
      "Speed: 4.1ms preprocess, 16.5ms inference, 3.1ms postprocess per image at shape (1, 3, 480, 640)\n",
      "\n",
      "0: 480x640 1 helmet, 2 No-helmets, 13.9ms\n",
      "Speed: 3.1ms preprocess, 13.9ms inference, 0.0ms postprocess per image at shape (1, 3, 480, 640)\n",
      "\n",
      "0: 480x640 1 helmet, 2 No-helmets, 12.7ms\n",
      "Speed: 0.0ms preprocess, 12.7ms inference, 7.5ms postprocess per image at shape (1, 3, 480, 640)\n",
      "\n",
      "0: 480x640 1 helmet, 2 No-helmets, 20.6ms\n",
      "Speed: 2.8ms preprocess, 20.6ms inference, 7.3ms postprocess per image at shape (1, 3, 480, 640)\n",
      "\n",
      "0: 480x640 1 helmet, 2 No-helmets, 33.4ms\n",
      "Speed: 7.3ms preprocess, 33.4ms inference, 6.7ms postprocess per image at shape (1, 3, 480, 640)\n",
      "\n",
      "0: 480x640 1 helmet, 2 No-helmets, 17.4ms\n",
      "Speed: 7.0ms preprocess, 17.4ms inference, 10.4ms postprocess per image at shape (1, 3, 480, 640)\n",
      "\n",
      "0: 480x640 1 helmet, 3 No-helmets, 10.0ms\n",
      "Speed: 5.8ms preprocess, 10.0ms inference, 8.8ms postprocess per image at shape (1, 3, 480, 640)\n",
      "\n",
      "0: 480x640 1 helmet, 3 No-helmets, 14.0ms\n",
      "Speed: 0.2ms preprocess, 14.0ms inference, 8.9ms postprocess per image at shape (1, 3, 480, 640)\n",
      "\n",
      "0: 480x640 1 helmet, 2 No-helmets, 13.9ms\n",
      "Speed: 6.5ms preprocess, 13.9ms inference, 6.9ms postprocess per image at shape (1, 3, 480, 640)\n",
      "\n",
      "0: 480x640 1 helmet, 2 No-helmets, 21.5ms\n",
      "Speed: 7.6ms preprocess, 21.5ms inference, 2.7ms postprocess per image at shape (1, 3, 480, 640)\n",
      "\n",
      "0: 480x640 1 helmet, 2 No-helmets, 13.7ms\n",
      "Speed: 5.8ms preprocess, 13.7ms inference, 0.0ms postprocess per image at shape (1, 3, 480, 640)\n",
      "\n",
      "0: 480x640 1 helmet, 3 No-helmets, 18.5ms\n",
      "Speed: 2.1ms preprocess, 18.5ms inference, 0.6ms postprocess per image at shape (1, 3, 480, 640)\n",
      "\n",
      "0: 480x640 1 helmet, 1 No-helmet, 15.5ms\n",
      "Speed: 6.7ms preprocess, 15.5ms inference, 4.3ms postprocess per image at shape (1, 3, 480, 640)\n",
      "\n",
      "0: 480x640 1 helmet, 2 No-helmets, 14.0ms\n",
      "Speed: 0.0ms preprocess, 14.0ms inference, 4.4ms postprocess per image at shape (1, 3, 480, 640)\n",
      "\n",
      "0: 480x640 1 helmet, 1 No-helmet, 14.7ms\n",
      "Speed: 1.8ms preprocess, 14.7ms inference, 0.0ms postprocess per image at shape (1, 3, 480, 640)\n",
      "\n",
      "0: 480x640 1 helmet, 2 No-helmets, 18.1ms\n",
      "Speed: 0.0ms preprocess, 18.1ms inference, 1.7ms postprocess per image at shape (1, 3, 480, 640)\n",
      "\n",
      "0: 480x640 1 helmet, 1 No-helmet, 14.4ms\n",
      "Speed: 2.4ms preprocess, 14.4ms inference, 2.0ms postprocess per image at shape (1, 3, 480, 640)\n",
      "\n",
      "0: 480x640 1 helmet, 1 No-helmet, 16.8ms\n",
      "Speed: 2.6ms preprocess, 16.8ms inference, 2.6ms postprocess per image at shape (1, 3, 480, 640)\n",
      "\n",
      "0: 480x640 1 helmet, 2 No-helmets, 9.3ms\n",
      "Speed: 2.0ms preprocess, 9.3ms inference, 7.5ms postprocess per image at shape (1, 3, 480, 640)\n",
      "\n",
      "0: 480x640 1 helmet, 1 No-helmet, 13.1ms\n",
      "Speed: 3.1ms preprocess, 13.1ms inference, 6.8ms postprocess per image at shape (1, 3, 480, 640)\n",
      "\n",
      "0: 480x640 1 helmet, 2 No-helmets, 12.7ms\n",
      "Speed: 3.0ms preprocess, 12.7ms inference, 6.8ms postprocess per image at shape (1, 3, 480, 640)\n",
      "\n",
      "0: 480x640 1 helmet, 1 No-helmet, 9.0ms\n",
      "Speed: 3.2ms preprocess, 9.0ms inference, 8.0ms postprocess per image at shape (1, 3, 480, 640)\n",
      "\n",
      "0: 480x640 1 helmet, 1 No-helmet, 16.1ms\n",
      "Speed: 0.0ms preprocess, 16.1ms inference, 3.9ms postprocess per image at shape (1, 3, 480, 640)\n",
      "\n",
      "0: 480x640 1 helmet, 2 No-helmets, 12.2ms\n",
      "Speed: 3.4ms preprocess, 12.2ms inference, 0.0ms postprocess per image at shape (1, 3, 480, 640)\n",
      "\n",
      "0: 480x640 1 helmet, 2 No-helmets, 16.7ms\n",
      "Speed: 3.2ms preprocess, 16.7ms inference, 2.4ms postprocess per image at shape (1, 3, 480, 640)\n",
      "\n",
      "0: 480x640 1 helmet, 2 No-helmets, 13.9ms\n",
      "Speed: 3.4ms preprocess, 13.9ms inference, 0.0ms postprocess per image at shape (1, 3, 480, 640)\n",
      "\n",
      "0: 480x640 1 helmet, 4 No-helmets, 18.9ms\n",
      "Speed: 0.0ms preprocess, 18.9ms inference, 0.0ms postprocess per image at shape (1, 3, 480, 640)\n",
      "\n",
      "0: 480x640 1 helmet, 3 No-helmets, 14.3ms\n",
      "Speed: 0.0ms preprocess, 14.3ms inference, 6.5ms postprocess per image at shape (1, 3, 480, 640)\n",
      "\n",
      "0: 480x640 1 helmet, 3 No-helmets, 13.9ms\n",
      "Speed: 2.5ms preprocess, 13.9ms inference, 3.0ms postprocess per image at shape (1, 3, 480, 640)\n",
      "\n",
      "0: 480x640 1 helmet, 2 No-helmets, 15.7ms\n",
      "Speed: 1.5ms preprocess, 15.7ms inference, 2.9ms postprocess per image at shape (1, 3, 480, 640)\n",
      "\n",
      "0: 480x640 1 helmet, 3 No-helmets, 10.9ms\n",
      "Speed: 1.5ms preprocess, 10.9ms inference, 6.6ms postprocess per image at shape (1, 3, 480, 640)\n",
      "\n",
      "0: 480x640 1 helmet, 2 No-helmets, 17.5ms\n",
      "Speed: 2.1ms preprocess, 17.5ms inference, 2.5ms postprocess per image at shape (1, 3, 480, 640)\n",
      "\n",
      "0: 480x640 1 helmet, 2 No-helmets, 16.0ms\n",
      "Speed: 1.0ms preprocess, 16.0ms inference, 2.7ms postprocess per image at shape (1, 3, 480, 640)\n",
      "\n",
      "0: 480x640 1 helmet, 1 No-helmet, 14.4ms\n",
      "Speed: 2.4ms preprocess, 14.4ms inference, 0.0ms postprocess per image at shape (1, 3, 480, 640)\n",
      "\n",
      "0: 480x640 1 helmet, 3 No-helmets, 18.7ms\n",
      "Speed: 0.0ms preprocess, 18.7ms inference, 0.0ms postprocess per image at shape (1, 3, 480, 640)\n",
      "\n",
      "0: 480x640 1 helmet, 2 No-helmets, 18.9ms\n",
      "Speed: 1.3ms preprocess, 18.9ms inference, 1.2ms postprocess per image at shape (1, 3, 480, 640)\n",
      "\n",
      "0: 480x640 1 helmet, 2 No-helmets, 10.1ms\n",
      "Speed: 2.9ms preprocess, 10.1ms inference, 7.0ms postprocess per image at shape (1, 3, 480, 640)\n",
      "\n",
      "0: 480x640 1 helmet, 2 No-helmets, 13.6ms\n",
      "Speed: 2.6ms preprocess, 13.6ms inference, 2.7ms postprocess per image at shape (1, 3, 480, 640)\n",
      "\n",
      "0: 480x640 1 helmet, 2 No-helmets, 17.6ms\n",
      "Speed: 1.2ms preprocess, 17.6ms inference, 2.9ms postprocess per image at shape (1, 3, 480, 640)\n",
      "\n",
      "0: 480x640 1 helmet, 2 No-helmets, 14.6ms\n",
      "Speed: 4.0ms preprocess, 14.6ms inference, 2.4ms postprocess per image at shape (1, 3, 480, 640)\n",
      "\n",
      "0: 480x640 1 helmet, 4 No-helmets, 21.2ms\n",
      "Speed: 0.0ms preprocess, 21.2ms inference, 3.5ms postprocess per image at shape (1, 3, 480, 640)\n",
      "\n",
      "0: 480x640 1 helmet, 2 No-helmets, 10.0ms\n",
      "Speed: 2.0ms preprocess, 10.0ms inference, 7.5ms postprocess per image at shape (1, 3, 480, 640)\n",
      "\n",
      "0: 480x640 1 helmet, 2 No-helmets, 16.8ms\n",
      "Speed: 1.5ms preprocess, 16.8ms inference, 2.8ms postprocess per image at shape (1, 3, 480, 640)\n",
      "\n",
      "0: 480x640 1 helmet, 2 No-helmets, 14.1ms\n",
      "Speed: 3.0ms preprocess, 14.1ms inference, 2.7ms postprocess per image at shape (1, 3, 480, 640)\n",
      "\n",
      "0: 480x640 1 helmet, 2 No-helmets, 16.8ms\n",
      "Speed: 3.0ms preprocess, 16.8ms inference, 2.0ms postprocess per image at shape (1, 3, 480, 640)\n",
      "\n",
      "0: 480x640 1 helmet, 3 No-helmets, 18.4ms\n",
      "Speed: 0.0ms preprocess, 18.4ms inference, 1.6ms postprocess per image at shape (1, 3, 480, 640)\n",
      "\n",
      "0: 480x640 1 helmet, 2 No-helmets, 15.4ms\n",
      "Speed: 1.6ms preprocess, 15.4ms inference, 2.1ms postprocess per image at shape (1, 3, 480, 640)\n",
      "\n",
      "0: 480x640 1 helmet, 3 No-helmets, 11.4ms\n",
      "Speed: 1.3ms preprocess, 11.4ms inference, 9.4ms postprocess per image at shape (1, 3, 480, 640)\n",
      "\n",
      "0: 480x640 1 helmet, 3 No-helmets, 9.6ms\n",
      "Speed: 2.0ms preprocess, 9.6ms inference, 7.8ms postprocess per image at shape (1, 3, 480, 640)\n",
      "\n",
      "0: 480x640 1 helmet, 2 No-helmets, 13.2ms\n",
      "Speed: 0.0ms preprocess, 13.2ms inference, 7.6ms postprocess per image at shape (1, 3, 480, 640)\n",
      "\n",
      "0: 480x640 1 helmet, 1 No-helmet, 14.4ms\n",
      "Speed: 0.0ms preprocess, 14.4ms inference, 0.0ms postprocess per image at shape (1, 3, 480, 640)\n",
      "\n",
      "0: 480x640 1 helmet, 2 No-helmets, 9.8ms\n",
      "Speed: 3.0ms preprocess, 9.8ms inference, 9.7ms postprocess per image at shape (1, 3, 480, 640)\n",
      "\n",
      "0: 480x640 1 helmet, 2 No-helmets, 9.1ms\n",
      "Speed: 3.0ms preprocess, 9.1ms inference, 7.4ms postprocess per image at shape (1, 3, 480, 640)\n",
      "\n",
      "0: 480x640 1 helmet, 2 No-helmets, 14.4ms\n",
      "Speed: 0.0ms preprocess, 14.4ms inference, 5.6ms postprocess per image at shape (1, 3, 480, 640)\n",
      "\n",
      "0: 480x640 1 helmet, 2 No-helmets, 13.8ms\n",
      "Speed: 3.0ms preprocess, 13.8ms inference, 0.0ms postprocess per image at shape (1, 3, 480, 640)\n",
      "\n",
      "0: 480x640 1 helmet, 2 No-helmets, 9.6ms\n",
      "Speed: 2.0ms preprocess, 9.6ms inference, 7.6ms postprocess per image at shape (1, 3, 480, 640)\n",
      "\n",
      "0: 480x640 1 helmet, 2 No-helmets, 17.1ms\n",
      "Speed: 2.7ms preprocess, 17.1ms inference, 2.7ms postprocess per image at shape (1, 3, 480, 640)\n",
      "\n",
      "0: 480x640 1 helmet, 3 No-helmets, 10.9ms\n",
      "Speed: 2.4ms preprocess, 10.9ms inference, 7.0ms postprocess per image at shape (1, 3, 480, 640)\n",
      "\n",
      "0: 480x640 1 helmet, 2 No-helmets, 14.0ms\n",
      "Speed: 2.9ms preprocess, 14.0ms inference, 3.0ms postprocess per image at shape (1, 3, 480, 640)\n",
      "\n",
      "0: 480x640 1 helmet, 2 No-helmets, 17.4ms\n",
      "Speed: 0.0ms preprocess, 17.4ms inference, 4.0ms postprocess per image at shape (1, 3, 480, 640)\n",
      "\n",
      "0: 480x640 1 helmet, 1 No-helmet, 17.5ms\n",
      "Speed: 1.9ms preprocess, 17.5ms inference, 3.0ms postprocess per image at shape (1, 3, 480, 640)\n",
      "\n",
      "0: 480x640 1 helmet, 2 No-helmets, 13.6ms\n",
      "Speed: 3.0ms preprocess, 13.6ms inference, 3.7ms postprocess per image at shape (1, 3, 480, 640)\n",
      "\n",
      "0: 480x640 1 helmet, 2 No-helmets, 18.2ms\n",
      "Speed: 1.4ms preprocess, 18.2ms inference, 2.7ms postprocess per image at shape (1, 3, 480, 640)\n",
      "\n",
      "0: 480x640 1 helmet, 2 No-helmets, 16.3ms\n",
      "Speed: 0.3ms preprocess, 16.3ms inference, 1.6ms postprocess per image at shape (1, 3, 480, 640)\n",
      "\n",
      "0: 480x640 1 helmet, 1 No-helmet, 15.1ms\n",
      "Speed: 4.0ms preprocess, 15.1ms inference, 4.8ms postprocess per image at shape (1, 3, 480, 640)\n",
      "\n",
      "0: 480x640 1 helmet, 1 No-helmet, 14.3ms\n",
      "Speed: 2.0ms preprocess, 14.3ms inference, 3.8ms postprocess per image at shape (1, 3, 480, 640)\n",
      "\n",
      "0: 480x640 1 helmet, 1 No-helmet, 17.1ms\n",
      "Speed: 0.0ms preprocess, 17.1ms inference, 2.0ms postprocess per image at shape (1, 3, 480, 640)\n",
      "\n",
      "0: 480x640 1 helmet, 2 No-helmets, 18.2ms\n",
      "Speed: 3.3ms preprocess, 18.2ms inference, 0.7ms postprocess per image at shape (1, 3, 480, 640)\n",
      "\n",
      "0: 480x640 1 helmet, 2 No-helmets, 17.5ms\n",
      "Speed: 0.0ms preprocess, 17.5ms inference, 3.3ms postprocess per image at shape (1, 3, 480, 640)\n",
      "\n",
      "0: 480x640 1 helmet, 2 No-helmets, 12.2ms\n",
      "Speed: 2.0ms preprocess, 12.2ms inference, 0.0ms postprocess per image at shape (1, 3, 480, 640)\n",
      "\n",
      "0: 480x640 1 helmet, 1 No-helmet, 16.2ms\n",
      "Speed: 5.5ms preprocess, 16.2ms inference, 2.7ms postprocess per image at shape (1, 3, 480, 640)\n",
      "\n",
      "0: 480x640 1 helmet, 2 No-helmets, 16.6ms\n",
      "Speed: 3.3ms preprocess, 16.6ms inference, 2.0ms postprocess per image at shape (1, 3, 480, 640)\n",
      "\n",
      "0: 480x640 1 helmet, 2 No-helmets, 16.2ms\n",
      "Speed: 2.0ms preprocess, 16.2ms inference, 3.5ms postprocess per image at shape (1, 3, 480, 640)\n",
      "\n",
      "0: 480x640 1 helmet, 2 No-helmets, 17.4ms\n",
      "Speed: 0.0ms preprocess, 17.4ms inference, 2.9ms postprocess per image at shape (1, 3, 480, 640)\n",
      "\n",
      "0: 480x640 1 helmet, 1 No-helmet, 19.0ms\n",
      "Speed: 8.3ms preprocess, 19.0ms inference, 0.0ms postprocess per image at shape (1, 3, 480, 640)\n",
      "\n",
      "0: 480x640 1 helmet, 2 No-helmets, 11.1ms\n",
      "Speed: 2.0ms preprocess, 11.1ms inference, 6.6ms postprocess per image at shape (1, 3, 480, 640)\n",
      "\n",
      "0: 480x640 1 helmet, 2 No-helmets, 14.2ms\n",
      "Speed: 4.7ms preprocess, 14.2ms inference, 0.0ms postprocess per image at shape (1, 3, 480, 640)\n",
      "\n",
      "0: 480x640 1 helmet, 1 No-helmet, 12.3ms\n",
      "Speed: 0.7ms preprocess, 12.3ms inference, 7.0ms postprocess per image at shape (1, 3, 480, 640)\n",
      "\n",
      "0: 480x640 1 helmet, 2 No-helmets, 14.3ms\n",
      "Speed: 0.0ms preprocess, 14.3ms inference, 0.0ms postprocess per image at shape (1, 3, 480, 640)\n",
      "\n",
      "0: 480x640 1 helmet, 2 No-helmets, 12.7ms\n",
      "Speed: 3.2ms preprocess, 12.7ms inference, 0.0ms postprocess per image at shape (1, 3, 480, 640)\n",
      "\n",
      "0: 480x640 1 helmet, 1 No-helmet, 9.1ms\n",
      "Speed: 2.9ms preprocess, 9.1ms inference, 8.3ms postprocess per image at shape (1, 3, 480, 640)\n",
      "\n",
      "0: 480x640 1 helmet, 2 No-helmets, 14.1ms\n",
      "Speed: 3.0ms preprocess, 14.1ms inference, 3.0ms postprocess per image at shape (1, 3, 480, 640)\n",
      "\n",
      "0: 480x640 1 helmet, 2 No-helmets, 16.2ms\n",
      "Speed: 0.2ms preprocess, 16.2ms inference, 2.9ms postprocess per image at shape (1, 3, 480, 640)\n",
      "\n",
      "0: 480x640 1 helmet, 3 No-helmets, 13.6ms\n",
      "Speed: 2.3ms preprocess, 13.6ms inference, 0.0ms postprocess per image at shape (1, 3, 480, 640)\n",
      "\n",
      "0: 480x640 1 helmet, 3 No-helmets, 10.4ms\n",
      "Speed: 2.5ms preprocess, 10.4ms inference, 7.6ms postprocess per image at shape (1, 3, 480, 640)\n",
      "\n",
      "0: 480x640 1 helmet, 2 No-helmets, 14.1ms\n",
      "Speed: 2.8ms preprocess, 14.1ms inference, 3.0ms postprocess per image at shape (1, 3, 480, 640)\n",
      "\n",
      "0: 480x640 1 helmet, 1 No-helmet, 14.2ms\n",
      "Speed: 2.4ms preprocess, 14.2ms inference, 3.8ms postprocess per image at shape (1, 3, 480, 640)\n",
      "\n",
      "0: 480x640 1 helmet, 1 No-helmet, 15.8ms\n",
      "Speed: 3.5ms preprocess, 15.8ms inference, 2.5ms postprocess per image at shape (1, 3, 480, 640)\n",
      "\n",
      "0: 480x640 1 helmet, 2 No-helmets, 18.4ms\n",
      "Speed: 0.0ms preprocess, 18.4ms inference, 1.6ms postprocess per image at shape (1, 3, 480, 640)\n",
      "\n",
      "0: 480x640 1 helmet, 3 No-helmets, 20.1ms\n",
      "Speed: 0.0ms preprocess, 20.1ms inference, 2.0ms postprocess per image at shape (1, 3, 480, 640)\n",
      "\n",
      "0: 480x640 1 helmet, 2 No-helmets, 16.3ms\n",
      "Speed: 0.0ms preprocess, 16.3ms inference, 2.9ms postprocess per image at shape (1, 3, 480, 640)\n",
      "\n",
      "0: 480x640 1 helmet, 2 No-helmets, 14.4ms\n",
      "Speed: 0.0ms preprocess, 14.4ms inference, 0.0ms postprocess per image at shape (1, 3, 480, 640)\n",
      "\n",
      "0: 480x640 1 helmet, 2 No-helmets, 16.9ms\n",
      "Speed: 1.7ms preprocess, 16.9ms inference, 2.8ms postprocess per image at shape (1, 3, 480, 640)\n",
      "\n",
      "0: 480x640 1 helmet, 2 No-helmets, 12.1ms\n",
      "Speed: 3.1ms preprocess, 12.1ms inference, 6.3ms postprocess per image at shape (1, 3, 480, 640)\n",
      "\n",
      "0: 480x640 1 helmet, 2 No-helmets, 23.2ms\n",
      "Speed: 7.8ms preprocess, 23.2ms inference, 2.4ms postprocess per image at shape (1, 3, 480, 640)\n"
     ]
    }
   ],
   "source": [
    "from ultralytics import YOLO\n",
    "import cv2\n",
    "\n",
    "# 학습된 모델 로드\n",
    "model = YOLO('runs/detect/yolov8n_v1_train/weights/best.pt')  # 학습 완료된 모델 경로\n",
    "\n",
    "# OpenCV를 사용하여 웹캠 열기\n",
    "cap = cv2.VideoCapture(0)  # 0은 기본 카메라. 다른 카메라를 사용하려면 1 또는 다른 번호로 변경\n",
    "\n",
    "if not cap.isOpened():\n",
    "    print(\"Error: Could not open webcam.\")\n",
    "    exit()\n",
    "\n",
    "# 카메라에서 실시간 객체 탐지\n",
    "while True:\n",
    "    ret, frame = cap.read()\n",
    "    if not ret:\n",
    "        print(\"Error: Failed to capture image.\")\n",
    "        break\n",
    "\n",
    "    # YOLO 모델로 프레임 추론\n",
    "    results = model.predict(source=frame, save=False, show=False)\n",
    "\n",
    "    # 탐지 결과를 그리기\n",
    "    annotated_frame = results[0].plot()  # 결과를 그린 프레임\n",
    "\n",
    "    # 화면에 표시\n",
    "    cv2.imshow('YOLOv8 Real-time Detection', annotated_frame)\n",
    "\n",
    "    # 'q' 키를 누르면 종료\n",
    "    if cv2.waitKey(1) & 0xFF == ord('q'):\n",
    "        break\n",
    "\n",
    "# 자원 해제\n",
    "cap.release()\n",
    "cv2.destroyAllWindows()\n"
   ]
  }
 ],
 "metadata": {
  "kernelspec": {
   "display_name": "ultralytics-env",
   "language": "python",
   "name": "python3"
  },
  "language_info": {
   "codemirror_mode": {
    "name": "ipython",
    "version": 3
   },
   "file_extension": ".py",
   "mimetype": "text/x-python",
   "name": "python",
   "nbconvert_exporter": "python",
   "pygments_lexer": "ipython3",
   "version": "3.11.11"
  }
 },
 "nbformat": 4,
 "nbformat_minor": 2
}
